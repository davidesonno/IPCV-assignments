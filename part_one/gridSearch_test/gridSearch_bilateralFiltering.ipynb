{
 "cells": [
  {
   "cell_type": "code",
   "execution_count": 6,
   "metadata": {},
   "outputs": [
    {
     "name": "stderr",
     "output_type": "stream",
     "text": [
      "Testing Combinations:  65%|██████▍   | 30068/46400 [1:48:14<58:47,  4.63it/s]      \n"
     ]
    },
    {
     "ename": "KeyboardInterrupt",
     "evalue": "",
     "output_type": "error",
     "traceback": [
      "\u001b[0;31m---------------------------------------------------------------------------\u001b[0m",
      "\u001b[0;31mKeyboardInterrupt\u001b[0m                         Traceback (most recent call last)",
      "Cell \u001b[0;32mIn[6], line 29\u001b[0m\n\u001b[1;32m     27\u001b[0m \u001b[38;5;28;01mwith\u001b[39;00m tqdm(total\u001b[38;5;241m=\u001b[39mtotal_iterations, desc\u001b[38;5;241m=\u001b[39m\u001b[38;5;124m\"\u001b[39m\u001b[38;5;124mTesting Combinations\u001b[39m\u001b[38;5;124m\"\u001b[39m) \u001b[38;5;28;01mas\u001b[39;00m pbar:\n\u001b[1;32m     28\u001b[0m     \u001b[38;5;28;01mfor\u001b[39;00m params \u001b[38;5;129;01min\u001b[39;00m ParameterGrid(param_grid):\n\u001b[0;32m---> 29\u001b[0m         filtered_image \u001b[38;5;241m=\u001b[39m \u001b[43mcv2\u001b[49m\u001b[38;5;241;43m.\u001b[39;49m\u001b[43mbilateralFilter\u001b[49m\u001b[43m(\u001b[49m\u001b[43minput_image\u001b[49m\u001b[43m,\u001b[49m\u001b[43m \u001b[49m\u001b[38;5;241;43m*\u001b[39;49m\u001b[38;5;241;43m*\u001b[39;49m\u001b[43m(\u001b[49m\u001b[43mparams\u001b[49m\u001b[43m)\u001b[49m\u001b[43m)\u001b[49m\n\u001b[1;32m     30\u001b[0m         \u001b[38;5;66;03m# Calcola una qualche metrica di qualità dell'immagine filtrata, ad esempio l'errore quadratico medio\u001b[39;00m\n\u001b[1;32m     31\u001b[0m         score \u001b[38;5;241m=\u001b[39m np\u001b[38;5;241m.\u001b[39mmean((input_image_denoised \u001b[38;5;241m-\u001b[39m filtered_image) \u001b[38;5;241m*\u001b[39m\u001b[38;5;241m*\u001b[39m \u001b[38;5;241m2\u001b[39m)\n",
      "\u001b[0;31mKeyboardInterrupt\u001b[0m: "
     ]
    }
   ],
   "source": [
    "import matplotlib.pyplot as plt\n",
    "import numpy as np\n",
    "import cv2\n",
    "from sklearn.model_selection import ParameterGrid\n",
    "from tqdm import tqdm\n",
    "\n",
    "# Carica l'immagine di input\n",
    "noisy_image_path = \"/Users/pelle/Desktop/scene4.png\"                       # -> Inseire i path \n",
    "denoised_image_path = \"/Users/pelle/Desktop/scene4_denoised_online.png\"    # -> Inseire i path\n",
    "\n",
    "input_image = cv2.imread(noisy_image_path)              \n",
    "input_image_denoised = cv2.imread(denoised_image_path)  \n",
    "\n",
    "# Definisci il range dei parametri da testare\n",
    "param_grid = {\n",
    "    'd': [*range(1, 30, 1)],               # -> inserire i range\n",
    "    'sigmaColor': [*range(10, 800, 20)],    # -> inserire i range\n",
    "    'sigmaSpace': [*range(10, 800, 20)]     # -> inserire i range\n",
    "}\n",
    "\n",
    " # Calcola il numero totale di iterazioni\n",
    "total_iterations = len(param_grid['d']) * len(param_grid['sigmaColor']) * len(param_grid['sigmaSpace'])\n",
    "\n",
    "# Prova tutte le possibili combinazioni di parametri\n",
    "best_score = float('inf')\n",
    "best_params = None\n",
    "with tqdm(total=total_iterations, desc=\"Testing Combinations\") as pbar:\n",
    "    for params in ParameterGrid(param_grid):\n",
    "        filtered_image = cv2.bilateralFilter(input_image, **(params))\n",
    "        # Calcola una qualche metrica di qualità dell'immagine filtrata, ad esempio l'errore quadratico medio\n",
    "        score = np.mean((input_image_denoised - filtered_image) ** 2)\n",
    "        # Aggiorna i parametri se otteniamo una migliore qualità dell'immagine filtrata\n",
    "        if score < best_score:\n",
    "            best_score = score\n",
    "            best_params = params\n",
    "        # Aggiorna la barra di avanzamento\n",
    "        pbar.update(1)\n",
    "\n",
    "print(\"Migliori parametri:\", best_params)\n",
    "\n",
    "# Applica il bilateral filtering con i migliori parametri\n",
    "filtered_image = cv2.bilateralFilter(input_image, **(best_params))\n",
    "\n",
    "# Visualizza l'immagine filtrata\n",
    "plt.figure(figsize=(20,20))\n",
    "plt.subplot(131); plt.imshow(input_image[:,:,::-1]); plt.title(\"Input Image\")\n",
    "plt.subplot(132); plt.imshow(input_image_denoised[:,:,::-1]); plt.title(\"Perfectly-denoised Image\")\n",
    "plt.subplot(133); plt.imshow(filtered_image[:,:,::-1]); plt.title(\"Filtered Image\")\n",
    "plt.show()\n",
    "\n",
    "# Visualizza errore\n",
    "plt.figure(figsize=(10,10))\n",
    "plt.imshow(abs(input_image[:,:,::-1]-filtered_image[:,:,::-1])); plt.title(\"Filtering error\")\n"
   ]
  }
 ],
 "metadata": {
  "kernelspec": {
   "display_name": "Python 3",
   "language": "python",
   "name": "python3"
  },
  "language_info": {
   "codemirror_mode": {
    "name": "ipython",
    "version": 3
   },
   "file_extension": ".py",
   "mimetype": "text/x-python",
   "name": "python",
   "nbconvert_exporter": "python",
   "pygments_lexer": "ipython3",
   "version": "3.11.7"
  }
 },
 "nbformat": 4,
 "nbformat_minor": 2
}
