{
  "cells": [
    {
      "cell_type": "markdown",
      "metadata": {},
      "source": [
        "# ASSIGNMENT:"
      ]
    },
    {
      "cell_type": "code",
      "execution_count": 6,
      "metadata": {},
      "outputs": [],
      "source": [
        "import matplotlib.pyplot as plt\n",
        "import numpy as np\n",
        "import cv2\n",
        "\n",
        "models_path=\"dataset/models/\"\n",
        "scenes_path=\"dataset/scenes/\"\n",
        "\n",
        "products_a=[f\"{models_path}ref{i}.png\" for i in range(1,15)]\n",
        "products_b=[f\"{models_path}ref{i}.png\" for i in range(15,28)]\n",
        "\n",
        "scenes_a=[f\"{scenes_path}scene{i}.png\" for i in range(1,6)]\n",
        "scenes_b=[f\"{scenes_path}scene{i}.png\" for i in range(6,13)]"
      ]
    },
    {
      "cell_type": "code",
      "execution_count": 7,
      "metadata": {},
      "outputs": [],
      "source": [
        "product_descriptors_a = []\n",
        "for product in products_a:\n",
        "    image = cv2.imread(product, 0)\n",
        "    sift = cv2.xfeatures2d.SIFT_create()\n",
        "    keypoints = sift.detect(image)\n",
        "    product_descriptors_a.append(list(sift.compute(image, keypoints))+[image.shape])"
      ]
    },
    {
      "cell_type": "code",
      "execution_count": 8,
      "metadata": {},
      "outputs": [],
      "source": [
        "settings={}\n",
        "\n",
        "def denoise_image(image,  filter_param,type,prefilter=False, prefilter_param=None):\n",
        "    if prefilter:\n",
        "        k_size = 9\n",
        "        mean_kernel = np.ones([k_size, k_size])/(k_size**2)\n",
        "        # image = cv2.filter2D(image, -1, mean_kernel)\n",
        "        image = cv2.filter2D(**(prefilter_param))\n",
        "        settings['prefilter']={'k_size':k_size}\n",
        "    match type:\n",
        "        case \"bilateral\":\n",
        "            k = 30\n",
        "            sigma1 = 1500\n",
        "            sigma2 = 250  # non so se vanno bene\n",
        "            settings['bilateral']= filter_param # {'k':k,'sigma1':sigma1,'sigma2':sigma2}\n",
        "            # cv2.bilateralFilter(image, k, sigma1, sigma2)\n",
        "            return cv2.bilateralFilter(image, **(filter_param)), filter_param\n",
        "        case 'gaussian':\n",
        "            sigma = 3\n",
        "            k_size = 2*int(np.ceil(3*sigma)) + 1\n",
        "            settings['gaussian']={'sigma':sigma,\"k_size\":k_size}\n",
        "            return cv2.GaussianBlur(image, **(filter_param)), filter_param\n",
        "        case _:\n",
        "            return image"
      ]
    },
    {
      "cell_type": "code",
      "execution_count": 9,
      "metadata": {},
      "outputs": [],
      "source": [
        "def print_single_instances(results: dict):\n",
        "    for scene in results.keys():\n",
        "        print(f'Scene {scene}:')\n",
        "        for product in results[scene].keys():\n",
        "            print(f'\\tProduct {product}'\n",
        "                  +f', {results[scene][product][\"count\"]} matches:' # <-- comment line if counts are not needed\n",
        "                  +f' {results[scene][product][\"geometry\"]}'\n",
        "                  +''\n",
        "                )\n",
        "            \n",
        "def diagonal(points):\n",
        "    return np.sqrt(np.sum(np.subtract(points[:1,:],points[1:,:])**2))\n",
        "\n",
        "def get_geometry(corners):\n",
        "    import math\n",
        "    return {'position': tuple(np.round((np.sum(corners,axis=0)/4)[0],0).astype(int)),\n",
        "        'width': f'{diagonal(corners[:2,:]):0.0f}px',\n",
        "        'height': f'{diagonal(corners[1:3,:]):0.0f}px'\n",
        "    }"
      ]
    },
    {
      "cell_type": "code",
      "execution_count": 12,
      "metadata": {},
      "outputs": [
        {
          "data": {
            "text/plain": [
              "{'d': 5, 'sigmaColor': 15, 'sigmaSpace': 15}"
            ]
          },
          "metadata": {},
          "output_type": "display_data"
        },
        {
          "name": "stdout",
          "output_type": "stream",
          "text": [
            "Scene 0:\n",
            "\tProduct 1, 471 matches: {'position': (412, 538), 'width': '1050px', 'height': '801px'}\n",
            "\tProduct 2, 323 matches: {'position': (1247, 533), 'width': '1049px', 'height': '802px'}\n",
            "\tProduct 5, 80 matches: {'position': (402, 626), 'width': '1092px', 'height': '822px'}\n",
            "\tProduct 14, 66 matches: {'position': (1230, 544), 'width': '964px', 'height': '743px'}\n"
          ]
        },
        {
          "data": {
            "text/plain": [
              "{'d': 5, 'sigmaColor': 15, 'sigmaSpace': 90}"
            ]
          },
          "metadata": {},
          "output_type": "display_data"
        },
        {
          "name": "stdout",
          "output_type": "stream",
          "text": [
            "Scene 0:\n",
            "\tProduct 1, 469 matches: {'position': (411, 539), 'width': '1049px', 'height': '801px'}\n",
            "\tProduct 2, 338 matches: {'position': (1248, 534), 'width': '1046px', 'height': '805px'}\n",
            "\tProduct 5, 72 matches: {'position': (366, 410), 'width': '828px', 'height': '448px'}\n",
            "\tProduct 14, 65 matches: {'position': (1230, 537), 'width': '948px', 'height': '736px'}\n"
          ]
        },
        {
          "data": {
            "text/plain": [
              "{'d': 5, 'sigmaColor': 15, 'sigmaSpace': 165}"
            ]
          },
          "metadata": {},
          "output_type": "display_data"
        },
        {
          "name": "stdout",
          "output_type": "stream",
          "text": [
            "Scene 0:\n",
            "\tProduct 1, 471 matches: {'position': (412, 538), 'width': '1049px', 'height': '801px'}\n",
            "\tProduct 2, 317 matches: {'position': (1247, 533), 'width': '1049px', 'height': '804px'}\n",
            "\tProduct 5, 83 matches: {'position': (1249, 552), 'width': '996px', 'height': '683px'}\n",
            "\tProduct 14, 65 matches: {'position': (1229, 548), 'width': '972px', 'height': '752px'}\n"
          ]
        },
        {
          "data": {
            "text/plain": [
              "{'d': 5, 'sigmaColor': 15, 'sigmaSpace': 240}"
            ]
          },
          "metadata": {},
          "output_type": "display_data"
        },
        {
          "name": "stdout",
          "output_type": "stream",
          "text": [
            "Scene 0:\n",
            "\tProduct 1, 477 matches: {'position': (410, 540), 'width': '1049px', 'height': '801px'}\n",
            "\tProduct 2, 319 matches: {'position': (1247, 533), 'width': '1048px', 'height': '804px'}\n",
            "\tProduct 5, 79 matches: {'position': (368, 444), 'width': '887px', 'height': '498px'}\n",
            "\tProduct 14, 63 matches: {'position': (1258, 584), 'width': '1148px', 'height': '759px'}\n"
          ]
        },
        {
          "data": {
            "text/plain": [
              "{'d': 5, 'sigmaColor': 15, 'sigmaSpace': 315}"
            ]
          },
          "metadata": {},
          "output_type": "display_data"
        },
        {
          "name": "stdout",
          "output_type": "stream",
          "text": [
            "Scene 0:\n",
            "\tProduct 1, 456 matches: {'position': (412, 538), 'width': '1049px', 'height': '802px'}\n",
            "\tProduct 2, 319 matches: {'position': (1247, 533), 'width': '1049px', 'height': '804px'}\n",
            "\tProduct 5, 80 matches: {'position': (390, 419), 'width': '834px', 'height': '459px'}\n",
            "\tProduct 14, 62 matches: {'position': (1258, 584), 'width': '1148px', 'height': '759px'}\n"
          ]
        },
        {
          "data": {
            "text/plain": [
              "{'d': 5, 'sigmaColor': 15, 'sigmaSpace': 390}"
            ]
          },
          "metadata": {},
          "output_type": "display_data"
        },
        {
          "name": "stdout",
          "output_type": "stream",
          "text": [
            "Scene 0:\n",
            "\tProduct 1, 470 matches: {'position': (412, 538), 'width': '1049px', 'height': '801px'}\n",
            "\tProduct 2, 319 matches: {'position': (1248, 533), 'width': '1048px', 'height': '803px'}\n",
            "\tProduct 5, 81 matches: {'position': (370, 442), 'width': '883px', 'height': '496px'}\n",
            "\tProduct 14, 65 matches: {'position': (1229, 521), 'width': '917px', 'height': '711px'}\n"
          ]
        },
        {
          "data": {
            "text/plain": [
              "{'d': 5, 'sigmaColor': 15, 'sigmaSpace': 465}"
            ]
          },
          "metadata": {},
          "output_type": "display_data"
        },
        {
          "name": "stdout",
          "output_type": "stream",
          "text": [
            "Scene 0:\n",
            "\tProduct 1, 477 matches: {'position': (412, 538), 'width': '1049px', 'height': '802px'}\n",
            "\tProduct 2, 330 matches: {'position': (1247, 533), 'width': '1047px', 'height': '804px'}\n",
            "\tProduct 5, 79 matches: {'position': (1248, 582), 'width': '1057px', 'height': '727px'}\n",
            "\tProduct 14, 61 matches: {'position': (1232, 500), 'width': '1015px', 'height': '627px'}\n"
          ]
        },
        {
          "data": {
            "text/plain": [
              "{'d': 5, 'sigmaColor': 15, 'sigmaSpace': 540}"
            ]
          },
          "metadata": {},
          "output_type": "display_data"
        },
        {
          "name": "stdout",
          "output_type": "stream",
          "text": [
            "Scene 0:\n",
            "\tProduct 1, 465 matches: {'position': (412, 539), 'width': '1048px', 'height': '802px'}\n",
            "\tProduct 2, 325 matches: {'position': (1247, 533), 'width': '1048px', 'height': '804px'}\n",
            "\tProduct 5, 78 matches: {'position': (1248, 552), 'width': '999px', 'height': '677px'}\n",
            "\tProduct 14, 63 matches: {'position': (1245, 550), 'width': '1092px', 'height': '705px'}\n"
          ]
        },
        {
          "data": {
            "text/plain": [
              "{'d': 5, 'sigmaColor': 15, 'sigmaSpace': 615}"
            ]
          },
          "metadata": {},
          "output_type": "display_data"
        },
        {
          "name": "stdout",
          "output_type": "stream",
          "text": [
            "Scene 0:\n",
            "\tProduct 1, 460 matches: {'position': (412, 538), 'width': '1049px', 'height': '802px'}\n",
            "\tProduct 2, 329 matches: {'position': (1248, 533), 'width': '1047px', 'height': '803px'}\n",
            "\tProduct 5, 76 matches: {'position': (1249, 552), 'width': '997px', 'height': '679px'}\n",
            "\tProduct 14, 64 matches: {'position': (1228, 534), 'width': '943px', 'height': '728px'}\n"
          ]
        },
        {
          "data": {
            "text/plain": [
              "{'d': 5, 'sigmaColor': 15, 'sigmaSpace': 690}"
            ]
          },
          "metadata": {},
          "output_type": "display_data"
        },
        {
          "name": "stdout",
          "output_type": "stream",
          "text": [
            "Scene 0:\n",
            "\tProduct 1, 469 matches: {'position': (412, 538), 'width': '1050px', 'height': '801px'}\n",
            "\tProduct 2, 329 matches: {'position': (1247, 533), 'width': '1050px', 'height': '803px'}\n",
            "\tProduct 5, 77 matches: {'position': (367, 441), 'width': '882px', 'height': '493px'}\n",
            "\tProduct 14, 66 matches: {'position': (1227, 534), 'width': '947px', 'height': '731px'}\n"
          ]
        },
        {
          "data": {
            "text/plain": [
              "{'d': 5, 'sigmaColor': 15, 'sigmaSpace': 765}"
            ]
          },
          "metadata": {},
          "output_type": "display_data"
        },
        {
          "name": "stdout",
          "output_type": "stream",
          "text": [
            "Scene 0:\n",
            "\tProduct 1, 469 matches: {'position': (412, 538), 'width': '1047px', 'height': '802px'}\n",
            "\tProduct 2, 323 matches: {'position': (1247, 533), 'width': '1050px', 'height': '804px'}\n",
            "\tProduct 5, 83 matches: {'position': (1252, 567), 'width': '1026px', 'height': '701px'}\n",
            "\tProduct 14, 63 matches: {'position': (1256, 579), 'width': '1138px', 'height': '753px'}\n"
          ]
        },
        {
          "data": {
            "text/plain": [
              "{'d': 5, 'sigmaColor': 15, 'sigmaSpace': 840}"
            ]
          },
          "metadata": {},
          "output_type": "display_data"
        },
        {
          "name": "stdout",
          "output_type": "stream",
          "text": [
            "Scene 0:\n",
            "\tProduct 1, 479 matches: {'position': (412, 538), 'width': '1048px', 'height': '802px'}\n",
            "\tProduct 2, 321 matches: {'position': (1248, 534), 'width': '1047px', 'height': '803px'}\n",
            "\tProduct 5, 79 matches: {'position': (1251, 564), 'width': '1023px', 'height': '694px'}\n",
            "\tProduct 14, 65 matches: {'position': (1228, 530), 'width': '934px', 'height': '725px'}\n"
          ]
        },
        {
          "data": {
            "text/plain": [
              "{'d': 5, 'sigmaColor': 90, 'sigmaSpace': 15}"
            ]
          },
          "metadata": {},
          "output_type": "display_data"
        },
        {
          "name": "stdout",
          "output_type": "stream",
          "text": [
            "Scene 0:\n",
            "\tProduct 1, 483 matches: {'position': (412, 538), 'width': '1049px', 'height': '801px'}\n",
            "\tProduct 2, 330 matches: {'position': (1248, 533), 'width': '1048px', 'height': '803px'}\n",
            "\tProduct 5, 70 matches: {'position': (1249, 554), 'width': '995px', 'height': '688px'}\n",
            "\tProduct 14, 63 matches: {'position': (1244, 544), 'width': '1085px', 'height': '696px'}\n"
          ]
        },
        {
          "data": {
            "text/plain": [
              "{'d': 5, 'sigmaColor': 90, 'sigmaSpace': 90}"
            ]
          },
          "metadata": {},
          "output_type": "display_data"
        },
        {
          "name": "stdout",
          "output_type": "stream",
          "text": [
            "Scene 0:\n",
            "\tProduct 1, 482 matches: {'position': (412, 538), 'width': '1048px', 'height': '802px'}\n",
            "\tProduct 2, 322 matches: {'position': (1248, 533), 'width': '1048px', 'height': '804px'}\n",
            "\tProduct 5, 73 matches: {'position': (392, 390), 'width': '787px', 'height': '418px'}\n",
            "\tProduct 14, 60 matches: {'position': (1247, 574), 'width': '984px', 'height': '805px'}\n"
          ]
        },
        {
          "data": {
            "text/plain": [
              "{'d': 5, 'sigmaColor': 90, 'sigmaSpace': 165}"
            ]
          },
          "metadata": {},
          "output_type": "display_data"
        },
        {
          "name": "stdout",
          "output_type": "stream",
          "text": [
            "Scene 0:\n",
            "\tProduct 1, 492 matches: {'position': (412, 538), 'width': '1049px', 'height': '801px'}\n",
            "\tProduct 2, 328 matches: {'position': (1248, 532), 'width': '1047px', 'height': '801px'}\n",
            "\tProduct 5, 72 matches: {'position': (1244, 551), 'width': '992px', 'height': '685px'}\n",
            "\tProduct 14, 66 matches: {'position': (1209, 430), 'width': '908px', 'height': '526px'}\n"
          ]
        },
        {
          "data": {
            "text/plain": [
              "{'d': 5, 'sigmaColor': 90, 'sigmaSpace': 240}"
            ]
          },
          "metadata": {},
          "output_type": "display_data"
        },
        {
          "name": "stdout",
          "output_type": "stream",
          "text": [
            "Scene 0:\n",
            "\tProduct 1, 493 matches: {'position': (411, 538), 'width': '1050px', 'height': '800px'}\n",
            "\tProduct 2, 319 matches: {'position': (1248, 533), 'width': '1048px', 'height': '803px'}\n",
            "\tProduct 5, 72 matches: {'position': (1249, 554), 'width': '999px', 'height': '679px'}\n",
            "\tProduct 14, 63 matches: {'position': (1212, 445), 'width': '929px', 'height': '547px'}\n"
          ]
        },
        {
          "data": {
            "text/plain": [
              "{'d': 5, 'sigmaColor': 90, 'sigmaSpace': 315}"
            ]
          },
          "metadata": {},
          "output_type": "display_data"
        },
        {
          "name": "stdout",
          "output_type": "stream",
          "text": [
            "Scene 0:\n",
            "\tProduct 1, 483 matches: {'position': (412, 538), 'width': '1050px', 'height': '801px'}\n",
            "\tProduct 2, 329 matches: {'position': (1248, 533), 'width': '1048px', 'height': '803px'}\n",
            "\tProduct 5, 71 matches: {'position': (1250, 553), 'width': '992px', 'height': '687px'}\n",
            "\tProduct 14, 62 matches: {'position': (1220, 472), 'width': '969px', 'height': '587px'}\n"
          ]
        },
        {
          "data": {
            "text/plain": [
              "{'d': 5, 'sigmaColor': 90, 'sigmaSpace': 390}"
            ]
          },
          "metadata": {},
          "output_type": "display_data"
        },
        {
          "name": "stdout",
          "output_type": "stream",
          "text": [
            "Scene 0:\n",
            "\tProduct 1, 489 matches: {'position': (412, 538), 'width': '1049px', 'height': '802px'}\n",
            "\tProduct 2, 328 matches: {'position': (1248, 533), 'width': '1047px', 'height': '805px'}\n",
            "\tProduct 5, 75 matches: {'position': (368, 408), 'width': '825px', 'height': '445px'}\n",
            "\tProduct 14, 60 matches: {'position': (1228, 497), 'width': '1005px', 'height': '625px'}\n"
          ]
        },
        {
          "data": {
            "text/plain": [
              "{'d': 5, 'sigmaColor': 90, 'sigmaSpace': 465}"
            ]
          },
          "metadata": {},
          "output_type": "display_data"
        },
        {
          "name": "stdout",
          "output_type": "stream",
          "text": [
            "Scene 0:\n",
            "\tProduct 1, 492 matches: {'position': (412, 538), 'width': '1048px', 'height': '802px'}\n",
            "\tProduct 2, 335 matches: {'position': (1247, 533), 'width': '1048px', 'height': '802px'}\n",
            "\tProduct 5, 68 matches: {'position': (366, 470), 'width': '934px', 'height': '539px'}\n",
            "\tProduct 14, 66 matches: {'position': (1229, 532), 'width': '934px', 'height': '730px'}\n"
          ]
        },
        {
          "data": {
            "text/plain": [
              "{'d': 5, 'sigmaColor': 90, 'sigmaSpace': 540}"
            ]
          },
          "metadata": {},
          "output_type": "display_data"
        },
        {
          "name": "stdout",
          "output_type": "stream",
          "text": [
            "Scene 0:\n",
            "\tProduct 1, 488 matches: {'position': (412, 538), 'width': '1048px', 'height': '801px'}\n",
            "\tProduct 2, 327 matches: {'position': (1247, 533), 'width': '1048px', 'height': '804px'}\n",
            "\tProduct 5, 73 matches: {'position': (1244, 450), 'width': '936px', 'height': '517px'}\n",
            "\tProduct 14, 64 matches: {'position': (1221, 468), 'width': '962px', 'height': '580px'}\n"
          ]
        },
        {
          "data": {
            "text/plain": [
              "{'d': 5, 'sigmaColor': 90, 'sigmaSpace': 615}"
            ]
          },
          "metadata": {},
          "output_type": "display_data"
        },
        {
          "name": "stdout",
          "output_type": "stream",
          "text": [
            "Scene 0:\n",
            "\tProduct 1, 489 matches: {'position': (412, 538), 'width': '1049px', 'height': '802px'}\n",
            "\tProduct 2, 337 matches: {'position': (1248, 533), 'width': '1047px', 'height': '802px'}\n",
            "\tProduct 5, 69 matches: {'position': (368, 464), 'width': '923px', 'height': '531px'}\n",
            "\tProduct 14, 63 matches: {'position': (1228, 525), 'width': '925px', 'height': '717px'}\n"
          ]
        },
        {
          "data": {
            "text/plain": [
              "{'d': 5, 'sigmaColor': 90, 'sigmaSpace': 690}"
            ]
          },
          "metadata": {},
          "output_type": "display_data"
        },
        {
          "name": "stdout",
          "output_type": "stream",
          "text": [
            "Scene 0:\n",
            "\tProduct 1, 492 matches: {'position': (412, 538), 'width': '1049px', 'height': '801px'}\n",
            "\tProduct 2, 327 matches: {'position': (1248, 534), 'width': '1044px', 'height': '804px'}\n",
            "\tProduct 5, 68 matches: {'position': (367, 408), 'width': '825px', 'height': '444px'}\n",
            "\tProduct 14, 64 matches: {'position': (1249, 566), 'width': '965px', 'height': '792px'}\n"
          ]
        },
        {
          "data": {
            "text/plain": [
              "{'d': 5, 'sigmaColor': 90, 'sigmaSpace': 765}"
            ]
          },
          "metadata": {},
          "output_type": "display_data"
        },
        {
          "name": "stdout",
          "output_type": "stream",
          "text": [
            "Scene 0:\n",
            "\tProduct 1, 480 matches: {'position': (412, 537), 'width': '1049px', 'height': '802px'}\n",
            "\tProduct 2, 335 matches: {'position': (1248, 533), 'width': '1046px', 'height': '802px'}\n",
            "\tProduct 5, 69 matches: {'position': (1250, 554), 'width': '993px', 'height': '692px'}\n",
            "\tProduct 14, 61 matches: {'position': (1203, 412), 'width': '881px', 'height': '500px'}\n"
          ]
        },
        {
          "data": {
            "text/plain": [
              "{'d': 5, 'sigmaColor': 90, 'sigmaSpace': 840}"
            ]
          },
          "metadata": {},
          "output_type": "display_data"
        },
        {
          "name": "stdout",
          "output_type": "stream",
          "text": [
            "Scene 0:\n",
            "\tProduct 1, 489 matches: {'position': (412, 538), 'width': '1049px', 'height': '801px'}\n",
            "\tProduct 2, 322 matches: {'position': (1248, 533), 'width': '1048px', 'height': '803px'}\n",
            "\tProduct 5, 66 matches: {'position': (1258, 496), 'width': '902px', 'height': '578px'}\n",
            "\tProduct 14, 66 matches: {'position': (1228, 497), 'width': '1009px', 'height': '625px'}\n"
          ]
        },
        {
          "data": {
            "text/plain": [
              "{'d': 5, 'sigmaColor': 165, 'sigmaSpace': 15}"
            ]
          },
          "metadata": {},
          "output_type": "display_data"
        },
        {
          "name": "stdout",
          "output_type": "stream",
          "text": [
            "Scene 0:\n",
            "\tProduct 1, 513 matches: {'position': (411, 538), 'width': '1049px', 'height': '801px'}\n",
            "\tProduct 2, 336 matches: {'position': (1248, 533), 'width': '1048px', 'height': '803px'}\n",
            "\tProduct 5, 69 matches: {'position': (1258, 516), 'width': '946px', 'height': '603px'}\n",
            "\tProduct 14, 73 matches: {'position': (1223, 464), 'width': '956px', 'height': '573px'}\n"
          ]
        },
        {
          "data": {
            "text/plain": [
              "{'d': 5, 'sigmaColor': 165, 'sigmaSpace': 90}"
            ]
          },
          "metadata": {},
          "output_type": "display_data"
        },
        {
          "name": "stdout",
          "output_type": "stream",
          "text": [
            "Scene 0:\n",
            "\tProduct 1, 513 matches: {'position': (412, 538), 'width': '1049px', 'height': '802px'}\n",
            "\tProduct 2, 331 matches: {'position': (1248, 533), 'width': '1048px', 'height': '803px'}\n",
            "\tProduct 5, 68 matches: {'position': (1244, 463), 'width': '956px', 'height': '535px'}\n",
            "\tProduct 14, 74 matches: {'position': (1230, 486), 'width': '987px', 'height': '604px'}\n"
          ]
        },
        {
          "data": {
            "text/plain": [
              "{'d': 5, 'sigmaColor': 165, 'sigmaSpace': 165}"
            ]
          },
          "metadata": {},
          "output_type": "display_data"
        },
        {
          "name": "stdout",
          "output_type": "stream",
          "text": [
            "Scene 0:\n",
            "\tProduct 1, 510 matches: {'position': (411, 538), 'width': '1051px', 'height': '801px'}\n",
            "\tProduct 2, 323 matches: {'position': (1247, 533), 'width': '1048px', 'height': '803px'}\n",
            "\tProduct 5, 72 matches: {'position': (1251, 565), 'width': '1016px', 'height': '710px'}\n",
            "\tProduct 14, 64 matches: {'position': (1219, 480), 'width': '985px', 'height': '598px'}\n"
          ]
        },
        {
          "data": {
            "text/plain": [
              "{'d': 5, 'sigmaColor': 165, 'sigmaSpace': 240}"
            ]
          },
          "metadata": {},
          "output_type": "display_data"
        },
        {
          "name": "stdout",
          "output_type": "stream",
          "text": [
            "Scene 0:\n",
            "\tProduct 1, 515 matches: {'position': (412, 538), 'width': '1049px', 'height': '802px'}\n",
            "\tProduct 2, 321 matches: {'position': (1247, 533), 'width': '1048px', 'height': '804px'}\n",
            "\tProduct 5, 75 matches: {'position': (1247, 578), 'width': '1051px', 'height': '723px'}\n",
            "\tProduct 14, 72 matches: {'position': (1229, 484), 'width': '989px', 'height': '601px'}\n"
          ]
        },
        {
          "data": {
            "text/plain": [
              "{'d': 5, 'sigmaColor': 165, 'sigmaSpace': 315}"
            ]
          },
          "metadata": {},
          "output_type": "display_data"
        },
        {
          "name": "stdout",
          "output_type": "stream",
          "text": [
            "Scene 0:\n",
            "\tProduct 1, 522 matches: {'position': (412, 538), 'width': '1049px', 'height': '801px'}\n",
            "\tProduct 2, 327 matches: {'position': (1247, 534), 'width': '1049px', 'height': '804px'}\n",
            "\tProduct 5, 67 matches: {'position': (1252, 567), 'width': '1024px', 'height': '705px'}\n",
            "\tProduct 14, 70 matches: {'position': (1242, 537), 'width': '1076px', 'height': '683px'}\n"
          ]
        },
        {
          "data": {
            "text/plain": [
              "{'d': 5, 'sigmaColor': 165, 'sigmaSpace': 390}"
            ]
          },
          "metadata": {},
          "output_type": "display_data"
        },
        {
          "name": "stdout",
          "output_type": "stream",
          "text": [
            "Scene 0:\n",
            "\tProduct 1, 523 matches: {'position': (412, 539), 'width': '1049px', 'height': '802px'}\n",
            "\tProduct 2, 329 matches: {'position': (1247, 534), 'width': '1048px', 'height': '805px'}\n",
            "\tProduct 5, 71 matches: {'position': (1249, 553), 'width': '995px', 'height': '687px'}\n",
            "\tProduct 14, 68 matches: {'position': (1240, 534), 'width': '1069px', 'height': '679px'}\n"
          ]
        },
        {
          "data": {
            "text/plain": [
              "{'d': 5, 'sigmaColor': 165, 'sigmaSpace': 465}"
            ]
          },
          "metadata": {},
          "output_type": "display_data"
        },
        {
          "name": "stdout",
          "output_type": "stream",
          "text": [
            "Scene 0:\n",
            "\tProduct 1, 506 matches: {'position': (412, 539), 'width': '1048px', 'height': '802px'}\n",
            "\tProduct 2, 330 matches: {'position': (1248, 533), 'width': '1049px', 'height': '803px'}\n",
            "\tProduct 5, 69 matches: {'position': (1251, 562), 'width': '1018px', 'height': '689px'}\n",
            "\tProduct 14, 74 matches: {'position': (1219, 464), 'width': '962px', 'height': '572px'}\n"
          ]
        },
        {
          "data": {
            "text/plain": [
              "{'d': 5, 'sigmaColor': 165, 'sigmaSpace': 540}"
            ]
          },
          "metadata": {},
          "output_type": "display_data"
        },
        {
          "name": "stdout",
          "output_type": "stream",
          "text": [
            "Scene 0:\n",
            "\tProduct 1, 512 matches: {'position': (411, 539), 'width': '1049px', 'height': '803px'}\n",
            "\tProduct 2, 328 matches: {'position': (1248, 534), 'width': '1046px', 'height': '804px'}\n",
            "\tProduct 5, 73 matches: {'position': (1250, 554), 'width': '993px', 'height': '692px'}\n",
            "\tProduct 14, 72 matches: {'position': (1236, 511), 'width': '1033px', 'height': '643px'}\n"
          ]
        },
        {
          "data": {
            "text/plain": [
              "{'d': 5, 'sigmaColor': 165, 'sigmaSpace': 615}"
            ]
          },
          "metadata": {},
          "output_type": "display_data"
        },
        {
          "name": "stdout",
          "output_type": "stream",
          "text": [
            "Scene 0:\n",
            "\tProduct 1, 508 matches: {'position': (412, 539), 'width': '1049px', 'height': '801px'}\n",
            "\tProduct 2, 326 matches: {'position': (1247, 533), 'width': '1048px', 'height': '803px'}\n",
            "\tProduct 5, 68 matches: {'position': (1247, 454), 'width': '940px', 'height': '517px'}\n",
            "\tProduct 14, 72 matches: {'position': (1228, 531), 'width': '935px', 'height': '730px'}\n"
          ]
        },
        {
          "data": {
            "text/plain": [
              "{'d': 5, 'sigmaColor': 165, 'sigmaSpace': 690}"
            ]
          },
          "metadata": {},
          "output_type": "display_data"
        },
        {
          "name": "stdout",
          "output_type": "stream",
          "text": [
            "Scene 0:\n",
            "\tProduct 1, 509 matches: {'position': (412, 539), 'width': '1047px', 'height': '802px'}\n",
            "\tProduct 2, 328 matches: {'position': (1247, 533), 'width': '1048px', 'height': '802px'}\n",
            "\tProduct 5, 75 matches: {'position': (1243, 454), 'width': '953px', 'height': '520px'}\n",
            "\tProduct 14, 68 matches: {'position': (1230, 499), 'width': '1015px', 'height': '626px'}\n"
          ]
        },
        {
          "data": {
            "text/plain": [
              "{'d': 5, 'sigmaColor': 165, 'sigmaSpace': 765}"
            ]
          },
          "metadata": {},
          "output_type": "display_data"
        },
        {
          "name": "stdout",
          "output_type": "stream",
          "text": [
            "Scene 0:\n",
            "\tProduct 1, 518 matches: {'position': (411, 538), 'width': '1049px', 'height': '801px'}\n",
            "\tProduct 2, 332 matches: {'position': (1248, 533), 'width': '1048px', 'height': '804px'}\n",
            "\tProduct 5, 65 matches: {'position': (1250, 565), 'width': '1023px', 'height': '699px'}\n",
            "\tProduct 14, 71 matches: {'position': (1242, 537), 'width': '1076px', 'height': '683px'}\n"
          ]
        },
        {
          "data": {
            "text/plain": [
              "{'d': 5, 'sigmaColor': 165, 'sigmaSpace': 840}"
            ]
          },
          "metadata": {},
          "output_type": "display_data"
        },
        {
          "name": "stdout",
          "output_type": "stream",
          "text": [
            "Scene 0:\n",
            "\tProduct 1, 503 matches: {'position': (412, 538), 'width': '1049px', 'height': '801px'}\n",
            "\tProduct 2, 330 matches: {'position': (1248, 533), 'width': '1048px', 'height': '803px'}\n",
            "\tProduct 5, 71 matches: {'position': (1244, 461), 'width': '952px', 'height': '532px'}\n",
            "\tProduct 14, 69 matches: {'position': (1236, 546), 'width': '1099px', 'height': '697px'}\n"
          ]
        },
        {
          "data": {
            "text/plain": [
              "{'d': 5, 'sigmaColor': 240, 'sigmaSpace': 15}"
            ]
          },
          "metadata": {},
          "output_type": "display_data"
        },
        {
          "name": "stdout",
          "output_type": "stream",
          "text": [
            "Scene 0:\n",
            "\tProduct 1, 517 matches: {'position': (412, 538), 'width': '1049px', 'height': '801px'}\n",
            "\tProduct 2, 341 matches: {'position': (1247, 533), 'width': '1048px', 'height': '802px'}\n",
            "\tProduct 5, 64 matches: {'position': (1246, 454), 'width': '936px', 'height': '522px'}\n",
            "\tProduct 14, 64 matches: {'position': (1224, 472), 'width': '969px', 'height': '584px'}\n"
          ]
        },
        {
          "data": {
            "text/plain": [
              "{'d': 5, 'sigmaColor': 240, 'sigmaSpace': 90}"
            ]
          },
          "metadata": {},
          "output_type": "display_data"
        },
        {
          "name": "stdout",
          "output_type": "stream",
          "text": [
            "Scene 0:\n",
            "\tProduct 1, 526 matches: {'position': (412, 538), 'width': '1049px', 'height': '802px'}\n",
            "\tProduct 2, 330 matches: {'position': (1247, 533), 'width': '1050px', 'height': '803px'}\n",
            "\tProduct 5, 64 matches: {'position': (1254, 578), 'width': '1037px', 'height': '724px'}\n",
            "\tProduct 14, 70 matches: {'position': (1235, 520), 'width': '1051px', 'height': '659px'}\n"
          ]
        },
        {
          "data": {
            "text/plain": [
              "{'d': 5, 'sigmaColor': 240, 'sigmaSpace': 165}"
            ]
          },
          "metadata": {},
          "output_type": "display_data"
        },
        {
          "name": "stdout",
          "output_type": "stream",
          "text": [
            "Scene 0:\n",
            "\tProduct 1, 519 matches: {'position': (412, 538), 'width': '1049px', 'height': '802px'}\n",
            "\tProduct 2, 335 matches: {'position': (1248, 534), 'width': '1048px', 'height': '805px'}\n",
            "\tProduct 5, 70 matches: {'position': (1253, 566), 'width': '1020px', 'height': '699px'}\n",
            "\tProduct 14, 70 matches: {'position': (1242, 536), 'width': '1073px', 'height': '681px'}\n"
          ]
        },
        {
          "data": {
            "text/plain": [
              "{'d': 5, 'sigmaColor': 240, 'sigmaSpace': 240}"
            ]
          },
          "metadata": {},
          "output_type": "display_data"
        },
        {
          "name": "stdout",
          "output_type": "stream",
          "text": [
            "Scene 0:\n",
            "\tProduct 1, 507 matches: {'position': (412, 538), 'width': '1049px', 'height': '802px'}\n",
            "\tProduct 2, 339 matches: {'position': (1248, 533), 'width': '1048px', 'height': '802px'}\n",
            "\tProduct 5, 67 matches: {'position': (1250, 554), 'width': '997px', 'height': '686px'}\n",
            "\tProduct 14, 64 matches: {'position': (1231, 526), 'width': '922px', 'height': '721px'}\n"
          ]
        },
        {
          "data": {
            "text/plain": [
              "{'d': 5, 'sigmaColor': 240, 'sigmaSpace': 315}"
            ]
          },
          "metadata": {},
          "output_type": "display_data"
        },
        {
          "name": "stdout",
          "output_type": "stream",
          "text": [
            "Scene 0:\n",
            "\tProduct 1, 530 matches: {'position': (412, 539), 'width': '1048px', 'height': '802px'}\n",
            "\tProduct 2, 346 matches: {'position': (1248, 533), 'width': '1048px', 'height': '803px'}\n",
            "\tProduct 5, 66 matches: {'position': (1248, 551), 'width': '1000px', 'height': '676px'}\n",
            "\tProduct 14, 66 matches: {'position': (1234, 502), 'width': '1021px', 'height': '630px'}\n"
          ]
        },
        {
          "data": {
            "text/plain": [
              "{'d': 5, 'sigmaColor': 240, 'sigmaSpace': 390}"
            ]
          },
          "metadata": {},
          "output_type": "display_data"
        },
        {
          "name": "stdout",
          "output_type": "stream",
          "text": [
            "Scene 0:\n",
            "\tProduct 1, 520 matches: {'position': (412, 538), 'width': '1049px', 'height': '801px'}\n",
            "\tProduct 2, 329 matches: {'position': (1247, 533), 'width': '1048px', 'height': '804px'}\n",
            "\tProduct 5, 68 matches: {'position': (1249, 550), 'width': '994px', 'height': '675px'}\n",
            "\tProduct 14, 67 matches: {'position': (1228, 481), 'width': '982px', 'height': '596px'}\n"
          ]
        },
        {
          "data": {
            "text/plain": [
              "{'d': 5, 'sigmaColor': 240, 'sigmaSpace': 465}"
            ]
          },
          "metadata": {},
          "output_type": "display_data"
        },
        {
          "name": "stdout",
          "output_type": "stream",
          "text": [
            "Scene 0:\n",
            "\tProduct 1, 514 matches: {'position': (411, 538), 'width': '1050px', 'height': '801px'}\n",
            "\tProduct 2, 333 matches: {'position': (1247, 533), 'width': '1048px', 'height': '806px'}\n",
            "\tProduct 5, 71 matches: {'position': (1253, 576), 'width': '1037px', 'height': '722px'}\n",
            "\tProduct 14, 72 matches: {'position': (1222, 459), 'width': '948px', 'height': '565px'}\n"
          ]
        },
        {
          "data": {
            "text/plain": [
              "{'d': 5, 'sigmaColor': 240, 'sigmaSpace': 540}"
            ]
          },
          "metadata": {},
          "output_type": "display_data"
        },
        {
          "name": "stdout",
          "output_type": "stream",
          "text": [
            "Scene 0:\n",
            "\tProduct 1, 521 matches: {'position': (412, 538), 'width': '1049px', 'height': '801px'}\n",
            "\tProduct 2, 334 matches: {'position': (1247, 533), 'width': '1048px', 'height': '803px'}\n",
            "\tProduct 5, 65 matches: {'position': (1253, 584), 'width': '1051px', 'height': '734px'}\n",
            "\tProduct 14, 72 matches: {'position': (1234, 520), 'width': '1048px', 'height': '658px'}\n"
          ]
        },
        {
          "data": {
            "text/plain": [
              "{'d': 5, 'sigmaColor': 240, 'sigmaSpace': 615}"
            ]
          },
          "metadata": {},
          "output_type": "display_data"
        },
        {
          "name": "stdout",
          "output_type": "stream",
          "text": [
            "Scene 0:\n",
            "\tProduct 1, 508 matches: {'position': (411, 538), 'width': '1050px', 'height': '801px'}\n",
            "\tProduct 2, 347 matches: {'position': (1248, 534), 'width': '1045px', 'height': '805px'}\n",
            "\tProduct 5, 70 matches: {'position': (404, 389), 'width': '786px', 'height': '412px'}\n",
            "\tProduct 14, 70 matches: {'position': (1219, 445), 'width': '927px', 'height': '543px'}\n"
          ]
        },
        {
          "data": {
            "text/plain": [
              "{'d': 5, 'sigmaColor': 240, 'sigmaSpace': 690}"
            ]
          },
          "metadata": {},
          "output_type": "display_data"
        },
        {
          "name": "stdout",
          "output_type": "stream",
          "text": [
            "Scene 0:\n",
            "\tProduct 1, 531 matches: {'position': (412, 539), 'width': '1048px', 'height': '802px'}\n",
            "\tProduct 2, 341 matches: {'position': (1247, 533), 'width': '1048px', 'height': '804px'}\n",
            "\tProduct 5, 66 matches: {'position': (1252, 574), 'width': '1034px', 'height': '718px'}\n",
            "\tProduct 14, 68 matches: {'position': (1222, 456), 'width': '945px', 'height': '560px'}\n"
          ]
        },
        {
          "data": {
            "text/plain": [
              "{'d': 5, 'sigmaColor': 240, 'sigmaSpace': 765}"
            ]
          },
          "metadata": {},
          "output_type": "display_data"
        },
        {
          "name": "stdout",
          "output_type": "stream",
          "text": [
            "Scene 0:\n",
            "\tProduct 1, 516 matches: {'position': (411, 538), 'width': '1052px', 'height': '800px'}\n",
            "\tProduct 2, 338 matches: {'position': (1248, 532), 'width': '1048px', 'height': '803px'}\n",
            "\tProduct 5, 69 matches: {'position': (1252, 584), 'width': '1051px', 'height': '733px'}\n",
            "\tProduct 14, 68 matches: {'position': (1238, 570), 'width': '992px', 'height': '802px'}\n"
          ]
        },
        {
          "data": {
            "text/plain": [
              "{'d': 5, 'sigmaColor': 240, 'sigmaSpace': 840}"
            ]
          },
          "metadata": {},
          "output_type": "display_data"
        },
        {
          "name": "stdout",
          "output_type": "stream",
          "text": [
            "Scene 0:\n",
            "\tProduct 1, 516 matches: {'position': (412, 538), 'width': '1049px', 'height': '801px'}\n",
            "\tProduct 2, 327 matches: {'position': (1248, 533), 'width': '1048px', 'height': '803px'}\n",
            "\tProduct 5, 65 matches: {'position': (1220, 518), 'width': '1068px', 'height': '649px'}\n",
            "\tProduct 14, 66 matches: {'position': (1228, 480), 'width': '980px', 'height': '597px'}\n"
          ]
        },
        {
          "data": {
            "text/plain": [
              "{'d': 5, 'sigmaColor': 315, 'sigmaSpace': 15}"
            ]
          },
          "metadata": {},
          "output_type": "display_data"
        },
        {
          "name": "stdout",
          "output_type": "stream",
          "text": [
            "Scene 0:\n",
            "\tProduct 1, 519 matches: {'position': (412, 538), 'width': '1048px', 'height': '802px'}\n",
            "\tProduct 2, 341 matches: {'position': (1247, 533), 'width': '1048px', 'height': '804px'}\n",
            "\tProduct 5, 73 matches: {'position': (1254, 569), 'width': '1023px', 'height': '709px'}\n",
            "\tProduct 14, 69 matches: {'position': (1223, 464), 'width': '954px', 'height': '572px'}\n"
          ]
        },
        {
          "data": {
            "text/plain": [
              "{'d': 5, 'sigmaColor': 315, 'sigmaSpace': 90}"
            ]
          },
          "metadata": {},
          "output_type": "display_data"
        },
        {
          "name": "stdout",
          "output_type": "stream",
          "text": [
            "Scene 0:\n",
            "\tProduct 1, 529 matches: {'position': (412, 538), 'width': '1049px', 'height': '802px'}\n",
            "\tProduct 2, 335 matches: {'position': (1247, 533), 'width': '1048px', 'height': '804px'}\n",
            "\tProduct 5, 65 matches: {'position': (1248, 552), 'width': '995px', 'height': '687px'}\n",
            "\tProduct 14, 65 matches: {'position': (1241, 535), 'width': '1071px', 'height': '679px'}\n"
          ]
        },
        {
          "data": {
            "text/plain": [
              "{'d': 5, 'sigmaColor': 315, 'sigmaSpace': 165}"
            ]
          },
          "metadata": {},
          "output_type": "display_data"
        },
        {
          "name": "stdout",
          "output_type": "stream",
          "text": [
            "Scene 0:\n",
            "\tProduct 1, 518 matches: {'position': (412, 538), 'width': '1049px', 'height': '802px'}\n",
            "\tProduct 2, 342 matches: {'position': (1248, 534), 'width': '1046px', 'height': '804px'}\n",
            "\tProduct 5, 74 matches: {'position': (1252, 563), 'width': '1020px', 'height': '695px'}\n",
            "\tProduct 14, 68 matches: {'position': (1236, 512), 'width': '1034px', 'height': '645px'}\n"
          ]
        },
        {
          "data": {
            "text/plain": [
              "{'d': 5, 'sigmaColor': 315, 'sigmaSpace': 240}"
            ]
          },
          "metadata": {},
          "output_type": "display_data"
        },
        {
          "name": "stdout",
          "output_type": "stream",
          "text": [
            "Scene 0:\n",
            "\tProduct 1, 523 matches: {'position': (412, 538), 'width': '1050px', 'height': '801px'}\n",
            "\tProduct 2, 336 matches: {'position': (1247, 533), 'width': '1048px', 'height': '802px'}\n",
            "\tProduct 5, 68 matches: {'position': (1220, 518), 'width': '1070px', 'height': '654px'}\n",
            "\tProduct 14, 67 matches: {'position': (1235, 508), 'width': '1029px', 'height': '637px'}\n"
          ]
        },
        {
          "data": {
            "text/plain": [
              "{'d': 5, 'sigmaColor': 315, 'sigmaSpace': 315}"
            ]
          },
          "metadata": {},
          "output_type": "display_data"
        },
        {
          "name": "stdout",
          "output_type": "stream",
          "text": [
            "Scene 0:\n",
            "\tProduct 1, 518 matches: {'position': (412, 538), 'width': '1049px', 'height': '802px'}\n",
            "\tProduct 2, 336 matches: {'position': (1248, 533), 'width': '1048px', 'height': '803px'}\n",
            "\tProduct 5, 65 matches: {'position': (381, 403), 'width': '810px', 'height': '440px'}\n",
            "\tProduct 14, 66 matches: {'position': (1224, 470), 'width': '968px', 'height': '581px'}\n"
          ]
        },
        {
          "data": {
            "text/plain": [
              "{'d': 5, 'sigmaColor': 315, 'sigmaSpace': 390}"
            ]
          },
          "metadata": {},
          "output_type": "display_data"
        },
        {
          "name": "stdout",
          "output_type": "stream",
          "text": [
            "Scene 0:\n",
            "\tProduct 1, 535 matches: {'position': (412, 538), 'width': '1050px', 'height': '801px'}\n",
            "\tProduct 2, 337 matches: {'position': (1248, 534), 'width': '1047px', 'height': '804px'}\n",
            "\tProduct 5, 67 matches: {'position': (1249, 450), 'width': '936px', 'height': '511px'}\n",
            "\tProduct 14, 67 matches: {'position': (1224, 461), 'width': '947px', 'height': '568px'}\n"
          ]
        },
        {
          "data": {
            "text/plain": [
              "{'d': 5, 'sigmaColor': 315, 'sigmaSpace': 465}"
            ]
          },
          "metadata": {},
          "output_type": "display_data"
        },
        {
          "name": "stdout",
          "output_type": "stream",
          "text": [
            "Scene 0:\n",
            "\tProduct 1, 524 matches: {'position': (412, 538), 'width': '1049px', 'height': '801px'}\n",
            "\tProduct 2, 340 matches: {'position': (1248, 532), 'width': '1048px', 'height': '801px'}\n",
            "\tProduct 5, 72 matches: {'position': (1252, 565), 'width': '1023px', 'height': '700px'}\n",
            "\tProduct 14, 70 matches: {'position': (1242, 541), 'width': '1083px', 'height': '688px'}\n"
          ]
        },
        {
          "data": {
            "text/plain": [
              "{'d': 5, 'sigmaColor': 315, 'sigmaSpace': 540}"
            ]
          },
          "metadata": {},
          "output_type": "display_data"
        },
        {
          "name": "stdout",
          "output_type": "stream",
          "text": [
            "Scene 0:\n",
            "\tProduct 1, 523 matches: {'position': (412, 538), 'width': '1049px', 'height': '801px'}\n",
            "\tProduct 2, 336 matches: {'position': (1247, 533), 'width': '1049px', 'height': '803px'}\n",
            "\tProduct 5, 67 matches: {'position': (1252, 566), 'width': '1022px', 'height': '702px'}\n",
            "\tProduct 14, 71 matches: {'position': (1242, 538), 'width': '1077px', 'height': '684px'}\n"
          ]
        },
        {
          "data": {
            "text/plain": [
              "{'d': 5, 'sigmaColor': 315, 'sigmaSpace': 615}"
            ]
          },
          "metadata": {},
          "output_type": "display_data"
        },
        {
          "name": "stdout",
          "output_type": "stream",
          "text": [
            "Scene 0:\n",
            "\tProduct 1, 525 matches: {'position': (412, 539), 'width': '1048px', 'height': '802px'}\n",
            "\tProduct 2, 337 matches: {'position': (1247, 533), 'width': '1048px', 'height': '804px'}\n",
            "\tProduct 5, 69 matches: {'position': (1248, 552), 'width': '997px', 'height': '682px'}\n",
            "\tProduct 14, 66 matches: {'position': (1229, 529), 'width': '930px', 'height': '726px'}\n"
          ]
        },
        {
          "data": {
            "text/plain": [
              "{'d': 5, 'sigmaColor': 315, 'sigmaSpace': 690}"
            ]
          },
          "metadata": {},
          "output_type": "display_data"
        },
        {
          "name": "stdout",
          "output_type": "stream",
          "text": [
            "Scene 0:\n",
            "\tProduct 1, 522 matches: {'position': (412, 538), 'width': '1049px', 'height': '802px'}\n",
            "\tProduct 2, 333 matches: {'position': (1248, 533), 'width': '1047px', 'height': '803px'}\n",
            "\tProduct 5, 72 matches: {'position': (1252, 564), 'width': '1021px', 'height': '698px'}\n",
            "\tProduct 14, 70 matches: {'position': (1229, 484), 'width': '985px', 'height': '601px'}\n"
          ]
        },
        {
          "data": {
            "text/plain": [
              "{'d': 5, 'sigmaColor': 315, 'sigmaSpace': 765}"
            ]
          },
          "metadata": {},
          "output_type": "display_data"
        },
        {
          "name": "stdout",
          "output_type": "stream",
          "text": [
            "Scene 0:\n",
            "\tProduct 1, 524 matches: {'position': (412, 538), 'width': '1049px', 'height': '801px'}\n",
            "\tProduct 2, 345 matches: {'position': (1248, 533), 'width': '1048px', 'height': '803px'}\n",
            "\tProduct 5, 66 matches: {'position': (366, 408), 'width': '826px', 'height': '447px'}\n",
            "\tProduct 14, 70 matches: {'position': (1236, 512), 'width': '1034px', 'height': '645px'}\n"
          ]
        },
        {
          "data": {
            "text/plain": [
              "{'d': 5, 'sigmaColor': 315, 'sigmaSpace': 840}"
            ]
          },
          "metadata": {},
          "output_type": "display_data"
        },
        {
          "name": "stdout",
          "output_type": "stream",
          "text": [
            "Scene 0:\n",
            "\tProduct 1, 522 matches: {'position': (411, 538), 'width': '1050px', 'height': '801px'}\n",
            "\tProduct 2, 335 matches: {'position': (1247, 533), 'width': '1049px', 'height': '804px'}\n",
            "\tProduct 5, 69 matches: {'position': (384, 406), 'width': '814px', 'height': '444px'}\n",
            "\tProduct 14, 68 matches: {'position': (1230, 522), 'width': '915px', 'height': '717px'}\n"
          ]
        },
        {
          "ename": "KeyboardInterrupt",
          "evalue": "",
          "output_type": "error",
          "traceback": [
            "\u001b[1;31m---------------------------------------------------------------------------\u001b[0m",
            "\u001b[1;31mKeyboardInterrupt\u001b[0m                         Traceback (most recent call last)",
            "Cell \u001b[1;32mIn[12], line 41\u001b[0m\n\u001b[0;32m     38\u001b[0m search_params \u001b[38;5;241m=\u001b[39m \u001b[38;5;28mdict\u001b[39m(checks\u001b[38;5;241m=\u001b[39m\u001b[38;5;241m50\u001b[39m)\n\u001b[0;32m     40\u001b[0m flann \u001b[38;5;241m=\u001b[39m cv2\u001b[38;5;241m.\u001b[39mFlannBasedMatcher(index_params, search_params)\n\u001b[1;32m---> 41\u001b[0m matches \u001b[38;5;241m=\u001b[39m \u001b[43mflann\u001b[49m\u001b[38;5;241;43m.\u001b[39;49m\u001b[43mknnMatch\u001b[49m\u001b[43m(\u001b[49m\u001b[43mproduct\u001b[49m\u001b[43m[\u001b[49m\u001b[38;5;241;43m1\u001b[39;49m\u001b[43m]\u001b[49m\u001b[43m,\u001b[49m\u001b[43m \u001b[49m\u001b[43mscene_descriptors\u001b[49m\u001b[43m[\u001b[49m\u001b[38;5;241;43m1\u001b[39;49m\u001b[43m]\u001b[49m\u001b[43m,\u001b[49m\u001b[43m \u001b[49m\u001b[43mk\u001b[49m\u001b[38;5;241;43m=\u001b[39;49m\u001b[38;5;241;43m2\u001b[39;49m\u001b[43m)\u001b[49m\n\u001b[0;32m     43\u001b[0m good \u001b[38;5;241m=\u001b[39m []\n\u001b[0;32m     44\u001b[0m \u001b[38;5;28;01mfor\u001b[39;00m m, n \u001b[38;5;129;01min\u001b[39;00m matches:\n",
            "\u001b[1;31mKeyboardInterrupt\u001b[0m: "
          ]
        }
      ],
      "source": [
        "from sklearn.model_selection import ParameterGrid\n",
        "\n",
        "SHOW_FILTERED=False\n",
        "scene_descriptors_a = []\n",
        "\n",
        "pg = ParameterGrid({\n",
        "    'd' : [*range(5,10)],\n",
        "    'sigmaColor' : [*range(15,900, 75)],\n",
        "    'sigmaSpace' : [*range(15,900, 75)]\n",
        "})\n",
        "\n",
        "prefilter_param = {}\n",
        "\n",
        "for i, scene in enumerate(scenes_a):\n",
        "    results = {}\n",
        "    for j in pg:\n",
        "        image = cv2.imread(scene,cv2.IMREAD_GRAYSCALE)\n",
        "        filtered_image, settings = denoise_image(image,type='bilateral',filter_param=j)\n",
        "        sift = cv2.xfeatures2d.SIFT_create()\n",
        "        keypoints = sift.detect(filtered_image)\n",
        "        scene_descriptors = sift.compute(filtered_image, keypoints)\n",
        "        if SHOW_FILTERED:\n",
        "            img_kp=cv2.drawKeypoints(filtered_image,keypoints,None,flags = cv2.DRAW_MATCHES_FLAGS_DRAW_RICH_KEYPOINTS)\n",
        "            plt.figure(figsize=(20,10))\n",
        "            plt.axis('off')\n",
        "            # plt.imshow(filtered_image,cmap='gray')\n",
        "            plt.imshow(img_kp)\n",
        "            plt.title(scene[len(models_path):])\n",
        "            plt.show()\n",
        "\n",
        "        MIN_MATCH_COUNT = 50\n",
        "        results[i] = {\n",
        "            # 'products': []\n",
        "        }   \n",
        "        for j, product in enumerate(product_descriptors_a, 1):\n",
        "            FLANN_INDEX_KDTREE = 1\n",
        "            index_params = dict(algorithm=FLANN_INDEX_KDTREE, trees=5)\n",
        "            search_params = dict(checks=50)\n",
        "\n",
        "            flann = cv2.FlannBasedMatcher(index_params, search_params)\n",
        "            matches = flann.knnMatch(product[1], scene_descriptors[1], k=2)\n",
        "\n",
        "            good = []\n",
        "            for m, n in matches:\n",
        "                if m.distance < 0.7*n.distance:\n",
        "                    good.append(m)\n",
        "            num_matches = len(good)\n",
        "\n",
        "            try: # da errori del cazzo non lo so :)\n",
        "                src_pts = np.float32(\n",
        "                    [product[0][m.queryIdx].pt for m in good]).reshape(-1, 1, 2)\n",
        "                dst_pts = np.float32(\n",
        "                    [scene_descriptors[0][m.trainIdx].pt for m in good]).reshape(-1, 1, 2)\n",
        "                \n",
        "                M, mask = cv2.findHomography(src_pts, dst_pts, cv2.RANSAC, 5.0)\n",
        "\n",
        "                matchesMask = mask.ravel().tolist()\n",
        "\n",
        "                h, w = product[2]\n",
        "                pts = np.float32([[0, 0], [0, h-1], [w-1, h-1],\n",
        "                                [w-1, 0]]).reshape(-1, 1, 2)\n",
        "\n",
        "                dst = np.int32(cv2.perspectiveTransform(pts, M))\n",
        "                # print(len(dst[0]))\n",
        "\n",
        "                # settings['min_match']=MIN_MATCH_COUNT\n",
        "                if num_matches >= MIN_MATCH_COUNT:\n",
        "                    results[i][j] = {\n",
        "                        'count': num_matches,\n",
        "                        'geometry': get_geometry(dst)\n",
        "                    }\n",
        "            except: cv2.error\n",
        "        display(settings)\n",
        "        print_single_instances(results)\n",
        "        settings = {}"
      ]
    },
    {
      "cell_type": "markdown",
      "metadata": {},
      "source": [
        "scene1:1,2  \n",
        "scene2:3,4,5  \n",
        "scene3:6,7,8  \n",
        "scene4:1,2,8,9,10  \n",
        "scene5:2,11,12  "
      ]
    },
    {
      "cell_type": "markdown",
      "metadata": {},
      "source": [
        "## TRACK B"
      ]
    }
  ],
  "metadata": {
    "colab": {
      "provenance": []
    },
    "kernelspec": {
      "display_name": "Python 3",
      "name": "python3"
    },
    "language_info": {
      "codemirror_mode": {
        "name": "ipython",
        "version": 3
      },
      "file_extension": ".py",
      "mimetype": "text/x-python",
      "name": "python",
      "nbconvert_exporter": "python",
      "pygments_lexer": "ipython3",
      "version": "3.12.3"
    }
  },
  "nbformat": 4,
  "nbformat_minor": 0
}
