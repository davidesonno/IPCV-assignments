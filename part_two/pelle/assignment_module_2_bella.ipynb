{
  "cells": [
    {
      "cell_type": "markdown",
      "metadata": {
        "id": "MNBgGYg_lpVN"
      },
      "source": [
        "# Assignment Module 2: Product Classification\n",
        "\n",
        "The goal of this assignment is to implement a neural network that classifies smartphone pictures of products found in grocery stores. The assignment will be divided into two parts: first, you will be asked to implement from scratch your own neural network for image classification; then, you will fine-tune a pretrained network provided by PyTorch.\n"
      ]
    },
    {
      "cell_type": "markdown",
      "metadata": {
        "id": "dVTQUJ4uYH1w"
      },
      "source": [
        "## Preliminaries: the dataset\n",
        "\n",
        "The dataset you will be using contains natural images of products taken with a smartphone camera in different grocery stores:\n",
        "\n",
        "<p align=\"center\">\n",
        "  <img src=\"https://github.com/marcusklasson/GroceryStoreDataset/raw/master/sample_images/natural/Granny-Smith.jpg\" width=\"150\">\n",
        "  <img src=\"https://github.com/marcusklasson/GroceryStoreDataset/raw/master/sample_images/natural/Pink-Lady.jpg\" width=\"150\">\n",
        "  <img src=\"https://github.com/marcusklasson/GroceryStoreDataset/raw/master/sample_images/natural/Lemon.jpg\" width=\"150\">\n",
        "  <img src=\"https://github.com/marcusklasson/GroceryStoreDataset/raw/master/sample_images/natural/Banana.jpg\" width=\"150\">\n",
        "  <img src=\"https://github.com/marcusklasson/GroceryStoreDataset/raw/master/sample_images/natural/Vine-Tomato.jpg\" width=\"150\">\n",
        "</p>\n",
        "<p align=\"center\">\n",
        "  <img src=\"https://github.com/marcusklasson/GroceryStoreDataset/raw/master/sample_images/natural/Yellow-Onion.jpg\" width=\"150\">\n",
        "  <img src=\"https://github.com/marcusklasson/GroceryStoreDataset/raw/master/sample_images/natural/Green-Bell-Pepper.jpg\" width=\"150\">\n",
        "  <img src=\"https://github.com/marcusklasson/GroceryStoreDataset/raw/master/sample_images/natural/Arla-Standard-Milk.jpg\" width=\"150\">\n",
        "  <img src=\"https://github.com/marcusklasson/GroceryStoreDataset/raw/master/sample_images/natural/Oatly-Natural-Oatghurt.jpg\" width=\"150\">\n",
        "  <img src=\"https://github.com/marcusklasson/GroceryStoreDataset/raw/master/sample_images/natural/Alpro-Fresh-Soy-Milk.jpg\" width=\"150\">\n",
        "</p>\n",
        "\n",
        "The products belong to the following 43 classes:\n",
        "```\n",
        "0.  Apple\n",
        "1.  Avocado\n",
        "2.  Banana\n",
        "3.  Kiwi\n",
        "4.  Lemon\n",
        "5.  Lime\n",
        "6.  Mango\n",
        "7.  Melon\n",
        "8.  Nectarine\n",
        "9.  Orange\n",
        "10. Papaya\n",
        "11. Passion-Fruit\n",
        "12. Peach\n",
        "13. Pear\n",
        "14. Pineapple\n",
        "15. Plum\n",
        "16. Pomegranate\n",
        "17. Red-Grapefruit\n",
        "18. Satsumas\n",
        "19. Juice\n",
        "20. Milk\n",
        "21. Oatghurt\n",
        "22. Oat-Milk\n",
        "23. Sour-Cream\n",
        "24. Sour-Milk\n",
        "25. Soyghurt\n",
        "26. Soy-Milk\n",
        "27. Yoghurt\n",
        "28. Asparagus\n",
        "29. Aubergine\n",
        "30. Cabbage\n",
        "31. Carrots\n",
        "32. Cucumber\n",
        "33. Garlic\n",
        "34. Ginger\n",
        "35. Leek\n",
        "36. Mushroom\n",
        "37. Onion\n",
        "38. Pepper\n",
        "39. Potato\n",
        "40. Red-Beet\n",
        "41. Tomato\n",
        "42. Zucchini\n",
        "```\n",
        "\n",
        "The dataset is split into training (`train`), validation (`val`), and test (`test`) set."
      ]
    },
    {
      "cell_type": "markdown",
      "metadata": {
        "id": "1pdrmJRnJPd8"
      },
      "source": [
        "The following code cells download the dataset and define a `torch.utils.data.Dataset` class to access it. This `Dataset` class will be the starting point of your assignment: use it in your own code and build everything else around it."
      ]
    },
    {
      "cell_type": "code",
      "execution_count": 1,
      "metadata": {
        "colab": {
          "base_uri": "https://localhost:8080/"
        },
        "id": "POMX_3x-_bZI",
        "outputId": "d3722099-ecf8-4196-9a0f-fad9d4f3875c"
      },
      "outputs": [],
      "source": [
        "try:\n",
        "    import google.colab\n",
        "    !git clone https://github.com/marcusklasson/GroceryStoreDataset.git\n",
        "except: pass"
      ]
    },
    {
      "cell_type": "code",
      "execution_count": 2,
      "metadata": {
        "id": "hiF8xGEYlsu8"
      },
      "outputs": [],
      "source": [
        "from pathlib import Path\n",
        "from PIL import Image\n",
        "from torch import Tensor\n",
        "from torch.utils.data import Dataset\n",
        "from typing import List, Tuple"
      ]
    },
    {
      "cell_type": "code",
      "execution_count": 7,
      "metadata": {
        "id": "jROSO2qVDxdD"
      },
      "outputs": [],
      "source": [
        "class GroceryStoreDataset(Dataset):\n",
        "\n",
        "    def __init__(self, split: str, transform=None) -> None:\n",
        "        super().__init__()\n",
        "\n",
        "        self.root = Path(\"GroceryStoreDataset/dataset\")\n",
        "        self.split = split\n",
        "        self.paths, self.labels = self.read_file()\n",
        "\n",
        "        self.transform = transform\n",
        "\n",
        "    def __len__(self) -> int:\n",
        "        return len(self.labels)\n",
        "\n",
        "    def __getitem__(self, idx) -> Tuple[Tensor, int]:\n",
        "        img = Image.open(self.root / self.paths[idx])\n",
        "        label = self.labels[idx]\n",
        "\n",
        "        if self.transform:\n",
        "            img = self.transform(img)\n",
        "\n",
        "        return img, label\n",
        "\n",
        "    def read_file(self) -> Tuple[List[str], List[int]]:\n",
        "        paths = []\n",
        "        labels = []\n",
        "\n",
        "        with open(self.root / f\"{self.split}.txt\") as f:\n",
        "            for line in f:\n",
        "                # path, fine-grained class, coarse-grained class\n",
        "                path, _, label = line.replace(\"\\n\", \"\").split(\", \")\n",
        "                paths.append(path), labels.append(int(label))\n",
        "\n",
        "        return paths, labels\n",
        "\n",
        "    def get_num_classes(self) -> int:\n",
        "        return max(self.labels) + 1"
      ]
    },
    {
      "cell_type": "markdown",
      "metadata": {
        "id": "yBch3dpwNSsW"
      },
      "source": [
        "## Part 1: design your own network\n",
        "\n",
        "Your goal is to implement a convolutional neural network for image classification and train it on `GroceryStoreDataset`. You should consider yourselves satisfied once you obtain a classification accuracy on the **validation** split of **around 60%**. You are free to achieve that however you want, except for a few rules you must follow:\n",
        "\n",
        "- You **cannot** simply instantiate an off-the-self PyTorch network. Instead, you must construct your network as a composition of existing PyTorch layers. In more concrete terms, you can use e.g. `torch.nn.Linear`, but you **cannot** use e.g. `torchvision.models.alexnet`.\n",
        "\n",
        "- Justify every *design choice* you make. Design choices include network architecture, training hyperparameters, and, possibly, dataset preprocessing steps. You can either (i) start from the simplest convolutional network you can think of and add complexity one step at a time, while showing how each step gets you closer to the target ~60%, or (ii) start from a model that is already able to achieve the desired accuracy and show how, by removing some of its components, its performance drops (i.e. an *ablation study*). You can *show* your results/improvements however you want: training plots, console-printed values or tables, or whatever else your heart desires: the clearer, the better.\n",
        "\n",
        "Don't be too concerned with your network performance: the ~60% is just to give you an idea of when to stop. Keep in mind that a thoroughly justified model with lower accuracy will be rewarded **more** points than a poorly experimentally validated model with higher accuracy."
      ]
    },
    {
      "cell_type": "markdown",
      "metadata": {
        "id": "Nq4GMcxSH8qG"
      },
      "source": [
        "### Imports"
      ]
    },
    {
      "cell_type": "code",
      "execution_count": 8,
      "metadata": {
        "id": "F5VsEPrKH8qH"
      },
      "outputs": [
        {
          "name": "stdout",
          "output_type": "stream",
          "text": [
            "/Users/pelle/.zshenv:.:6: no such file or directory: /usr/local/env\n",
            "\u001b[33mDEPRECATION: Loading egg at /usr/local/lib/python3.11/site-packages/jupyter-1.0.0-py3.11.egg is deprecated. pip 24.3 will enforce this behaviour change. A possible replacement is to use pip for package installation. Discussion can be found at https://github.com/pypa/pip/issues/12330\u001b[0m\u001b[33m\n",
            "\u001b[0mRequirement already satisfied: pip in /usr/local/lib/python3.11/site-packages (24.1.2)\n",
            "Collecting pip\n",
            "  Downloading pip-24.2-py3-none-any.whl.metadata (3.6 kB)\n",
            "Downloading pip-24.2-py3-none-any.whl (1.8 MB)\n",
            "\u001b[2K   \u001b[90m━━━━━━━━━━━━━━━━━━━━━━━━━━━━━━━━━━━━━━━━\u001b[0m \u001b[32m1.8/1.8 MB\u001b[0m \u001b[31m5.4 MB/s\u001b[0m eta \u001b[36m0:00:00\u001b[0m00:01\u001b[0m:00:01\u001b[0m\n",
            "\u001b[?25hInstalling collected packages: pip\n",
            "  Attempting uninstall: pip\n",
            "    Found existing installation: pip 24.1.2\n",
            "    Uninstalling pip-24.1.2:\n",
            "      Successfully uninstalled pip-24.1.2\n",
            "Successfully installed pip-24.2\n",
            "/Users/pelle/.zshenv:.:6: no such file or directory: /usr/local/env\n",
            "\u001b[33mDEPRECATION: Loading egg at /usr/local/lib/python3.11/site-packages/jupyter-1.0.0-py3.11.egg is deprecated. pip 24.3 will enforce this behaviour change. A possible replacement is to use pip for package installation. Discussion can be found at https://github.com/pypa/pip/issues/12330\u001b[0m\u001b[33m\n",
            "\u001b[0m/Users/pelle/.zshenv:.:6: no such file or directory: /usr/local/env\n",
            "\u001b[33mDEPRECATION: Loading egg at /usr/local/lib/python3.11/site-packages/jupyter-1.0.0-py3.11.egg is deprecated. pip 24.3 will enforce this behaviour change. A possible replacement is to use pip for package installation. Discussion can be found at https://github.com/pypa/pip/issues/12330\u001b[0m\u001b[33m\n",
            "\u001b[0m/Users/pelle/.zshenv:.:6: no such file or directory: /usr/local/env\n",
            "\u001b[33mDEPRECATION: Loading egg at /usr/local/lib/python3.11/site-packages/jupyter-1.0.0-py3.11.egg is deprecated. pip 24.3 will enforce this behaviour change. A possible replacement is to use pip for package installation. Discussion can be found at https://github.com/pypa/pip/issues/12330\u001b[0m\u001b[33m\n",
            "\u001b[0mRequirement already satisfied: torchsummary in /usr/local/lib/python3.11/site-packages (1.5.1)\n"
          ]
        }
      ],
      "source": [
        "! python3.11 -m pip install --upgrade pip\n",
        "! pip install -q wandb\n",
        "! pip install -q torchmetrics\n",
        "! pip install torchsummary"
      ]
    },
    {
      "cell_type": "markdown",
      "metadata": {
        "id": "F6dJm-3pH8qJ"
      },
      "source": [
        "### Weights and Biases for following the net"
      ]
    },
    {
      "cell_type": "code",
      "execution_count": 9,
      "metadata": {
        "id": "2zmkulI0H8qJ"
      },
      "outputs": [],
      "source": [
        "import wandb\n",
        "\n",
        "WANDB_USER = \"lollopelle-2-universit-di-bologna\"\n",
        "WANDB_PROJECT = \"IPCV-assignment-2\""
      ]
    },
    {
      "cell_type": "markdown",
      "metadata": {
        "id": "IEaLcecbH8qK"
      },
      "source": [
        "### Imports"
      ]
    },
    {
      "cell_type": "code",
      "execution_count": 92,
      "metadata": {
        "id": "QmeBcj2MH8qK"
      },
      "outputs": [],
      "source": [
        "# Standard library imports\n",
        "import csv\n",
        "import copy\n",
        "import random\n",
        "from pathlib import Path\n",
        "from typing import Any, Dict\n",
        "import os\n",
        "import json\n",
        "from datetime import datetime\n",
        "import time\n",
        "\n",
        "# Third-party library imports\n",
        "import numpy as np\n",
        "import matplotlib.pyplot as plt\n",
        "from PIL import Image\n",
        "from tqdm import tqdm\n",
        "from tqdm.notebook import tqdm\n",
        "\n",
        "# PyTorch imports\n",
        "import torch\n",
        "import torch.nn as nn\n",
        "import torch.nn.functional as F\n",
        "from torch.optim import AdamW\n",
        "from torch.optim.lr_scheduler import OneCycleLR, LambdaLR\n",
        "from torch.utils.data import DataLoader\n",
        "import torch.utils\n",
        "from torchmetrics.classification.accuracy import Accuracy\n",
        "from torchsummary import summary\n",
        "\n",
        "# Torchvision imports\n",
        "from torchvision import transforms as T\n",
        "from torchvision.models import resnet18, ResNet18_Weights"
      ]
    },
    {
      "cell_type": "markdown",
      "metadata": {
        "id": "32kWjbqzH8qM"
      },
      "source": [
        "#### Functions"
      ]
    },
    {
      "cell_type": "code",
      "execution_count": 12,
      "metadata": {
        "id": "sjbmdhzOH8qN"
      },
      "outputs": [],
      "source": [
        "def fix_random(seed: int) -> None:\n",
        "    \"\"\"Fix all the possible sources of randomness.\n",
        "\n",
        "    Args:\n",
        "        seed: the seed to use.\n",
        "    \"\"\"\n",
        "    np.random.seed(seed)\n",
        "    random.seed(seed)\n",
        "    torch.manual_seed(seed)\n",
        "    torch.cuda.manual_seed(seed)\n",
        "\n",
        "    torch.backends.cudnn.benchmark = False\n",
        "    torch.backends.cudnn.deterministic = True\n",
        "\n",
        "def extract_classes(csv_file_path: str) -> dict:\n",
        "    \"\"\"\n",
        "    Extract unique pairs of IDs and labels from a CSV file.\n",
        "\n",
        "    This function reads a CSV file, extracts the third and fourth columns,\n",
        "    and creates a dictionary with unique pairs of IDs (from the fourth column)\n",
        "    and labels (from the third column).\n",
        "\n",
        "    Parameters:\n",
        "    csv_file_path (str): The path to the CSV file.\n",
        "\n",
        "    Returns:\n",
        "    dict: A dictionary with IDs as keys and labels as values.\n",
        "    \"\"\"\n",
        "\n",
        "    # Dictionary to store the unique pairs\n",
        "    classes = {}\n",
        "\n",
        "    # Read the CSV file\n",
        "    with open(csv_file_path, mode='r', newline='', encoding='utf-8') as file:\n",
        "        csv_reader = csv.reader(file)\n",
        "\n",
        "        # Skip the CSV header\n",
        "        next(csv_reader)\n",
        "\n",
        "        for row in csv_reader:\n",
        "            label = row[2]       # Third column\n",
        "            id = int(row[3])     # Fourth column\n",
        "\n",
        "            # Add the pair to the dictionary if it doesn't already exist\n",
        "            if id not in classes:\n",
        "                classes[id] = label\n",
        "\n",
        "    return classes\n",
        "\n",
        "def show_grid(dataset: GroceryStoreDataset, classes: dict) -> None:\n",
        "    \"\"\"Shows a grid with random images taken from the dataset.\n",
        "\n",
        "    Args:\n",
        "        dataset: the dataset containing the images.\n",
        "        process: a function to apply on the images before showing them.\n",
        "    \"\"\"\n",
        "    fig = plt.figure(figsize=(15, 5))\n",
        "    indices_random = np.random.randint(10, size=10, high=len(classes.keys()))\n",
        "\n",
        "    for count, idx in enumerate(indices_random):\n",
        "        fig.add_subplot(2, 5, count + 1)\n",
        "        item = dataset.__getitem__(idx) # (Tensor, idx)\n",
        "        title = classes[item[1]]\n",
        "        plt.title(title)\n",
        "        image_processed = item[0]\n",
        "        plt.imshow(T.ToPILImage()(image_processed))\n",
        "        plt.axis(\"off\")\n",
        "\n",
        "    plt.tight_layout()\n",
        "    plt.show()\n",
        "\n",
        "def parse_compose(v):\n",
        "  res = []\n",
        "  for t in str(v).split(\"\\n\")[1:]:\n",
        "    res.append(t.strip(\"    \"))\n",
        "  return res[:-1]"
      ]
    },
    {
      "cell_type": "markdown",
      "metadata": {
        "id": "2F1cwsSnH8qO"
      },
      "source": [
        "### Configuration"
      ]
    },
    {
      "cell_type": "code",
      "execution_count": 14,
      "metadata": {
        "colab": {
          "base_uri": "https://localhost:8080/"
        },
        "id": "V5mITuuvH8qP",
        "outputId": "184d0269-19c9-4a0e-ee51-f2c4b6048f49"
      },
      "outputs": [
        {
          "name": "stdout",
          "output_type": "stream",
          "text": [
            "Please set GPU via Edit -> Notebook Settings\n"
          ]
        }
      ],
      "source": [
        "fix_random(seed=42)\n",
        "\n",
        "device = \"cpu\"\n",
        "if torch.cuda.is_available():\n",
        "  print(\"All good, a GPU is available\")\n",
        "  device = torch.device(\"cuda:0\")\n",
        "else:\n",
        "  print(\"Please set GPU via Edit -> Notebook Settings\")\n",
        "\n",
        "cfg = {\n",
        "    \"resize_size\": 256,\n",
        "    \"crop_size\": 224,\n",
        "    \"batch_size\": 16,\n",
        "    \"num_epochs\": 50,\n",
        "    \"lr\": 1e-3,\n",
        "    \"wd\": 5e-4,\n",
        "    \"step_size\": 5\n",
        "}"
      ]
    },
    {
      "cell_type": "markdown",
      "metadata": {
        "id": "a1e0PtlZH8qQ"
      },
      "source": [
        "### Data"
      ]
    },
    {
      "cell_type": "code",
      "execution_count": 93,
      "metadata": {
        "id": "Nb6xOKMdH8qR"
      },
      "outputs": [],
      "source": [
        "# In  order to convert integer classes into their literal\n",
        "classes = extract_classes(csv_file_path = 'GroceryStoreDataset/dataset/classes.csv')\n",
        "\n",
        "# Preprocessing\n",
        "mean_image_net = [0.485, 0.456, 0.406]                              \n",
        "std_image_net = [0.229, 0.224, 0.225]   \n",
        "       \n",
        "cfg[\"augment\"] = True   # True/False                     \n",
        "data_transforms = {\n",
        "    \"train\": T.Compose([\n",
        "                        T.RandomResizedCrop(cfg[\"crop_size\"]),\n",
        "                        T.RandomHorizontalFlip(),\n",
        "                        T.RandomVerticalFlip(),                \n",
        "                        T.RandomRotation(180),                              # rotation in all directions\n",
        "                        T.RandomAffine(degrees=0, translate=(0.1, 0.1)),    # translations of 10%\n",
        "                        T.RandomPerspective(distortion_scale=0.1, p=0.5),       \n",
        "                        T.ToTensor(),\n",
        "                        T.Normalize(mean_image_net, std_image_net)\n",
        "                    ]),\n",
        "\n",
        "    \"val\": T.Compose([\n",
        "                        T.Resize(cfg[\"resize_size\"]),               \n",
        "                        T.CenterCrop(cfg[\"crop_size\"]),             \n",
        "                        T.ToTensor(),                               \n",
        "                        T.Normalize(mean_image_net, std_image_net)  \n",
        "                    ]),\n",
        "\n",
        "    \"test\": T.Compose([\n",
        "                        T.Resize(cfg[\"resize_size\"]),               \n",
        "                        T.ToTensor()                        \n",
        "                    ]) # TODO: cut, it's just for debug\n",
        "}\n",
        "\n",
        "# Datasets\n",
        "data_train = GroceryStoreDataset(split=\"train\", transform=data_transforms[\"train\"] if cfg[\"augment\"] else None)\n",
        "data_val = GroceryStoreDataset(split=\"val\", transform=data_transforms[\"val\"])\n",
        "data_test = GroceryStoreDataset(split=\"test\", transform=data_transforms[\"test\"])\n",
        "\n",
        "# DEBUG\n",
        "# show_grid(dataset=data_train, classes=classes)\n",
        "# show_grid(dataset=data_test, classes=classes)\n",
        "# show_grid(dataset=data_val, classes=classes)"
      ]
    },
    {
      "cell_type": "code",
      "execution_count": 85,
      "metadata": {},
      "outputs": [
        {
          "data": {
            "image/png": "[encoded data removed]",
            "text/plain": [
              "<Figure size 2000x500 with 10 Axes>"
            ]
          },
          "metadata": {},
          "output_type": "display_data"
        }
      ],
      "source": [
        "# TODO: delete cell, its just to visualize transformations\n",
        "\n",
        "inv_normalize = T.Compose([\n",
        "    T.Normalize(mean=[-m / s for m, s in zip(mean_image_net, std_image_net)],\n",
        "                std=[1 / s for s in std_image_net])\n",
        "])\n",
        "\n",
        "# Load and prepare the image\n",
        "img = Image.open(\"./GroceryStoreDataset/dataset/train/Packages/Yoghurt/Yoggi-Vanilla-Yoghurt/Yoggi-Vanilla-Yoghurt_020.jpg\").convert(\"RGB\")\n",
        "\n",
        "# Apply transformations directly to the PIL image\n",
        "n=9\n",
        "transformed_images = [data_transforms[\"train\"](img) for _ in range(n)]\n",
        "\n",
        "# Convert tensors back to PIL images for visualization\n",
        "# Unnormalize and convert to PIL\n",
        "transformed_images_pil = [T.ToPILImage()(inv_normalize(img_tensor)) for img_tensor in transformed_images]\n",
        "\n",
        "# Display the images\n",
        "fig, axes = plt.subplots(1, n+1, figsize=(20, 5))\n",
        "axes[0].imshow(img)\n",
        "axes[0].set_title('Original')\n",
        "axes[0].axis('off')\n",
        "\n",
        "# for i, pil_img in enumerate(transformed_images_pil):\n",
        "for i, pil_img in enumerate(transformed_images_pil):\n",
        "    axes[i + 1].imshow(pil_img)\n",
        "    axes[i + 1].set_title(f'Augmented {i + 1}')\n",
        "    axes[i + 1].axis('off')\n",
        "\n",
        "plt.show()"
      ]
    },
    {
      "cell_type": "markdown",
      "metadata": {
        "id": "1de1sRClH8qS"
      },
      "source": [
        "### Models"
      ]
    },
    {
      "cell_type": "code",
      "execution_count": 88,
      "metadata": {},
      "outputs": [],
      "source": [
        "class Project_v1(nn.Module):\n",
        "    \"\"\"\n",
        "    Start with the simplest NN possible\n",
        "    \"\"\"\n",
        "    def __init__(self, n_classes):\n",
        "        super(Project_v1, self).__init__()\n",
        "        self.fc1 = nn.Linear(3 * 224 * 224, n_classes)  # Flatten input and map to output classes\n",
        "\n",
        "    def forward(self, x):\n",
        "        x = x.view(x.size(0), -1)  # Flatten the input\n",
        "        x = self.fc1(x)  # Apply the fully connected layer\n",
        "        return x"
      ]
    },
    {
      "cell_type": "code",
      "execution_count": 94,
      "metadata": {},
      "outputs": [],
      "source": [
        "class Project_v2(nn.Module):\n",
        "    \"\"\"\n",
        "    Add a necessary fc layer in order to distinguish the representation from their logits score\n",
        "    \"\"\"\n",
        "    def __init__(self, n_classes):\n",
        "        super(Project_v2, self).__init__()\n",
        "        self.fc1 = nn.Linear(3 * 224 * 224, 1024)  \n",
        "        self.fc2 = nn.Linear(1024, n_classes)       \n",
        "\n",
        "    def forward(self, x):\n",
        "        x = x.view(x.size(0), -1)  # Flatten the input\n",
        "        x = F.relu(self.fc1(x))   # Apply ReLU activation function after first FC layer\n",
        "        x = self.fc2(x)           # Apply second FC layer to get final class scores\n",
        "        return x\n"
      ]
    },
    {
      "cell_type": "code",
      "execution_count": 105,
      "metadata": {},
      "outputs": [],
      "source": [
        "class Project_v3(nn.Module):\n",
        "    \"\"\"\n",
        "    Use CNN, so use convolutional layer \n",
        "    \"\"\"\n",
        "    def __init__(self, n_classes):\n",
        "        super(Project_v3, self).__init__()\n",
        "        # Define a single 3x3 convolutional layer\n",
        "        self.conv1 = nn.Conv2d(in_channels=3, out_channels=16, kernel_size=3, stride=1, padding=1)\n",
        "        \n",
        "        self.fc1 = nn.Linear(16 * 224 * 224, 1024)  # Fully Connected Layer\n",
        "        self.fc2 = nn.Linear(1024, n_classes)       # Output Layer\n",
        "\n",
        "    def forward(self, x):\n",
        "        x = F.relu(self.conv1(x))  # Apply convolution and ReLU activation\n",
        "        x = x.view(x.size(0), -1)  # Flatten the output for the fully connected layer\n",
        "        x = F.relu(self.fc1(x))   # Apply first fully connected layer\n",
        "        x = self.fc2(x)           # Apply second fully connected layer to get final class scores\n",
        "        return x"
      ]
    },
    {
      "cell_type": "code",
      "execution_count": 108,
      "metadata": {},
      "outputs": [],
      "source": [
        "class Project_v4(nn.Module):\n",
        "    \"\"\"\n",
        "    Use CNN, so use convolutional layer + maxpool\n",
        "    \"\"\"\n",
        "    def __init__(self, n_classes):\n",
        "        super(Project_v4, self).__init__()\n",
        "        # Define a single 3x3 convolutional layer\n",
        "        self.conv1 = nn.Conv2d(in_channels=3, out_channels=16, kernel_size=3, stride=1, padding=1)\n",
        "        \n",
        "        # Define a max pooling layer\n",
        "        self.pool = nn.MaxPool2d(kernel_size=2, stride=2, padding=0)\n",
        "        \n",
        "        self.fc1 = nn.Linear(16 * 112 * 112, 1024)  # Fully Connected Layer\n",
        "        self.fc2 = nn.Linear(1024, n_classes)       # Output Layer\n",
        "\n",
        "    def forward(self, x):\n",
        "        x = F.relu(self.conv1(x))  # Apply convolution and ReLU activation\n",
        "        x = self.pool(x)           # Apply max pooling\n",
        "        x = x.view(x.size(0), -1)  # Flatten the output for the fully connected layer\n",
        "        x = F.relu(self.fc1(x))    # Apply first fully connected layer\n",
        "        x = self.fc2(x)            # Apply second fully connected layer to get final class scores\n",
        "        return x"
      ]
    },
    {
      "cell_type": "code",
      "execution_count": 115,
      "metadata": {},
      "outputs": [],
      "source": [
        "# TODO: explain why\n",
        "class Project_v5(nn.Module):\n",
        "    \"\"\"\n",
        "    Vanilla CNN\n",
        "    \"\"\"\n",
        "    def __init__(self, n_classes):\n",
        "        super(Project_v5, self).__init__()\n",
        "        # Convolutional layers\n",
        "        self.conv1 = nn.Conv2d(in_channels=3, out_channels=32, kernel_size=3, stride=1, padding=1)\n",
        "        self.conv2 = nn.Conv2d(in_channels=32, out_channels=64, kernel_size=3, stride=1, padding=1)\n",
        "        self.pool = nn.MaxPool2d(kernel_size=2, stride=2, padding=0)\n",
        "        \n",
        "        # FC layers\n",
        "        self.fc1 = nn.Linear(64 * 56 * 56, 128) \n",
        "        self.fc2 = nn.Linear(128, n_classes)    \n",
        "\n",
        "    def forward(self, x):\n",
        "        x = self.pool(F.relu(self.conv1(x)))  \n",
        "        x = self.pool(F.relu(self.conv2(x)))  \n",
        "        x = x.view(x.size(0), -1)             \n",
        "        x = F.relu(self.fc1(x))               \n",
        "        x = self.fc2(x)                       \n",
        "        return x"
      ]
    },
    {
      "cell_type": "code",
      "execution_count": 122,
      "metadata": {},
      "outputs": [],
      "source": [
        "class Project_v6(nn.Module):\n",
        "    \"\"\"\n",
        "    Deeper CNN without residual blocks\n",
        "    \"\"\"\n",
        "    def __init__(self, n_classes):\n",
        "        super(Project_v6, self).__init__()\n",
        "        # Convolutional layers\n",
        "        self.conv1 = nn.Conv2d(in_channels=3, out_channels=32, kernel_size=3, stride=1, padding=1)\n",
        "        self.conv2 = nn.Conv2d(in_channels=32, out_channels=64, kernel_size=3, stride=1, padding=1)\n",
        "        self.conv3 = nn.Conv2d(in_channels=64, out_channels=128, kernel_size=3, stride=1, padding=1)\n",
        "        self.conv4 = nn.Conv2d(in_channels=128, out_channels=256, kernel_size=3, stride=1, padding=1)\n",
        "        self.conv5 = nn.Conv2d(in_channels=256, out_channels=512, kernel_size=3, stride=1, padding=1)\n",
        "        \n",
        "        self.pool = nn.MaxPool2d(kernel_size=2, stride=2, padding=0)\n",
        "        \n",
        "        # FC layers\n",
        "        self.fc1 = nn.Linear(512 * 7 * 7, 1024) \n",
        "        self.fc2 = nn.Linear(1024, 512)\n",
        "        self.fc3 = nn.Linear(512, n_classes)    \n",
        "\n",
        "    def forward(self, x):\n",
        "        x = self.pool(F.relu(self.conv1(x)))  # 32 x 112 x 112\n",
        "        x = self.pool(F.relu(self.conv2(x)))  # 64 x 56 x 56\n",
        "        x = self.pool(F.relu(self.conv3(x)))  # 128 x 28 x 28\n",
        "        x = self.pool(F.relu(self.conv4(x)))  # 256 x 14 x 14\n",
        "        x = self.pool(F.relu(self.conv5(x)))  # 512 x 7 x 7\n",
        "        x = x.view(x.size(0), -1)             # Flatten\n",
        "        x = F.relu(self.fc1(x))               \n",
        "        x = F.relu(self.fc2(x))               \n",
        "        x = self.fc3(x)                       \n",
        "        return x"
      ]
    },
    {
      "cell_type": "code",
      "execution_count": null,
      "metadata": {},
      "outputs": [],
      "source": [
        "# v6 + batchnorm\n",
        "class Project_v7(nn.Module):\n",
        "    def __init__(self, n_classes):\n",
        "        super(Project_v7, self).__init__()\n",
        "        \n",
        "        # Convolutional layers with Batch Normalization\n",
        "        self.conv1 = nn.Conv2d(in_channels=3, out_channels=32, kernel_size=3, stride=1, padding=1)\n",
        "        self.bn1 = nn.BatchNorm2d(32)\n",
        "        self.conv2 = nn.Conv2d(in_channels=32, out_channels=64, kernel_size=3, stride=1, padding=1)\n",
        "        self.bn2 = nn.BatchNorm2d(64)\n",
        "        self.conv3 = nn.Conv2d(in_channels=64, out_channels=128, kernel_size=3, stride=1, padding=1)\n",
        "        self.bn3 = nn.BatchNorm2d(128)\n",
        "        self.conv4 = nn.Conv2d(in_channels=128, out_channels=256, kernel_size=3, stride=1, padding=1)\n",
        "        self.bn4 = nn.BatchNorm2d(256)\n",
        "        self.conv5 = nn.Conv2d(in_channels=256, out_channels=512, kernel_size=3, stride=1, padding=1)\n",
        "        self.bn5 = nn.BatchNorm2d(512)\n",
        "        \n",
        "        self.pool = nn.MaxPool2d(kernel_size=2, stride=2, padding=0)\n",
        "        \n",
        "        # Dropout layers\n",
        "        self.dropout = nn.Dropout(p=0.5)\n",
        "        \n",
        "        # Fully connected layers\n",
        "        self.fc1 = nn.Linear(512 * 7 * 7, 1024)\n",
        "        self.fc2 = nn.Linear(1024, 512)\n",
        "        self.fc3 = nn.Linear(512, n_classes)\n",
        "    \n",
        "    def forward(self, x):\n",
        "        x = self.pool(F.relu(self.bn1(self.conv1(x))))  # 32 x 112 x 112\n",
        "        x = self.pool(F.relu(self.bn2(self.conv2(x))))  # 64 x 56 x 56\n",
        "        x = self.pool(F.relu(self.bn3(self.conv3(x))))  # 128 x 28 x 28\n",
        "        x = self.pool(F.relu(self.bn4(self.conv4(x))))  # 256 x 14 x 14\n",
        "        x = self.pool(F.relu(self.bn5(self.conv5(x))))  # 512 x 7 x 7\n",
        "        \n",
        "        x = x.view(x.size(0), -1)  # Flatten\n",
        "        x = F.relu(self.fc1(x))\n",
        "        x = self.dropout(x)  # Dropout\n",
        "        x = F.relu(self.fc2(x))\n",
        "        x = self.dropout(x)  # Dropout\n",
        "        x = self.fc3(x)\n",
        "        return x"
      ]
    },
    {
      "cell_type": "code",
      "execution_count": null,
      "metadata": {},
      "outputs": [],
      "source": [
        "# try residual blocks\n",
        "class ResidualBlock(nn.Module):\n",
        "    def __init__(self, in_channels, out_channels, stride=1):\n",
        "        super(ResidualBlock, self).__init__()\n",
        "        \n",
        "        # First convolutional layer with Batch Normalization\n",
        "        # Convolutional layer applies a 3x3 kernel. Padding=1 maintains spatial dimensions.\n",
        "        self.conv1 = nn.Conv2d(in_channels, out_channels, kernel_size=3, stride=stride, padding=1)\n",
        "        self.bn1 = nn.BatchNorm2d(out_channels)  # Batch Normalization stabilizes and accelerates training.\n",
        "        self.relu = nn.ReLU(inplace=True)  # ReLU activation function for non-linearity and in-place operation to save memory.\n",
        "        \n",
        "        # Second convolutional layer with Batch Normalization\n",
        "        # Same kernel size and padding as the first convolution to maintain spatial dimensions.\n",
        "        self.conv2 = nn.Conv2d(out_channels, out_channels, kernel_size=3, stride=1, padding=1)\n",
        "        self.bn2 = nn.BatchNorm2d(out_channels)\n",
        "        \n",
        "        # Shortcut connection (skip connection) to add the input to the output of convolutions\n",
        "        self.shortcut = nn.Sequential()\n",
        "        # If the number of channels changes or stride is not 1, adjust the shortcut path\n",
        "        if stride != 1 or in_channels != out_channels:\n",
        "            self.shortcut = nn.Sequential(\n",
        "                nn.Conv2d(in_channels, out_channels, kernel_size=1, stride=stride, padding=0),  # 1x1 convolution to match dimensions\n",
        "                nn.BatchNorm2d(out_channels)  # Batch Normalization to match the output of the shortcut path\n",
        "            )\n",
        "    \n",
        "    def forward(self, x):\n",
        "        # Pass through first convolution, batch normalization, and ReLU\n",
        "        out = self.relu(self.bn1(self.conv1(x)))\n",
        "        # Pass through second convolution and batch normalization\n",
        "        out = self.bn2(self.conv2(out))\n",
        "        # Add the shortcut path to the output\n",
        "        out += self.shortcut(x)\n",
        "        # Apply ReLU activation function to the result of the addition\n",
        "        out = self.relu(out)\n",
        "        return out\n",
        "\n",
        "class Project_v8(nn.Module):\n",
        "    def __init__(self, n_classes):\n",
        "        super(Project_v8, self).__init__()\n",
        "        \n",
        "        # Initial Convolutional Layer\n",
        "        # Applies a 3x3 convolution followed by max pooling to reduce spatial dimensions and extract initial features.\n",
        "        self.layer1 = nn.Sequential(\n",
        "            nn.Conv2d(3, 32, kernel_size=3, stride=1, padding=1),  # Initial layer to process RGB images (3 channels)\n",
        "            nn.MaxPool2d(kernel_size=2, stride=2, padding=0)  # Downsample spatial dimensions by a factor of 2\n",
        "        )\n",
        "        \n",
        "        # Residual Block Layers\n",
        "        # Sequential application of residual blocks to progressively extract more complex features\n",
        "        # Each residual block is followed by max pooling to further reduce spatial dimensions\n",
        "        self.layer2 = nn.Sequential(\n",
        "            ResidualBlock(32, 64),  # Residual block with increasing number of channels\n",
        "            nn.MaxPool2d(kernel_size=2, stride=2, padding=0)  # Downsample by another factor of 2\n",
        "        )\n",
        "        self.layer3 = nn.Sequential(\n",
        "            ResidualBlock(64, 128),  # Further increase in channel size\n",
        "            nn.MaxPool2d(kernel_size=2, stride=2, padding=0)\n",
        "        )\n",
        "        self.layer4 = nn.Sequential(\n",
        "            ResidualBlock(128, 256),  # More complex features with more channels\n",
        "            nn.MaxPool2d(kernel_size=2, stride=2, padding=0)\n",
        "        )\n",
        "        self.layer5 = nn.Sequential(\n",
        "            ResidualBlock(256, 512),  # Final residual block with the largest number of channels\n",
        "            nn.MaxPool2d(kernel_size=2, stride=2, padding=0)\n",
        "        )\n",
        "        \n",
        "        # Fully Connected Layers\n",
        "        # Flattened output from the convolutional layers is passed through fully connected layers for classification\n",
        "        # The output of the last convolutional layer (512 channels, 7x7 spatial size) is used as input to the FC layers\n",
        "        self.fc1 = nn.Linear(512 * 7 * 7, 1024)  # First fully connected layer reduces to 1024 units\n",
        "        self.fc2 = nn.Linear(1024, 512)  # Second fully connected layer reduces to 512 units\n",
        "        self.fc3 = nn.Linear(512, n_classes)  # Final layer outputs class scores (number of classes)\n",
        "    \n",
        "    def forward(self, x):\n",
        "        # Pass input through each sequential layer\n",
        "        x = self.layer1(x)  # Initial convolution and pooling\n",
        "        x = self.layer2(x)  # Residual block and pooling\n",
        "        x = self.layer3(x)  # Residual block and pooling\n",
        "        x = self.layer4(x)  # Residual block and pooling\n",
        "        x = self.layer5(x)  # Residual block and pooling\n",
        "        # Flatten the output for the fully connected layers\n",
        "        x = x.view(x.size(0), -1)  # Flattening to (batch_size, num_features)\n",
        "        x = F.relu(self.fc1(x))  # First fully connected layer with ReLU activation\n",
        "        x = F.relu(self.fc2(x))  # Second fully connected layer with ReLU activation\n",
        "        x = self.fc3(x)  # Final fully connected layer for class scores\n",
        "        return x"
      ]
    },
    {
      "cell_type": "code",
      "execution_count": null,
      "metadata": {},
      "outputs": [],
      "source": [
        "# without BN\n",
        "class ResidualBlock(nn.Module):\n",
        "    def __init__(self, in_channels, out_channels, stride=1):\n",
        "        super(ResidualBlock, self).__init__()\n",
        "        \n",
        "        # First convolutional layer with ReLU activation\n",
        "        self.conv1 = nn.Conv2d(in_channels, out_channels, kernel_size=3, stride=stride, padding=1)\n",
        "        self.relu = nn.ReLU(inplace=True)  # ReLU activation function\n",
        "        \n",
        "        # Second convolutional layer with ReLU activation\n",
        "        self.conv2 = nn.Conv2d(out_channels, out_channels, kernel_size=3, stride=1, padding=1)\n",
        "        \n",
        "        # Shortcut path to add the input directly to the output\n",
        "        self.shortcut = nn.Sequential()\n",
        "        if stride != 1 or in_channels != out_channels:\n",
        "            # If the dimensions change, adjust the shortcut path\n",
        "            self.shortcut = nn.Sequential(\n",
        "                nn.Conv2d(in_channels, out_channels, kernel_size=1, stride=stride, padding=0)\n",
        "            )\n",
        "    \n",
        "    def forward(self, x):\n",
        "        # Pass through the first convolution and ReLU\n",
        "        out = self.relu(self.conv1(x))\n",
        "        # Pass through the second convolution\n",
        "        out = self.conv2(out)\n",
        "        # Add the shortcut path to the output\n",
        "        out += self.shortcut(x)\n",
        "        # Apply ReLU activation function\n",
        "        out = self.relu(out)\n",
        "        return out\n",
        "\n",
        "class Project_v7(nn.Module):\n",
        "    def __init__(self, n_classes):\n",
        "        super(Project_v7, self).__init__()\n",
        "        \n",
        "        # Initial Convolutional Layer\n",
        "        self.layer1 = nn.Sequential(\n",
        "            nn.Conv2d(3, 32, kernel_size=3, stride=1, padding=1),  # Convolution to extract initial features\n",
        "            nn.MaxPool2d(kernel_size=2, stride=2, padding=0)  # Pooling to reduce spatial dimensions\n",
        "        )\n",
        "        \n",
        "        # Residual Block Layers\n",
        "        self.layer2 = nn.Sequential(\n",
        "            ResidualBlock(32, 64),  # Residual block with increasing channel size\n",
        "            nn.MaxPool2d(kernel_size=2, stride=2, padding=0)  # Pooling to reduce dimensions further\n",
        "        )\n",
        "        self.layer3 = nn.Sequential(\n",
        "            ResidualBlock(64, 128),\n",
        "            nn.MaxPool2d(kernel_size=2, stride=2, padding=0)\n",
        "        )\n",
        "        self.layer4 = nn.Sequential(\n",
        "            ResidualBlock(128, 256),\n",
        "            nn.MaxPool2d(kernel_size=2, stride=2, padding=0)\n",
        "        )\n",
        "        self.layer5 = nn.Sequential(\n",
        "            ResidualBlock(256, 512),\n",
        "            nn.MaxPool2d(kernel_size=2, stride=2, padding=0)\n",
        "        )\n",
        "        \n",
        "        # Fully Connected Layers\n",
        "        # Assuming the output of the last residual block is 512 channels with spatial dimensions 7x7\n",
        "        self.fc1 = nn.Linear(512 * 7 * 7, 1024)  # First fully connected layer\n",
        "        self.fc2 = nn.Linear(1024, 512)  # Second fully connected layer\n",
        "        self.fc3 = nn.Linear(512, n_classes)  # Final layer for class scores\n",
        "    \n",
        "    def forward(self, x):\n",
        "        # Pass input through each layer\n",
        "        x = self.layer1(x)  # Initial layer\n",
        "        x = self.layer2(x)  # First residual block\n",
        "        x = self.layer3(x)  # Second residual block\n",
        "        x = self.layer4(x)  # Third residual block\n",
        "        x = self.layer5(x)  # Fourth residual block\n",
        "        # Flatten the output for the fully connected layers\n",
        "        x = x.view(x.size(0), -1)  # Flattening to (batch_size, num_features)\n",
        "        x = F.relu(self.fc1(x))  # First fully connected layer with ReLU\n",
        "        x = F.relu(self.fc2(x))  # Second fully connected layer with ReLU\n",
        "        x = self.fc3(x)  # Final fully connected layer for class scores\n",
        "        return x\n"
      ]
    },
    {
      "cell_type": "code",
      "execution_count": 139,
      "metadata": {
        "id": "JoXt8nCUH8qU"
      },
      "outputs": [],
      "source": [
        "cfg[\"model\"] = \"v7\"\n",
        "match cfg[\"model\"] :\n",
        "    case \"v1\" : model = Project_v1(n_classes=len(classes))\n",
        "    case \"v2\" : model = Project_v2(n_classes=len(classes))\n",
        "    case \"v3\" : model = Project_v3(n_classes=len(classes))\n",
        "    case \"v4\" : model = Project_v4(n_classes=len(classes))\n",
        "    case \"v5\" : model = Project_v5(n_classes=len(classes))\n",
        "    case \"v6\" : model = Project_v6(n_classes=len(classes))\n",
        "    case \"v7\" : model = Project_v7(n_classes=len(classes))\n",
        "    case \"v8\" : model = Project_v8(n_classes=len(classes))\n",
        "    case \"proj\": model = ProjectCNN(n_classes=len(classes))\n",
        "    case _ : raise NameError(\"Unknown model in FLAG\")\n",
        "\n",
        "# Verifies if the model is already on the device\n",
        "if next(model.parameters()).device != device:\n",
        "    model.to(device)"
      ]
    },
    {
      "cell_type": "code",
      "execution_count": 140,
      "metadata": {
        "colab": {
          "base_uri": "https://localhost:8080/"
        },
        "id": "utqqaBufKrLV",
        "outputId": "849ac686-983e-41e6-a5ad-9b58abbc0653"
      },
      "outputs": [
        {
          "name": "stdout",
          "output_type": "stream",
          "text": [
            "----------------------------------------------------------------\n",
            "        Layer (type)               Output Shape         Param #\n",
            "================================================================\n",
            "            Conv2d-1         [-1, 16, 112, 112]             448\n",
            "            Conv2d-2           [-1, 32, 56, 56]           4,640\n",
            "            Conv2d-3           [-1, 64, 28, 28]          18,496\n",
            "         MaxPool2d-4           [-1, 64, 14, 14]               0\n",
            "            Conv2d-5          [-1, 128, 14, 14]          73,856\n",
            "            Conv2d-6          [-1, 256, 14, 14]         295,168\n",
            "         MaxPool2d-7            [-1, 256, 7, 7]               0\n",
            "            Conv2d-8            [-1, 512, 7, 7]       1,180,160\n",
            "         MaxPool2d-9            [-1, 512, 3, 3]               0\n",
            "           Conv2d-10           [-1, 1024, 3, 3]       4,719,616\n",
            "        MaxPool2d-11           [-1, 1024, 1, 1]               0\n",
            "           Conv2d-12           [-1, 2048, 1, 1]      18,876,416\n",
            "           Linear-13                 [-1, 4096]       8,392,704\n",
            "          Dropout-14                 [-1, 4096]               0\n",
            "           Linear-15                 [-1, 2048]       8,390,656\n",
            "           Linear-16                   [-1, 43]          88,107\n",
            "================================================================\n",
            "Total params: 42,040,267\n",
            "Trainable params: 42,040,267\n",
            "Non-trainable params: 0\n",
            "----------------------------------------------------------------\n",
            "Input size (MB): 0.57\n",
            "Forward/backward pass size (MB): 3.84\n",
            "Params size (MB): 160.37\n",
            "Estimated Total Size (MB): 164.79\n",
            "----------------------------------------------------------------\n"
          ]
        }
      ],
      "source": [
        "summary(\n",
        "    model,\n",
        "    input_size=(3, cfg[\"crop_size\"], cfg[\"crop_size\"])\n",
        ")"
      ]
    },
    {
      "cell_type": "markdown",
      "metadata": {
        "id": "RDQSuPmyH8qW"
      },
      "source": [
        "### Trainer"
      ]
    },
    {
      "cell_type": "code",
      "execution_count": null,
      "metadata": {
        "id": "s26-iuCUH8qX"
      },
      "outputs": [],
      "source": [
        "# For automating batching\n",
        "\n",
        "loader_train = DataLoader(\n",
        "    data_train,\n",
        "    batch_size=cfg[\"batch_size\"],\n",
        "    shuffle=True,\n",
        "    pin_memory=True\n",
        ")\n",
        "loader_val = DataLoader(\n",
        "    data_val,\n",
        "    batch_size=cfg[\"batch_size\"],\n",
        "    shuffle=False\n",
        ")\n",
        "loader_test = DataLoader(\n",
        "    data_test,\n",
        "    batch_size=cfg[\"batch_size\"],\n",
        "    shuffle=False\n",
        ")"
      ]
    },
    {
      "cell_type": "code",
      "execution_count": null,
      "metadata": {
        "id": "fKCGB9a9H8qY"
      },
      "outputs": [],
      "source": [
        "class Trainer:\n",
        "    def __init__(self,\n",
        "            model: nn.Module,\n",
        "            train_loader: DataLoader,\n",
        "            val_loader: DataLoader,\n",
        "            test_loader: DataLoader,\n",
        "            device: torch.device,\n",
        "            num_classes: int\n",
        "        ) -> None:\n",
        "        self.train_loader = train_loader\n",
        "        self.val_loader = val_loader\n",
        "        self.test_loader = test_loader\n",
        "        self.device = device\n",
        "        self.num_classes = num_classes\n",
        "        self.num_epochs = cfg[\"num_epochs\"]\n",
        "\n",
        "        self.model = model.to(device)\n",
        "        self.optimizer = AdamW(self.model.parameters(), lr=cfg[\"lr\"], weight_decay=cfg[\"wd\"])\n",
        "        num_steps = self.num_epochs * len(train_loader)\n",
        "        if cfg[\"scheduled\"]:\n",
        "            self.scheduler = OneCycleLR(self.optimizer, cfg[\"lr\"], total_steps=num_steps)\n",
        "        else:\n",
        "            self.scheduler = LambdaLR(self.optimizer, lr_lambda=lambda epoch: 1.0)\n",
        "\n",
        "        self.step = 0\n",
        "        self.best_acc = 0.0\n",
        "\n",
        "        wandb.init(name=cfg[\"run_name\"], entity=WANDB_USER, project=WANDB_PROJECT, config=cfg)\n",
        "        self.ckpt_path = Path(\"ckpts\")\n",
        "        self.ckpt_path.mkdir(exist_ok=True)\n",
        "\n",
        "    def logfn(self, values: Dict[str, Any]) -> None:\n",
        "        wandb.log(values, step=self.step, commit=False)\n",
        "\n",
        "    def train(self) -> None:\n",
        "        self.training_time = time.time()\n",
        "        for _ in tqdm(range(self.num_epochs), desc=\"Epoch\"):\n",
        "            self.model.train()\n",
        "\n",
        "            for imgs, labels in self.train_loader:\n",
        "                imgs = imgs.to(self.device)\n",
        "                labels = labels.to(self.device)\n",
        "\n",
        "                pred = self.model(imgs)\n",
        "                # print(pred.shape, labels.shape)\n",
        "                loss = F.cross_entropy(pred, labels)\n",
        "\n",
        "                self.optimizer.zero_grad()\n",
        "                loss.backward()\n",
        "                self.optimizer.step()\n",
        "                self.scheduler.step()\n",
        "\n",
        "                if self.step % 10 == 0:\n",
        "                    self.logfn({\"train/loss\": loss.item()})\n",
        "                    self.logfn({\"train/lr\": self.scheduler.get_last_lr()[0]})\n",
        "\n",
        "                self.step += 1\n",
        "\n",
        "            self.eval(\"train\")\n",
        "            self.eval(\"val\")\n",
        "\n",
        "        wandb.finish()\n",
        "        self.training_time = time.time() - self.training_time\n",
        "\n",
        "\n",
        "    # def test(self) -> None:\n",
        "    #     wandb.init(name=cfg[\"run_name\"]+\"_test\", entity=WANDB_USER, project=WANDB_PROJECT, config=cfg)\n",
        "    #     self.eval(\"test\")\n",
        "    #     wandb.finish()\n",
        "\n",
        "    @torch.no_grad()\n",
        "    def eval(self, split: str) -> None:\n",
        "        self.model.eval()\n",
        "\n",
        "        if split == \"train\":\n",
        "            loader = self.train_loader\n",
        "        elif split == \"val\":\n",
        "            loader = self.val_loader\n",
        "        # elif split == \"test\":\n",
        "        #     loader = self.test_loader\n",
        "        else:\n",
        "            raise ValueError(f\"Unknown split: {split}\")\n",
        "\n",
        "        acc = Accuracy(\"multiclass\", num_classes=self.num_classes).to(self.device)\n",
        "\n",
        "        losses = []\n",
        "        for imgs, labels in loader:\n",
        "            imgs = imgs.to(self.device)\n",
        "            labels = labels.to(self.device)\n",
        "\n",
        "            pred = self.model(imgs)\n",
        "            loss = F.cross_entropy(pred, labels)\n",
        "            losses.append(loss.item())\n",
        "\n",
        "            pred_softmax = F.softmax(pred, dim=-1)\n",
        "            acc(pred_softmax, labels)\n",
        "\n",
        "        loss = sum(losses) / len(losses)\n",
        "        accuracy = acc.compute()\n",
        "\n",
        "        self.logfn({f\"{split}/loss\": loss})\n",
        "        self.logfn({f\"{split}/acc\": accuracy})\n",
        "\n",
        "        if accuracy > self.best_acc and split == \"val\":\n",
        "            self.best_acc = accuracy\n",
        "            torch.save(self.model.state_dict(), self.ckpt_path / f\"{wandb.run.name}.pt\")\n",
        "            self.best_model = copy.deepcopy(self.model)\n",
        "\n",
        "    def save_model_params(self, cfg, data_transforms):\n",
        "        model_dir = os.path.join(\"params\", f\"{cfg['model']}_model\")\n",
        "        os.makedirs(model_dir, exist_ok=True)\n",
        "\n",
        "        timestamp = datetime.now().strftime(\"%Y-%m-%d-%H-%M-%S\")  # in order not to have duplicates\n",
        "        training_time_formatted = time.strftime('%H-%M-%S', time.gmtime(self.training_time))\n",
        "        file_name = f\"ACC={self.best_acc:.2f}____TT={training_time_formatted}____TM={timestamp}.json\"\n",
        "        file_path = os.path.join(model_dir, file_name)\n",
        "\n",
        "        combined_params = {\n",
        "            \"cfg\": cfg,\n",
        "            \"data_transforms\": {k: parse_compose(v) for k,v in data_transforms.items()},\n",
        "            \"model_structure\" : parse_compose(model)\n",
        "        }\n",
        "\n",
        "        with open(file_path, 'w') as f:\n",
        "            json.dump(combined_params, f, indent=4)"
      ]
    },
    {
      "cell_type": "code",
      "execution_count": 104,
      "metadata": {
        "colab": {
          "base_uri": "https://localhost:8080/",
          "height": 187
        },
        "id": "seJ2M-SvJYDu",
        "outputId": "3244720e-8bc9-44e1-9c9b-f22820e8a7b6"
      },
      "outputs": [
        {
          "ename": "NameError",
          "evalue": "name 'Trainer' is not defined",
          "output_type": "error",
          "traceback": [
            "\u001b[0;31m---------------------------------------------------------------------------\u001b[0m",
            "\u001b[0;31mNameError\u001b[0m                                 Traceback (most recent call last)",
            "Cell \u001b[0;32mIn[104], line 6\u001b[0m\n\u001b[1;32m      2\u001b[0m cfg[\u001b[38;5;124m\"\u001b[39m\u001b[38;5;124mrun_name\u001b[39m\u001b[38;5;124m\"\u001b[39m] \u001b[38;5;241m=\u001b[39m \u001b[38;5;124mf\u001b[39m\u001b[38;5;124m\"\u001b[39m\u001b[38;5;124mtest: \u001b[39m\u001b[38;5;132;01m{\u001b[39;00mcfg[\u001b[38;5;124m'\u001b[39m\u001b[38;5;124mmodel\u001b[39m\u001b[38;5;124m'\u001b[39m]\u001b[38;5;132;01m}\u001b[39;00m\u001b[38;5;124m\"\u001b[39m \u001b[38;5;241m+\u001b[39m \u001b[38;5;124m\"\u001b[39m\u001b[38;5;124m_scheduledLR\u001b[39m\u001b[38;5;124m\"\u001b[39m \u001b[38;5;28;01mif\u001b[39;00m cfg[\u001b[38;5;124m\"\u001b[39m\u001b[38;5;124mscheduled\u001b[39m\u001b[38;5;124m\"\u001b[39m] \u001b[38;5;28;01melse\u001b[39;00m \u001b[38;5;124m\"\u001b[39m\u001b[38;5;124m\"\u001b[39m\n\u001b[1;32m      4\u001b[0m \u001b[38;5;66;03m# Wandb key: 3f0834114b4b33656e70323616fa377c30c83542\u001b[39;00m\n\u001b[0;32m----> 6\u001b[0m trainer \u001b[38;5;241m=\u001b[39m \u001b[43mTrainer\u001b[49m(\n\u001b[1;32m      7\u001b[0m     model,\n\u001b[1;32m      8\u001b[0m     loader_train,\n\u001b[1;32m      9\u001b[0m     loader_val,\n\u001b[1;32m     10\u001b[0m     loader_test,\n\u001b[1;32m     11\u001b[0m     device,\n\u001b[1;32m     12\u001b[0m     num_classes\u001b[38;5;241m=\u001b[39m\u001b[38;5;28mlen\u001b[39m(classes\u001b[38;5;241m.\u001b[39mkeys())\n\u001b[1;32m     13\u001b[0m )\n",
            "\u001b[0;31mNameError\u001b[0m: name 'Trainer' is not defined"
          ]
        }
      ],
      "source": [
        "cfg[\"scheduled\"]=False \n",
        "cfg[\"run_name\"] = f\"test: {cfg['model']}\" + \"_scheduledLR\" if cfg[\"scheduled\"] else \"\"\n",
        "\n",
        "# Wandb key: 3f0834114b4b33656e70323616fa377c30c83542\n",
        "\n",
        "trainer = Trainer(\n",
        "    model,\n",
        "    loader_train,\n",
        "    loader_val,\n",
        "    loader_test,\n",
        "    device,\n",
        "    num_classes=len(classes.keys())\n",
        ")"
      ]
    },
    {
      "cell_type": "code",
      "execution_count": null,
      "metadata": {
        "colab": {
          "base_uri": "https://localhost:8080/",
          "height": 335,
          "referenced_widgets": [
            "ce45fcf1685c45bca3edc0d2ff2dbb3d",
            "e38df60159ce49718b878766e6d8a694",
            "a833116123d84c2ea424a1df1f32e293",
            "9ff45d9e8f774787991f4ec641c6231f",
            "2ad6fb61479248f6b5ce04bfd424a5f5",
            "02d30cd8c7eb4eabb93cf391b2843bb8",
            "c37731c5ea9e4ca5a8d30178a905ca7c",
            "9affe4a702f84dcfa426b983c4229af8",
            "9d5059968b9b49f9ad1f4c03c2bf39e2",
            "e53422f035fb4684834665517b045d7e",
            "00205dee4b2446ad9156a373fd74996c",
            "bdd254104d974cf889e4652c55acb26c",
            "f80b5033f8524487a84f9d7a3cddc71a",
            "4f0676fe2fc34db3b53021d39f1a47e0",
            "a689cd2febb1401ab9322982960df1c8",
            "9b48379fa430466b9a0873d483d2f72c",
            "1b4dc5a9f7534e0e88ec3e7e491629fa",
            "1c0eb14beca94623951a5affa14c3c43",
            "a8b58ab752714bc4b58b67c82c65d8ca"
          ]
        },
        "id": "4I2aYCjdKrLX",
        "outputId": "868a9a43-6c81-4f1c-d519-675ba684bcfb"
      },
      "outputs": [
        {
          "data": {
            "application/vnd.jupyter.widget-view+json": {
              "model_id": "ce45fcf1685c45bca3edc0d2ff2dbb3d",
              "version_major": 2,
              "version_minor": 0
            },
            "text/plain": [
              "Epoch:   0%|          | 0/30 [00:00<?, ?it/s]"
            ]
          },
          "metadata": {},
          "output_type": "display_data"
        },
        {
          "data": {
            "application/vnd.jupyter.widget-view+json": {
              "model_id": "bdd254104d974cf889e4652c55acb26c",
              "version_major": 2,
              "version_minor": 0
            },
            "text/plain": [
              "VBox(children=(Label(value='0.012 MB of 0.012 MB uploaded\\r'), FloatProgress(value=1.0, max=1.0)))"
            ]
          },
          "metadata": {},
          "output_type": "display_data"
        },
        {
          "data": {
            "text/html": [
              "<style>\n",
              "    table.wandb td:nth-child(1) { padding: 0 10px; text-align: left ; width: auto;} td:nth-child(2) {text-align: left ; width: 100%}\n",
              "    .wandb-row { display: flex; flex-direction: row; flex-wrap: wrap; justify-content: flex-start; width: 100% }\n",
              "    .wandb-col { display: flex; flex-direction: column; flex-basis: 100%; flex: 1; padding: 10px; }\n",
              "    </style>\n",
              "<div class=\"wandb-row\"><div class=\"wandb-col\"><h3>Run history:</h3><br/><table class=\"wandb\"><tr><td>train/acc</td><td>▂▂▂▁▂▃▃▄▄▄▅▅▅▆▆▆▆▇▇▇▇█████████</td></tr><tr><td>train/loss</td><td>█▆▅▆▅▅▅▃▅▄▅▄▄▂▄▂▅▂▅▂▃▂▅▃▁▂▁▁▂▂▁▂▂▁▁▂▃▁▂▁</td></tr><tr><td>train/lr</td><td>▁▁▂▂▃▄▅▆▇▇███████▇▇▇▇▆▆▆▅▅▄▄▄▃▃▃▂▂▂▁▁▁▁▁</td></tr><tr><td>val/acc</td><td>▃▃▃▁▂▃▃▅▃▃▄▅▄▅▅▆▆▆▅▇▇▇▇▇▇█████</td></tr><tr><td>val/loss</td><td>▆▆▆█▇▇▆▃▆▇▄▄▅▃▅▃▃▄▄▂▂▁▁▁▂▁▁▁▁▁</td></tr></table><br/></div><div class=\"wandb-col\"><h3>Run summary:</h3><br/><table class=\"wandb\"><tr><td>train/acc</td><td>0.95265</td></tr><tr><td>train/loss</td><td>0.1709</td></tr><tr><td>train/lr</td><td>0.0</td></tr><tr><td>val/acc</td><td>0.67568</td></tr><tr><td>val/loss</td><td>1.21622</td></tr></table><br/></div></div>"
            ],
            "text/plain": [
              "<IPython.core.display.HTML object>"
            ]
          },
          "metadata": {},
          "output_type": "display_data"
        },
        {
          "data": {
            "text/html": [
              " View run <strong style=\"color:#cdcd00\">run: ResNet-18</strong> at: <a href='https://wandb.ai/lollopelle-2-universit-di-bologna/IPCV-assignment-2/runs/w32fwz0f' target=\"_blank\">https://wandb.ai/lollopelle-2-universit-di-bologna/IPCV-assignment-2/runs/w32fwz0f</a><br/> View project at: <a href='https://wandb.ai/lollopelle-2-universit-di-bologna/IPCV-assignment-2' target=\"_blank\">https://wandb.ai/lollopelle-2-universit-di-bologna/IPCV-assignment-2</a><br/>Synced 4 W&B file(s), 0 media file(s), 0 artifact file(s) and 0 other file(s)"
            ],
            "text/plain": [
              "<IPython.core.display.HTML object>"
            ]
          },
          "metadata": {},
          "output_type": "display_data"
        },
        {
          "data": {
            "text/html": [
              "Find logs at: <code>./wandb/run-20240726_170408-w32fwz0f/logs</code>"
            ],
            "text/plain": [
              "<IPython.core.display.HTML object>"
            ]
          },
          "metadata": {},
          "output_type": "display_data"
        },
        {
          "data": {
            "text/html": [
              "The new W&B backend becomes opt-out in version 0.18.0; try it out with `wandb.require(\"core\")`! See https://wandb.me/wandb-core for more information."
            ],
            "text/plain": [
              "<IPython.core.display.HTML object>"
            ]
          },
          "metadata": {},
          "output_type": "display_data"
        }
      ],
      "source": [
        "trainer.train()"
      ]
    },
    {
      "cell_type": "code",
      "execution_count": null,
      "metadata": {
        "id": "0jY1nBOWKrLX"
      },
      "outputs": [],
      "source": [
        "# trainer.test()"
      ]
    },
    {
      "cell_type": "code",
      "execution_count": null,
      "metadata": {
        "colab": {
          "base_uri": "https://localhost:8080/"
        },
        "id": "tX9qBRU4oTrS",
        "outputId": "fb37f5df-9260-459b-d62f-831513a4c7b2"
      },
      "outputs": [
        {
          "name": "stdout",
          "output_type": "stream",
          "text": [
            "Best val acc = 0.699\n"
          ]
        }
      ],
      "source": [
        "print(f\"Best val acc = {trainer.best_acc:.3f}\")"
      ]
    },
    {
      "cell_type": "code",
      "execution_count": null,
      "metadata": {
        "id": "kQYfb7EUKrLY"
      },
      "outputs": [],
      "source": [
        "# Log results\n",
        "trainer.save_model_params(cfg, data_transforms)"
      ]
    },
    {
      "cell_type": "markdown",
      "metadata": {
        "id": "gkWEqSPoUIL3"
      },
      "source": [
        "## Part 2: fine-tune an existing network\n",
        "\n",
        "Your goal is to fine-tune a pretrained **ResNet-18** model on `GroceryStoreDataset`. Use the implementation provided by PyTorch, do not implement it yourselves! (i.e. exactly what you **could not** do in the first part of the assignment). Specifically, you must use the PyTorch ResNet-18 model pretrained on ImageNet-1K (V1). Divide your fine-tuning into two parts:\n",
        "\n",
        "1. First, fine-tune the Resnet-18 with the same training hyperparameters you used for your best model in the first part of the assignment.\n",
        "1. Then, tweak the training hyperparameters in order to increase the accuracy on the validation split of `GroceryStoreDataset`. Justify your choices by analyzing the training plots and/or citing sources that guided you in your decisions (papers, blog posts, YouTube videos, or whatever else you find enlightening). You should consider yourselves satisfied once you obtain a classification accuracy on the **validation** split **between 80 and 90%**."
      ]
    },
    {
      "cell_type": "markdown",
      "metadata": {
        "id": "jX48RzTypUuO"
      },
      "source": [
        "### 1) Fine-tune the Resnet-18 with the same training hyperparameters you used for your best model in the first part of the assignment."
      ]
    },
    {
      "cell_type": "code",
      "execution_count": null,
      "metadata": {
        "colab": {
          "base_uri": "https://localhost:8080/"
        },
        "id": "Vtb4wn_vX8mN",
        "outputId": "ca39a37e-a7d8-4dc9-d131-98d73080f1a1"
      },
      "outputs": [
        {
          "name": "stderr",
          "output_type": "stream",
          "text": [
            "Downloading: \"https://download.pytorch.org/models/resnet18-f37072fd.pth\" to /root/.cache/torch/hub/checkpoints/resnet18-f37072fd.pth\n",
            "100%|██████████| 44.7M/44.7M [00:00<00:00, 171MB/s]\n"
          ]
        }
      ],
      "source": [
        "# Pretrained ResNet-18 on ImageNet-1K (V1)\n",
        "pt_resnet18 = resnet18(weights=ResNet18_Weights.IMAGENET1K_V1)"
      ]
    },
    {
      "cell_type": "code",
      "execution_count": null,
      "metadata": {
        "colab": {
          "base_uri": "https://localhost:8080/",
          "height": 437,
          "referenced_widgets": [
            "6836c80f87ce400f9bb23d4c1a6192d8",
            "058ea6c214d544388cf85c38612960c5",
            "897a5f13655343a48deb7b4bd14f03a4",
            "f184bc32cfd44051ab62587b67357c93",
            "42596d1f76474f6ca86257d06e4de6b3",
            "f0d90e850acb47ad82ef290718f6b8ff",
            "d5b17c2eba734878a7b05fc08dd0b76a",
            "4c232e2ea8bb48c98773ff82f1df3697",
            "16d25a01bdb64f9bbaafb29f6547a0bc",
            "7272053c618f4447afc7815103e1b31c",
            "f5677add570846d1a8cf91995187e18c",
            "7e3b769bdf67461ca632a4fc9eb9e806",
            "c8bf11e9b40f44c7b89e7238a9c014ff",
            "129a82bdac694019a9ed4a0e617fafee",
            "30b17017ed904077a63021e2d1edb1b9",
            "e7b9432cea2c412f91769397f1db5872",
            "9af97897631341fa909277dabbb22fe7",
            "81b17774d46d4064843f8066d292eceb",
            "072d3bbb84a9404e92be2a2c6c75d0f6"
          ]
        },
        "id": "dgE0KRTj6JSd",
        "outputId": "57105120-492a-43a8-b97a-af244b2592fc"
      },
      "outputs": [
        {
          "name": "stderr",
          "output_type": "stream",
          "text": [
            "\u001b[34m\u001b[1mwandb\u001b[0m: Currently logged in as: \u001b[33mlollopelle-2\u001b[0m (\u001b[33mlollopelle-2-universit-di-bologna\u001b[0m). Use \u001b[1m`wandb login --relogin`\u001b[0m to force relogin\n"
          ]
        },
        {
          "data": {
            "text/html": [
              "Tracking run with wandb version 0.17.5"
            ],
            "text/plain": [
              "<IPython.core.display.HTML object>"
            ]
          },
          "metadata": {},
          "output_type": "display_data"
        },
        {
          "data": {
            "text/html": [
              "Run data is saved locally in <code>/content/wandb/run-20240726_171639-v0bpqf81</code>"
            ],
            "text/plain": [
              "<IPython.core.display.HTML object>"
            ]
          },
          "metadata": {},
          "output_type": "display_data"
        },
        {
          "data": {
            "text/html": [
              "Syncing run <strong><a href='https://wandb.ai/lollopelle-2-universit-di-bologna/IPCV-assignment-2/runs/v0bpqf81' target=\"_blank\">ResNet-18_pretrained_scratch-training</a></strong> to <a href='https://wandb.ai/lollopelle-2-universit-di-bologna/IPCV-assignment-2' target=\"_blank\">Weights & Biases</a> (<a href='https://wandb.me/run' target=\"_blank\">docs</a>)<br/>"
            ],
            "text/plain": [
              "<IPython.core.display.HTML object>"
            ]
          },
          "metadata": {},
          "output_type": "display_data"
        },
        {
          "data": {
            "text/html": [
              " View project at <a href='https://wandb.ai/lollopelle-2-universit-di-bologna/IPCV-assignment-2' target=\"_blank\">https://wandb.ai/lollopelle-2-universit-di-bologna/IPCV-assignment-2</a>"
            ],
            "text/plain": [
              "<IPython.core.display.HTML object>"
            ]
          },
          "metadata": {},
          "output_type": "display_data"
        },
        {
          "data": {
            "text/html": [
              " View run at <a href='https://wandb.ai/lollopelle-2-universit-di-bologna/IPCV-assignment-2/runs/v0bpqf81' target=\"_blank\">https://wandb.ai/lollopelle-2-universit-di-bologna/IPCV-assignment-2/runs/v0bpqf81</a>"
            ],
            "text/plain": [
              "<IPython.core.display.HTML object>"
            ]
          },
          "metadata": {},
          "output_type": "display_data"
        },
        {
          "data": {
            "application/vnd.jupyter.widget-view+json": {
              "model_id": "6836c80f87ce400f9bb23d4c1a6192d8",
              "version_major": 2,
              "version_minor": 0
            },
            "text/plain": [
              "Epoch:   0%|          | 0/30 [00:00<?, ?it/s]"
            ]
          },
          "metadata": {},
          "output_type": "display_data"
        },
        {
          "data": {
            "application/vnd.jupyter.widget-view+json": {
              "model_id": "7e3b769bdf67461ca632a4fc9eb9e806",
              "version_major": 2,
              "version_minor": 0
            },
            "text/plain": [
              "VBox(children=(Label(value='0.001 MB of 0.012 MB uploaded\\r'), FloatProgress(value=0.09762658227848102, max=1.…"
            ]
          },
          "metadata": {},
          "output_type": "display_data"
        },
        {
          "data": {
            "text/html": [
              "<style>\n",
              "    table.wandb td:nth-child(1) { padding: 0 10px; text-align: left ; width: auto;} td:nth-child(2) {text-align: left ; width: 100%}\n",
              "    .wandb-row { display: flex; flex-direction: row; flex-wrap: wrap; justify-content: flex-start; width: 100% }\n",
              "    .wandb-col { display: flex; flex-direction: column; flex-basis: 100%; flex: 1; padding: 10px; }\n",
              "    </style>\n",
              "<div class=\"wandb-row\"><div class=\"wandb-col\"><h3>Run history:</h3><br/><table class=\"wandb\"><tr><td>train/acc</td><td>▁▂▄▅▆▇▇▇▇█████████████████████</td></tr><tr><td>train/loss</td><td>█▇▇▅▅▄▄▃▄▂▃▂▂▃▂▂▁▂▂▂▂▂▂▁▁▁▁▁▂▂▁▂▂▁▁▁▁▁▁▁</td></tr><tr><td>train/lr</td><td>▁▁▂▂▃▄▅▆▇▇███████▇▇▇▇▆▆▆▅▅▄▄▄▃▃▃▂▂▂▁▁▁▁▁</td></tr><tr><td>val/acc</td><td>▁▂▄▅▆▇▇▇▇▇▇▇██████████▇███████</td></tr><tr><td>val/loss</td><td>█▇▅▄▃▂▂▂▂▁▁▁▁▁▁▁▁▁▁▁▁▁▁▁▁▁▁▁▁▁</td></tr></table><br/></div><div class=\"wandb-col\"><h3>Run summary:</h3><br/><table class=\"wandb\"><tr><td>train/acc</td><td>0.95795</td></tr><tr><td>train/loss</td><td>0.1887</td></tr><tr><td>train/lr</td><td>0.0</td></tr><tr><td>val/acc</td><td>0.80743</td></tr><tr><td>val/loss</td><td>0.57449</td></tr></table><br/></div></div>"
            ],
            "text/plain": [
              "<IPython.core.display.HTML object>"
            ]
          },
          "metadata": {},
          "output_type": "display_data"
        },
        {
          "data": {
            "text/html": [
              " View run <strong style=\"color:#cdcd00\">ResNet-18_pretrained_scratch-training</strong> at: <a href='https://wandb.ai/lollopelle-2-universit-di-bologna/IPCV-assignment-2/runs/v0bpqf81' target=\"_blank\">https://wandb.ai/lollopelle-2-universit-di-bologna/IPCV-assignment-2/runs/v0bpqf81</a><br/> View project at: <a href='https://wandb.ai/lollopelle-2-universit-di-bologna/IPCV-assignment-2' target=\"_blank\">https://wandb.ai/lollopelle-2-universit-di-bologna/IPCV-assignment-2</a><br/>Synced 4 W&B file(s), 0 media file(s), 0 artifact file(s) and 0 other file(s)"
            ],
            "text/plain": [
              "<IPython.core.display.HTML object>"
            ]
          },
          "metadata": {},
          "output_type": "display_data"
        },
        {
          "data": {
            "text/html": [
              "Find logs at: <code>./wandb/run-20240726_171639-v0bpqf81/logs</code>"
            ],
            "text/plain": [
              "<IPython.core.display.HTML object>"
            ]
          },
          "metadata": {},
          "output_type": "display_data"
        },
        {
          "data": {
            "text/html": [
              "The new W&B backend becomes opt-out in version 0.18.0; try it out with `wandb.require(\"core\")`! See https://wandb.me/wandb-core for more information."
            ],
            "text/plain": [
              "<IPython.core.display.HTML object>"
            ]
          },
          "metadata": {},
          "output_type": "display_data"
        }
      ],
      "source": [
        "## Freeze the pre-trained layers ##\n",
        "for param in pt_resnet18.parameters():\n",
        "    param.requires_grad = False\n",
        "\n",
        "## Modify the last layer ##\n",
        "pt_resnet18.fc = torch.nn.Linear(pt_resnet18.fc.in_features, len(classes.keys()))\n",
        "\n",
        "## First train\n",
        "cfg[\"run_name\"] = \"ResNet-18_pretrained_scratch-training\"\n",
        "## cfg[\"num_epochs\"] = 5\n",
        "trainer = Trainer(\n",
        "    pt_resnet18,\n",
        "    loader_train,\n",
        "    loader_val,\n",
        "    loader_test,\n",
        "    device,\n",
        "    num_classes=len(classes.keys())\n",
        ")\n",
        "trainer.train()"
      ]
    },
    {
      "cell_type": "code",
      "execution_count": null,
      "metadata": {
        "colab": {
          "base_uri": "https://localhost:8080/"
        },
        "id": "-w4tkV0A5A3O",
        "outputId": "8916ae96-48fb-41ac-962c-081052d15d22"
      },
      "outputs": [
        {
          "name": "stdout",
          "output_type": "stream",
          "text": [
            "Best val acc (intermediate) = 0.834\n"
          ]
        }
      ],
      "source": [
        "print(f\"Best val acc (intermediate) = {trainer.best_acc:.3f}\")"
      ]
    },
    {
      "cell_type": "code",
      "execution_count": null,
      "metadata": {
        "colab": {
          "base_uri": "https://localhost:8080/",
          "height": 420,
          "referenced_widgets": [
            "1988f951dcc947d188a78ba057b856ff",
            "c750201c1b4b4f25a8bbcbefdb1ed51b",
            "bc5131462a954335a4eb0fb4ceb975a2",
            "0241347591024e6891eea3324ee4663c",
            "3daeb4559b4940da84121053870b9443",
            "ae8a96de2546458f9cc2423a6ec78e10",
            "a6034b91bf3544b88ad1129a5b87ba6f",
            "246fdc095fbb4a03b4ff8e13caa9835a",
            "540441898eff4e1e95a329216e4adf60",
            "ee92ee15fe4d4da5a3716551a7d2a2fa",
            "8a1e3ae3c75b482cbce560c1a051b83a",
            "65f809fb3aa24374b8e97498ff7bbffe",
            "60b2d7bc602c4b02b40414b90368bceb",
            "8ad1791f402c4235980d97061976d578",
            "97494a712e824548a8a9e6a524f55027",
            "9fc4971314d043579723194273bc7d51",
            "1322ae7811f340ebb63f2d06919e434b",
            "9b1f0dadbd6f4cc69572ed50e389358e",
            "051422852e6843ecbacaf244a546dcc8"
          ]
        },
        "id": "FRWEMxgM1KuQ",
        "outputId": "c723b1da-fd01-4d61-89c1-ac3a0a61a46f"
      },
      "outputs": [
        {
          "data": {
            "text/html": [
              "Tracking run with wandb version 0.17.5"
            ],
            "text/plain": [
              "<IPython.core.display.HTML object>"
            ]
          },
          "metadata": {},
          "output_type": "display_data"
        },
        {
          "data": {
            "text/html": [
              "Run data is saved locally in <code>/content/wandb/run-20240726_172806-5huxumzo</code>"
            ],
            "text/plain": [
              "<IPython.core.display.HTML object>"
            ]
          },
          "metadata": {},
          "output_type": "display_data"
        },
        {
          "data": {
            "text/html": [
              "Syncing run <strong><a href='https://wandb.ai/lollopelle-2-universit-di-bologna/IPCV-assignment-2/runs/5huxumzo' target=\"_blank\">ResNet-18_pretrained_fine-tuning</a></strong> to <a href='https://wandb.ai/lollopelle-2-universit-di-bologna/IPCV-assignment-2' target=\"_blank\">Weights & Biases</a> (<a href='https://wandb.me/run' target=\"_blank\">docs</a>)<br/>"
            ],
            "text/plain": [
              "<IPython.core.display.HTML object>"
            ]
          },
          "metadata": {},
          "output_type": "display_data"
        },
        {
          "data": {
            "text/html": [
              " View project at <a href='https://wandb.ai/lollopelle-2-universit-di-bologna/IPCV-assignment-2' target=\"_blank\">https://wandb.ai/lollopelle-2-universit-di-bologna/IPCV-assignment-2</a>"
            ],
            "text/plain": [
              "<IPython.core.display.HTML object>"
            ]
          },
          "metadata": {},
          "output_type": "display_data"
        },
        {
          "data": {
            "text/html": [
              " View run at <a href='https://wandb.ai/lollopelle-2-universit-di-bologna/IPCV-assignment-2/runs/5huxumzo' target=\"_blank\">https://wandb.ai/lollopelle-2-universit-di-bologna/IPCV-assignment-2/runs/5huxumzo</a>"
            ],
            "text/plain": [
              "<IPython.core.display.HTML object>"
            ]
          },
          "metadata": {},
          "output_type": "display_data"
        },
        {
          "data": {
            "application/vnd.jupyter.widget-view+json": {
              "model_id": "1988f951dcc947d188a78ba057b856ff",
              "version_major": 2,
              "version_minor": 0
            },
            "text/plain": [
              "Epoch:   0%|          | 0/10 [00:00<?, ?it/s]"
            ]
          },
          "metadata": {},
          "output_type": "display_data"
        },
        {
          "data": {
            "application/vnd.jupyter.widget-view+json": {
              "model_id": "65f809fb3aa24374b8e97498ff7bbffe",
              "version_major": 2,
              "version_minor": 0
            },
            "text/plain": [
              "VBox(children=(Label(value='0.001 MB of 0.002 MB uploaded\\r'), FloatProgress(value=0.5200168563000421, max=1.0…"
            ]
          },
          "metadata": {},
          "output_type": "display_data"
        },
        {
          "data": {
            "text/html": [
              "<style>\n",
              "    table.wandb td:nth-child(1) { padding: 0 10px; text-align: left ; width: auto;} td:nth-child(2) {text-align: left ; width: 100%}\n",
              "    .wandb-row { display: flex; flex-direction: row; flex-wrap: wrap; justify-content: flex-start; width: 100% }\n",
              "    .wandb-col { display: flex; flex-direction: column; flex-basis: 100%; flex: 1; padding: 10px; }\n",
              "    </style>\n",
              "<div class=\"wandb-row\"><div class=\"wandb-col\"><h3>Run history:</h3><br/><table class=\"wandb\"><tr><td>train/acc</td><td>▂▃▁▅▆▆█▇██</td></tr><tr><td>train/loss</td><td>▄▃▃▆▄█▂▃▂▄▄▅▃▅▃▃▁▂▂▄▄▂▄▃▄▃▃▂▂▂▇▁▁▁▁▄▂▂▁▃</td></tr><tr><td>train/lr</td><td>▁▁▂▂▃▄▅▆▆▇███████▇▇▇▇▆▆▆▅▅▄▄▄▃▃▃▂▂▂▁▁▁▁▁</td></tr><tr><td>val/acc</td><td>▃▃▅▁▅▄▅█▇█</td></tr><tr><td>val/loss</td><td>▆▇▅█▄▃▂▁▂▁</td></tr></table><br/></div><div class=\"wandb-col\"><h3>Run summary:</h3><br/><table class=\"wandb\"><tr><td>train/acc</td><td>0.98788</td></tr><tr><td>train/loss</td><td>0.04966</td></tr><tr><td>train/lr</td><td>0.0</td></tr><tr><td>val/acc</td><td>0.88851</td></tr><tr><td>val/loss</td><td>0.32398</td></tr></table><br/></div></div>"
            ],
            "text/plain": [
              "<IPython.core.display.HTML object>"
            ]
          },
          "metadata": {},
          "output_type": "display_data"
        },
        {
          "data": {
            "text/html": [
              " View run <strong style=\"color:#cdcd00\">ResNet-18_pretrained_fine-tuning</strong> at: <a href='https://wandb.ai/lollopelle-2-universit-di-bologna/IPCV-assignment-2/runs/5huxumzo' target=\"_blank\">https://wandb.ai/lollopelle-2-universit-di-bologna/IPCV-assignment-2/runs/5huxumzo</a><br/> View project at: <a href='https://wandb.ai/lollopelle-2-universit-di-bologna/IPCV-assignment-2' target=\"_blank\">https://wandb.ai/lollopelle-2-universit-di-bologna/IPCV-assignment-2</a><br/>Synced 4 W&B file(s), 0 media file(s), 0 artifact file(s) and 0 other file(s)"
            ],
            "text/plain": [
              "<IPython.core.display.HTML object>"
            ]
          },
          "metadata": {},
          "output_type": "display_data"
        },
        {
          "data": {
            "text/html": [
              "Find logs at: <code>./wandb/run-20240726_172806-5huxumzo/logs</code>"
            ],
            "text/plain": [
              "<IPython.core.display.HTML object>"
            ]
          },
          "metadata": {},
          "output_type": "display_data"
        },
        {
          "data": {
            "text/html": [
              "The new W&B backend becomes opt-out in version 0.18.0; try it out with `wandb.require(\"core\")`! See https://wandb.me/wandb-core for more information."
            ],
            "text/plain": [
              "<IPython.core.display.HTML object>"
            ]
          },
          "metadata": {},
          "output_type": "display_data"
        }
      ],
      "source": [
        "## Load the state of the best accuracy\n",
        "sd = torch.load(f\"ckpts/{cfg['run_name']}.pt\")\n",
        "pt_resnet18.load_state_dict(sd)\n",
        "\n",
        "## Activate learning\n",
        "for param in pt_resnet18.parameters():\n",
        "    param.requires_grad = True\n",
        "\n",
        "## Fine tuning\n",
        "cfg[\"run_name\"] = \"ResNet-18_pretrained_fine-tuning\"\n",
        "cfg[\"lr\"] *= 0.1\n",
        "cfg[\"num_epochs\"] = 10\n",
        "trainer = Trainer(\n",
        "    pt_resnet18,\n",
        "    loader_train,\n",
        "    loader_val,\n",
        "    loader_test,\n",
        "    device,\n",
        "    num_classes=len(classes.keys())\n",
        ")\n",
        "trainer.train()"
      ]
    },
    {
      "cell_type": "code",
      "execution_count": null,
      "metadata": {
        "colab": {
          "base_uri": "https://localhost:8080/"
        },
        "id": "0PFUF8KP5IOz",
        "outputId": "7104e750-fe06-40ba-b79d-6f0130cc0b59"
      },
      "outputs": [
        {
          "name": "stdout",
          "output_type": "stream",
          "text": [
            "Best val acc (final) = 0.895\n"
          ]
        }
      ],
      "source": [
        "print(f\"Best val acc (final) = {trainer.best_acc:.3f}\")"
      ]
    },
    {
      "cell_type": "markdown",
      "metadata": {
        "id": "AJ7yKSjLpfyf"
      },
      "source": [
        "### 2) Tweak the training hyperparameters in order to increase the accuracy on the validation split of `GroceryStoreDataset`."
      ]
    },
    {
      "cell_type": "code",
      "execution_count": null,
      "metadata": {
        "id": "d0TmxpVmpkkx"
      },
      "outputs": [],
      "source": [
        "# You need to do the same but with different cfg\n",
        "cfg_fine_tuning = {\n",
        "    \"resize_size\": 256,\n",
        "    \"crop_size\": 224,\n",
        "    \"batch_size\": 16,\n",
        "    \"num_epochs\": 30,\n",
        "    \"lr\": 1e-3,\n",
        "    \"wd\": 5e-4,\n",
        "    \"step_size\": 5\n",
        "}\n",
        "cfg = cfg_fine_tuning"
      ]
    },
    {
      "cell_type": "code",
      "execution_count": null,
      "metadata": {
        "colab": {
          "base_uri": "https://localhost:8080/",
          "height": 437,
          "referenced_widgets": [
            "6059c68b3484480aa6bf939fa710e891",
            "e7cb819ba2ea47ab895346f97fb61019",
            "15e36b763ae64df1952941d2071acef0",
            "b3f5afc81f904e4c965f6ef6cd72b5ce",
            "4635a4226c8042028634e70554e01916",
            "37e0a60dd1144fb69fe1bf2899b01d49",
            "e58d0975fdc44aaf8e525ecb498a2a1a",
            "901749d999f34c92ac16f2423dc76cb8",
            "b7351d7ba59a47fd9f955e09f6411b90",
            "fb59eabc68d547d28eff4ed59760542a",
            "0e97086778544de19dc1bf63738a9b18",
            "ab1dc13a7d5d4edfb2dd7d013c2f8190",
            "933214203b154d5a8983aa3150972629",
            "37a02f401dd045a5b7b6a15011d33ee9",
            "9a9cb97cd62a4318a4c3258b1d94e141",
            "0e31ee28e564421497d44a8972fd8aa9",
            "cf1836d9ef9f4dd8a1f9eb613a550b7d",
            "6b45f5849a94494888c3128b3935fba7",
            "4e7cd1273e264ccf8d6cc2ba7794009f"
          ]
        },
        "id": "7VQpcnWU14Vf",
        "outputId": "6d825d3b-0411-43fe-da59-18e7767f24ed"
      },
      "outputs": [
        {
          "data": {
            "text/html": [
              "Tracking run with wandb version 0.17.5"
            ],
            "text/plain": [
              "<IPython.core.display.HTML object>"
            ]
          },
          "metadata": {},
          "output_type": "display_data"
        },
        {
          "data": {
            "text/html": [
              "Run data is saved locally in <code>/content/wandb/run-20240726_173224-0562afkw</code>"
            ],
            "text/plain": [
              "<IPython.core.display.HTML object>"
            ]
          },
          "metadata": {},
          "output_type": "display_data"
        },
        {
          "data": {
            "text/html": [
              "Syncing run <strong><a href='https://wandb.ai/lollopelle-2-universit-di-bologna/IPCV-assignment-2/runs/0562afkw' target=\"_blank\">ResNet-18_pretrained_scratch-training_2</a></strong> to <a href='https://wandb.ai/lollopelle-2-universit-di-bologna/IPCV-assignment-2' target=\"_blank\">Weights & Biases</a> (<a href='https://wandb.me/run' target=\"_blank\">docs</a>)<br/>"
            ],
            "text/plain": [
              "<IPython.core.display.HTML object>"
            ]
          },
          "metadata": {},
          "output_type": "display_data"
        },
        {
          "data": {
            "text/html": [
              " View project at <a href='https://wandb.ai/lollopelle-2-universit-di-bologna/IPCV-assignment-2' target=\"_blank\">https://wandb.ai/lollopelle-2-universit-di-bologna/IPCV-assignment-2</a>"
            ],
            "text/plain": [
              "<IPython.core.display.HTML object>"
            ]
          },
          "metadata": {},
          "output_type": "display_data"
        },
        {
          "data": {
            "text/html": [
              " View run at <a href='https://wandb.ai/lollopelle-2-universit-di-bologna/IPCV-assignment-2/runs/0562afkw' target=\"_blank\">https://wandb.ai/lollopelle-2-universit-di-bologna/IPCV-assignment-2/runs/0562afkw</a>"
            ],
            "text/plain": [
              "<IPython.core.display.HTML object>"
            ]
          },
          "metadata": {},
          "output_type": "display_data"
        },
        {
          "data": {
            "application/vnd.jupyter.widget-view+json": {
              "model_id": "6059c68b3484480aa6bf939fa710e891",
              "version_major": 2,
              "version_minor": 0
            },
            "text/plain": [
              "Epoch:   0%|          | 0/30 [00:00<?, ?it/s]"
            ]
          },
          "metadata": {},
          "output_type": "display_data"
        },
        {
          "data": {
            "application/vnd.jupyter.widget-view+json": {
              "model_id": "ab1dc13a7d5d4edfb2dd7d013c2f8190",
              "version_major": 2,
              "version_minor": 0
            },
            "text/plain": [
              "VBox(children=(Label(value='0.012 MB of 0.012 MB uploaded\\r'), FloatProgress(value=1.0, max=1.0)))"
            ]
          },
          "metadata": {},
          "output_type": "display_data"
        },
        {
          "data": {
            "text/html": [
              "<style>\n",
              "    table.wandb td:nth-child(1) { padding: 0 10px; text-align: left ; width: auto;} td:nth-child(2) {text-align: left ; width: 100%}\n",
              "    .wandb-row { display: flex; flex-direction: row; flex-wrap: wrap; justify-content: flex-start; width: 100% }\n",
              "    .wandb-col { display: flex; flex-direction: column; flex-basis: 100%; flex: 1; padding: 10px; }\n",
              "    </style>\n",
              "<div class=\"wandb-row\"><div class=\"wandb-col\"><h3>Run history:</h3><br/><table class=\"wandb\"><tr><td>train/acc</td><td>▁▄▇███████████████████████████</td></tr><tr><td>train/loss</td><td>█▇▆▄▂▂▁▂▂▁▁▁▁▂▁▂▁▁▁▁▁▁▁▁▁▁▁▁▁▁▁▁▁▁▁▁▁▁▁▁</td></tr><tr><td>train/lr</td><td>▁▁▂▂▃▄▅▆▇▇███████▇▇▇▇▆▆▆▅▅▄▄▄▃▃▃▂▂▂▁▁▁▁▁</td></tr><tr><td>val/acc</td><td>▁▃▆▇██████████▇████▇███▇██████</td></tr><tr><td>val/loss</td><td>█▆▄▂▂▁▁▁▁▁▁▁▁▁▁▁▁▁▁▁▁▁▁▁▁▁▁▁▁▁</td></tr></table><br/></div><div class=\"wandb-col\"><h3>Run summary:</h3><br/><table class=\"wandb\"><tr><td>train/acc</td><td>0.98939</td></tr><tr><td>train/loss</td><td>0.04075</td></tr><tr><td>train/lr</td><td>0.0</td></tr><tr><td>val/acc</td><td>0.87838</td></tr><tr><td>val/loss</td><td>0.33307</td></tr></table><br/></div></div>"
            ],
            "text/plain": [
              "<IPython.core.display.HTML object>"
            ]
          },
          "metadata": {},
          "output_type": "display_data"
        },
        {
          "data": {
            "text/html": [
              " View run <strong style=\"color:#cdcd00\">ResNet-18_pretrained_scratch-training_2</strong> at: <a href='https://wandb.ai/lollopelle-2-universit-di-bologna/IPCV-assignment-2/runs/0562afkw' target=\"_blank\">https://wandb.ai/lollopelle-2-universit-di-bologna/IPCV-assignment-2/runs/0562afkw</a><br/> View project at: <a href='https://wandb.ai/lollopelle-2-universit-di-bologna/IPCV-assignment-2' target=\"_blank\">https://wandb.ai/lollopelle-2-universit-di-bologna/IPCV-assignment-2</a><br/>Synced 4 W&B file(s), 0 media file(s), 0 artifact file(s) and 0 other file(s)"
            ],
            "text/plain": [
              "<IPython.core.display.HTML object>"
            ]
          },
          "metadata": {},
          "output_type": "display_data"
        },
        {
          "data": {
            "text/html": [
              "Find logs at: <code>./wandb/run-20240726_173224-0562afkw/logs</code>"
            ],
            "text/plain": [
              "<IPython.core.display.HTML object>"
            ]
          },
          "metadata": {},
          "output_type": "display_data"
        },
        {
          "data": {
            "text/html": [
              "The new W&B backend becomes opt-out in version 0.18.0; try it out with `wandb.require(\"core\")`! See https://wandb.me/wandb-core for more information."
            ],
            "text/plain": [
              "<IPython.core.display.HTML object>"
            ]
          },
          "metadata": {},
          "output_type": "display_data"
        },
        {
          "name": "stdout",
          "output_type": "stream",
          "text": [
            "Best val acc (intermediate) = 0.902\n"
          ]
        }
      ],
      "source": [
        "## Freeze the pre-trained layers ##\n",
        "for param in pt_resnet18.parameters():\n",
        "    param.requires_grad = False\n",
        "\n",
        "## Modify the last layer ##\n",
        "pt_resnet18.fc = torch.nn.Linear(pt_resnet18.fc.in_features, len(classes.keys()))\n",
        "\n",
        "# First train\n",
        "cfg[\"run_name\"] = \"ResNet-18_pretrained_scratch-training_2\"\n",
        "# cfg[\"num_epochs\"] = 5\n",
        "trainer = Trainer(\n",
        "    pt_resnet18,\n",
        "    loader_train,\n",
        "    loader_val,\n",
        "    loader_test,\n",
        "    device,\n",
        "    num_classes=len(classes.keys())\n",
        ")\n",
        "trainer.train()\n",
        "print(f\"Best val acc (intermediate) = {trainer.best_acc:.3f}\")"
      ]
    },
    {
      "cell_type": "code",
      "execution_count": null,
      "metadata": {
        "colab": {
          "background_save": true,
          "base_uri": "https://localhost:8080/",
          "height": 134,
          "referenced_widgets": [
            "c76f638d3e2343a38f1aef1b4255d17f",
            "6d9cbb899af1451e85ba90a76a05f994",
            "dba28c5c08fd4d3fa6cb515f5baa2ea4",
            "0a5222c0c4c741e2921d939644d9124d",
            "322a211a2a474c608a1003631bf38b3a",
            "384d7bdaba464c6d88ae299e4d7384e0",
            "60975975ada4486eacdb120f972b8ff5",
            "f358fba955e74c4d8ee67f315772b7d4",
            "85ca2dfd608043a8914e7cf2489a7334",
            "5188b12fca8043849e1e1f81954690e4",
            "af5d84759df340109eb4bdd1cf2c3792",
            "971d1b9956cb4bdeb2a7fdc2d32ca692"
          ]
        },
        "id": "U4wM4IVL19IU",
        "outputId": "fddbf12c-d551-4580-b6b8-8270eee3dc0d"
      },
      "outputs": [
        {
          "data": {
            "text/html": [
              "Tracking run with wandb version 0.17.5"
            ],
            "text/plain": [
              "<IPython.core.display.HTML object>"
            ]
          },
          "metadata": {},
          "output_type": "display_data"
        },
        {
          "data": {
            "text/html": [
              "Run data is saved locally in <code>/content/wandb/run-20240726_174348-jhzcn74z</code>"
            ],
            "text/plain": [
              "<IPython.core.display.HTML object>"
            ]
          },
          "metadata": {},
          "output_type": "display_data"
        },
        {
          "data": {
            "text/html": [
              "Syncing run <strong><a href='https://wandb.ai/lollopelle-2-universit-di-bologna/IPCV-assignment-2/runs/jhzcn74z' target=\"_blank\">ResNet-18_pretrained_fine-tuning_2</a></strong> to <a href='https://wandb.ai/lollopelle-2-universit-di-bologna/IPCV-assignment-2' target=\"_blank\">Weights & Biases</a> (<a href='https://wandb.me/run' target=\"_blank\">docs</a>)<br/>"
            ],
            "text/plain": [
              "<IPython.core.display.HTML object>"
            ]
          },
          "metadata": {},
          "output_type": "display_data"
        },
        {
          "data": {
            "text/html": [
              " View project at <a href='https://wandb.ai/lollopelle-2-universit-di-bologna/IPCV-assignment-2' target=\"_blank\">https://wandb.ai/lollopelle-2-universit-di-bologna/IPCV-assignment-2</a>"
            ],
            "text/plain": [
              "<IPython.core.display.HTML object>"
            ]
          },
          "metadata": {},
          "output_type": "display_data"
        },
        {
          "data": {
            "text/html": [
              " View run at <a href='https://wandb.ai/lollopelle-2-universit-di-bologna/IPCV-assignment-2/runs/jhzcn74z' target=\"_blank\">https://wandb.ai/lollopelle-2-universit-di-bologna/IPCV-assignment-2/runs/jhzcn74z</a>"
            ],
            "text/plain": [
              "<IPython.core.display.HTML object>"
            ]
          },
          "metadata": {},
          "output_type": "display_data"
        },
        {
          "data": {
            "application/vnd.jupyter.widget-view+json": {
              "model_id": "c76f638d3e2343a38f1aef1b4255d17f",
              "version_major": 2,
              "version_minor": 0
            },
            "text/plain": [
              "Epoch:   0%|          | 0/10 [00:00<?, ?it/s]"
            ]
          },
          "metadata": {},
          "output_type": "display_data"
        },
        {
          "data": {
            "application/vnd.jupyter.widget-view+json": {
              "model_id": "971d1b9956cb4bdeb2a7fdc2d32ca692",
              "version_major": 2,
              "version_minor": 0
            },
            "text/plain": [
              "VBox(children=(Label(value='0.001 MB of 0.002 MB uploaded\\r'), FloatProgress(value=0.519814502529511, max=1.0)…"
            ]
          },
          "metadata": {},
          "output_type": "display_data"
        },
        {
          "data": {
            "text/html": [
              "<style>\n",
              "    table.wandb td:nth-child(1) { padding: 0 10px; text-align: left ; width: auto;} td:nth-child(2) {text-align: left ; width: 100%}\n",
              "    .wandb-row { display: flex; flex-direction: row; flex-wrap: wrap; justify-content: flex-start; width: 100% }\n",
              "    .wandb-col { display: flex; flex-direction: column; flex-basis: 100%; flex: 1; padding: 10px; }\n",
              "    </style>\n",
              "<div class=\"wandb-row\"><div class=\"wandb-col\"><h3>Run history:</h3><br/><table class=\"wandb\"><tr><td>train/acc</td><td>▇▃▁▂▄▆██▇▇</td></tr><tr><td>train/loss</td><td>▂▁▂▁▂▅▁▅▁▅▄▃▂▁▂▂█▆▁▅▁▄▁▂▁▁▆▁▂▁▁▂▅▁▁▁▂▁▁▅</td></tr><tr><td>train/lr</td><td>▁▁▂▂▃▄▅▆▆▇███████▇▇▇▇▆▆▆▅▅▄▄▄▃▃▃▂▂▂▁▁▁▁▁</td></tr><tr><td>val/acc</td><td>█▇▁▅▁▃▆▆▆▆</td></tr><tr><td>val/loss</td><td>▁▃█▆▆▅▂▃▃▂</td></tr></table><br/></div><div class=\"wandb-col\"><h3>Run summary:</h3><br/><table class=\"wandb\"><tr><td>train/acc</td><td>0.98977</td></tr><tr><td>train/loss</td><td>0.0355</td></tr><tr><td>train/lr</td><td>0.0</td></tr><tr><td>val/acc</td><td>0.86149</td></tr><tr><td>val/loss</td><td>0.42077</td></tr></table><br/></div></div>"
            ],
            "text/plain": [
              "<IPython.core.display.HTML object>"
            ]
          },
          "metadata": {},
          "output_type": "display_data"
        },
        {
          "data": {
            "text/html": [
              " View run <strong style=\"color:#cdcd00\">ResNet-18_pretrained_fine-tuning_2</strong> at: <a href='https://wandb.ai/lollopelle-2-universit-di-bologna/IPCV-assignment-2/runs/jhzcn74z' target=\"_blank\">https://wandb.ai/lollopelle-2-universit-di-bologna/IPCV-assignment-2/runs/jhzcn74z</a><br/> View project at: <a href='https://wandb.ai/lollopelle-2-universit-di-bologna/IPCV-assignment-2' target=\"_blank\">https://wandb.ai/lollopelle-2-universit-di-bologna/IPCV-assignment-2</a><br/>Synced 4 W&B file(s), 0 media file(s), 0 artifact file(s) and 0 other file(s)"
            ],
            "text/plain": [
              "<IPython.core.display.HTML object>"
            ]
          },
          "metadata": {},
          "output_type": "display_data"
        },
        {
          "data": {
            "text/html": [
              "Find logs at: <code>./wandb/run-20240726_174348-jhzcn74z/logs</code>"
            ],
            "text/plain": [
              "<IPython.core.display.HTML object>"
            ]
          },
          "metadata": {},
          "output_type": "display_data"
        },
        {
          "data": {
            "text/html": [
              "The new W&B backend becomes opt-out in version 0.18.0; try it out with `wandb.require(\"core\")`! See https://wandb.me/wandb-core for more information."
            ],
            "text/plain": [
              "<IPython.core.display.HTML object>"
            ]
          },
          "metadata": {},
          "output_type": "display_data"
        },
        {
          "name": "stdout",
          "output_type": "stream",
          "text": [
            "Best val acc (final) = 0.885\n"
          ]
        }
      ],
      "source": [
        "# Load the state of the best accuracy\n",
        "sd = torch.load(f\"ckpts/{cfg['run_name']}.pt\")\n",
        "pt_resnet18.load_state_dict(sd)\n",
        "\n",
        "## Activate learning\n",
        "for param in pt_resnet18.parameters():\n",
        "    param.requires_grad = True\n",
        "\n",
        "# Fine tuning\n",
        "cfg[\"run_name\"] = \"ResNet-18_pretrained_fine-tuning_2\"\n",
        "cfg[\"lr\"] *= 0.1\n",
        "cfg[\"num_epochs\"] = 10\n",
        "trainer = Trainer(\n",
        "    pt_resnet18,\n",
        "    loader_train,\n",
        "    loader_val,\n",
        "    loader_test,\n",
        "    device,\n",
        "    num_classes=len(classes.keys())\n",
        ")\n",
        "trainer.train()\n",
        "print(f\"Best val acc (final) = {trainer.best_acc:.3f}\")"
      ]
    }
  ],
  "metadata": {
    "accelerator": "GPU",
    "colab": {
      "gpuType": "T4",
      "provenance": []
    },
    "kernelspec": {
      "display_name": "Python 3",
      "name": "python3"
    },
    "language_info": {
      "codemirror_mode": {
        "name": "ipython",
        "version": 3
      },
      "file_extension": ".py",
      "mimetype": "text/x-python",
      "name": "python",
      "nbconvert_exporter": "python",
      "pygments_lexer": "ipython3",
      "version": "3.11.7"
    },
    "widgets": {
      "application/vnd.jupyter.widget-state+json": {
        "00205dee4b2446ad9156a373fd74996c": {
          "model_module": "@jupyter-widgets/controls",
          "model_module_version": "1.5.0",
          "model_name": "DescriptionStyleModel",
          "state": {
            "_model_module": "@jupyter-widgets/controls",
            "_model_module_version": "1.5.0",
            "_model_name": "DescriptionStyleModel",
            "_view_count": null,
            "_view_module": "@jupyter-widgets/base",
            "_view_module_version": "1.2.0",
            "_view_name": "StyleView",
            "description_width": ""
          }
        },
        "0241347591024e6891eea3324ee4663c": {
          "model_module": "@jupyter-widgets/controls",
          "model_module_version": "1.5.0",
          "model_name": "HTMLModel",
          "state": {
            "_dom_classes": [],
            "_model_module": "@jupyter-widgets/controls",
            "_model_module_version": "1.5.0",
            "_model_name": "HTMLModel",
            "_view_count": null,
            "_view_module": "@jupyter-widgets/controls",
            "_view_module_version": "1.5.0",
            "_view_name": "HTMLView",
            "description": "",
            "description_tooltip": null,
            "layout": "IPY_MODEL_ee92ee15fe4d4da5a3716551a7d2a2fa",
            "placeholder": "​",
            "style": "IPY_MODEL_8a1e3ae3c75b482cbce560c1a051b83a",
            "value": " 10/10 [04:05&lt;00:00, 24.49s/it]"
          }
        },
        "02d30cd8c7eb4eabb93cf391b2843bb8": {
          "model_module": "@jupyter-widgets/base",
          "model_module_version": "1.2.0",
          "model_name": "LayoutModel",
          "state": {
            "_model_module": "@jupyter-widgets/base",
            "_model_module_version": "1.2.0",
            "_model_name": "LayoutModel",
            "_view_count": null,
            "_view_module": "@jupyter-widgets/base",
            "_view_module_version": "1.2.0",
            "_view_name": "LayoutView",
            "align_content": null,
            "align_items": null,
            "align_self": null,
            "border": null,
            "bottom": null,
            "display": null,
            "flex": null,
            "flex_flow": null,
            "grid_area": null,
            "grid_auto_columns": null,
            "grid_auto_flow": null,
            "grid_auto_rows": null,
            "grid_column": null,
            "grid_gap": null,
            "grid_row": null,
            "grid_template_areas": null,
            "grid_template_columns": null,
            "grid_template_rows": null,
            "height": null,
            "justify_content": null,
            "justify_items": null,
            "left": null,
            "margin": null,
            "max_height": null,
            "max_width": null,
            "min_height": null,
            "min_width": null,
            "object_fit": null,
            "object_position": null,
            "order": null,
            "overflow": null,
            "overflow_x": null,
            "overflow_y": null,
            "padding": null,
            "right": null,
            "top": null,
            "visibility": null,
            "width": null
          }
        },
        "051422852e6843ecbacaf244a546dcc8": {
          "model_module": "@jupyter-widgets/controls",
          "model_module_version": "1.5.0",
          "model_name": "ProgressStyleModel",
          "state": {
            "_model_module": "@jupyter-widgets/controls",
            "_model_module_version": "1.5.0",
            "_model_name": "ProgressStyleModel",
            "_view_count": null,
            "_view_module": "@jupyter-widgets/base",
            "_view_module_version": "1.2.0",
            "_view_name": "StyleView",
            "bar_color": null,
            "description_width": ""
          }
        },
        "058ea6c214d544388cf85c38612960c5": {
          "model_module": "@jupyter-widgets/controls",
          "model_module_version": "1.5.0",
          "model_name": "HTMLModel",
          "state": {
            "_dom_classes": [],
            "_model_module": "@jupyter-widgets/controls",
            "_model_module_version": "1.5.0",
            "_model_name": "HTMLModel",
            "_view_count": null,
            "_view_module": "@jupyter-widgets/controls",
            "_view_module_version": "1.5.0",
            "_view_name": "HTMLView",
            "description": "",
            "description_tooltip": null,
            "layout": "IPY_MODEL_f0d90e850acb47ad82ef290718f6b8ff",
            "placeholder": "​",
            "style": "IPY_MODEL_d5b17c2eba734878a7b05fc08dd0b76a",
            "value": "Epoch: 100%"
          }
        },
        "072d3bbb84a9404e92be2a2c6c75d0f6": {
          "model_module": "@jupyter-widgets/controls",
          "model_module_version": "1.5.0",
          "model_name": "ProgressStyleModel",
          "state": {
            "_model_module": "@jupyter-widgets/controls",
            "_model_module_version": "1.5.0",
            "_model_name": "ProgressStyleModel",
            "_view_count": null,
            "_view_module": "@jupyter-widgets/base",
            "_view_module_version": "1.2.0",
            "_view_name": "StyleView",
            "bar_color": null,
            "description_width": ""
          }
        },
        "0a5222c0c4c741e2921d939644d9124d": {
          "model_module": "@jupyter-widgets/controls",
          "model_module_version": "1.5.0",
          "model_name": "HTMLModel",
          "state": {
            "_dom_classes": [],
            "_model_module": "@jupyter-widgets/controls",
            "_model_module_version": "1.5.0",
            "_model_name": "HTMLModel",
            "_view_count": null,
            "_view_module": "@jupyter-widgets/controls",
            "_view_module_version": "1.5.0",
            "_view_name": "HTMLView",
            "description": "",
            "description_tooltip": null,
            "layout": "IPY_MODEL_5188b12fca8043849e1e1f81954690e4",
            "placeholder": "​",
            "style": "IPY_MODEL_af5d84759df340109eb4bdd1cf2c3792",
            "value": " 3/10 [01:13&lt;02:51, 24.49s/it]"
          }
        },
        "0e31ee28e564421497d44a8972fd8aa9": {
          "model_module": "@jupyter-widgets/base",
          "model_module_version": "1.2.0",
          "model_name": "LayoutModel",
          "state": {
            "_model_module": "@jupyter-widgets/base",
            "_model_module_version": "1.2.0",
            "_model_name": "LayoutModel",
            "_view_count": null,
            "_view_module": "@jupyter-widgets/base",
            "_view_module_version": "1.2.0",
            "_view_name": "LayoutView",
            "align_content": null,
            "align_items": null,
            "align_self": null,
            "border": null,
            "bottom": null,
            "display": null,
            "flex": null,
            "flex_flow": null,
            "grid_area": null,
            "grid_auto_columns": null,
            "grid_auto_flow": null,
            "grid_auto_rows": null,
            "grid_column": null,
            "grid_gap": null,
            "grid_row": null,
            "grid_template_areas": null,
            "grid_template_columns": null,
            "grid_template_rows": null,
            "height": null,
            "justify_content": null,
            "justify_items": null,
            "left": null,
            "margin": null,
            "max_height": null,
            "max_width": null,
            "min_height": null,
            "min_width": null,
            "object_fit": null,
            "object_position": null,
            "order": null,
            "overflow": null,
            "overflow_x": null,
            "overflow_y": null,
            "padding": null,
            "right": null,
            "top": null,
            "visibility": null,
            "width": null
          }
        },
        "0e97086778544de19dc1bf63738a9b18": {
          "model_module": "@jupyter-widgets/controls",
          "model_module_version": "1.5.0",
          "model_name": "DescriptionStyleModel",
          "state": {
            "_model_module": "@jupyter-widgets/controls",
            "_model_module_version": "1.5.0",
            "_model_name": "DescriptionStyleModel",
            "_view_count": null,
            "_view_module": "@jupyter-widgets/base",
            "_view_module_version": "1.2.0",
            "_view_name": "StyleView",
            "description_width": ""
          }
        },
        "129a82bdac694019a9ed4a0e617fafee": {
          "model_module": "@jupyter-widgets/controls",
          "model_module_version": "1.5.0",
          "model_name": "FloatProgressModel",
          "state": {
            "_dom_classes": [],
            "_model_module": "@jupyter-widgets/controls",
            "_model_module_version": "1.5.0",
            "_model_name": "FloatProgressModel",
            "_view_count": null,
            "_view_module": "@jupyter-widgets/controls",
            "_view_module_version": "1.5.0",
            "_view_name": "ProgressView",
            "bar_style": "",
            "description": "",
            "description_tooltip": null,
            "layout": "IPY_MODEL_81b17774d46d4064843f8066d292eceb",
            "max": 1,
            "min": 0,
            "orientation": "horizontal",
            "style": "IPY_MODEL_072d3bbb84a9404e92be2a2c6c75d0f6",
            "value": 1
          }
        },
        "1322ae7811f340ebb63f2d06919e434b": {
          "model_module": "@jupyter-widgets/controls",
          "model_module_version": "1.5.0",
          "model_name": "DescriptionStyleModel",
          "state": {
            "_model_module": "@jupyter-widgets/controls",
            "_model_module_version": "1.5.0",
            "_model_name": "DescriptionStyleModel",
            "_view_count": null,
            "_view_module": "@jupyter-widgets/base",
            "_view_module_version": "1.2.0",
            "_view_name": "StyleView",
            "description_width": ""
          }
        },
        "15e36b763ae64df1952941d2071acef0": {
          "model_module": "@jupyter-widgets/controls",
          "model_module_version": "1.5.0",
          "model_name": "FloatProgressModel",
          "state": {
            "_dom_classes": [],
            "_model_module": "@jupyter-widgets/controls",
            "_model_module_version": "1.5.0",
            "_model_name": "FloatProgressModel",
            "_view_count": null,
            "_view_module": "@jupyter-widgets/controls",
            "_view_module_version": "1.5.0",
            "_view_name": "ProgressView",
            "bar_style": "success",
            "description": "",
            "description_tooltip": null,
            "layout": "IPY_MODEL_901749d999f34c92ac16f2423dc76cb8",
            "max": 30,
            "min": 0,
            "orientation": "horizontal",
            "style": "IPY_MODEL_b7351d7ba59a47fd9f955e09f6411b90",
            "value": 30
          }
        },
        "16d25a01bdb64f9bbaafb29f6547a0bc": {
          "model_module": "@jupyter-widgets/controls",
          "model_module_version": "1.5.0",
          "model_name": "ProgressStyleModel",
          "state": {
            "_model_module": "@jupyter-widgets/controls",
            "_model_module_version": "1.5.0",
            "_model_name": "ProgressStyleModel",
            "_view_count": null,
            "_view_module": "@jupyter-widgets/base",
            "_view_module_version": "1.2.0",
            "_view_name": "StyleView",
            "bar_color": null,
            "description_width": ""
          }
        },
        "1988f951dcc947d188a78ba057b856ff": {
          "model_module": "@jupyter-widgets/controls",
          "model_module_version": "1.5.0",
          "model_name": "HBoxModel",
          "state": {
            "_dom_classes": [],
            "_model_module": "@jupyter-widgets/controls",
            "_model_module_version": "1.5.0",
            "_model_name": "HBoxModel",
            "_view_count": null,
            "_view_module": "@jupyter-widgets/controls",
            "_view_module_version": "1.5.0",
            "_view_name": "HBoxView",
            "box_style": "",
            "children": [
              "IPY_MODEL_c750201c1b4b4f25a8bbcbefdb1ed51b",
              "IPY_MODEL_bc5131462a954335a4eb0fb4ceb975a2",
              "IPY_MODEL_0241347591024e6891eea3324ee4663c"
            ],
            "layout": "IPY_MODEL_3daeb4559b4940da84121053870b9443"
          }
        },
        "1b4dc5a9f7534e0e88ec3e7e491629fa": {
          "model_module": "@jupyter-widgets/controls",
          "model_module_version": "1.5.0",
          "model_name": "DescriptionStyleModel",
          "state": {
            "_model_module": "@jupyter-widgets/controls",
            "_model_module_version": "1.5.0",
            "_model_name": "DescriptionStyleModel",
            "_view_count": null,
            "_view_module": "@jupyter-widgets/base",
            "_view_module_version": "1.2.0",
            "_view_name": "StyleView",
            "description_width": ""
          }
        },
        "1c0eb14beca94623951a5affa14c3c43": {
          "model_module": "@jupyter-widgets/base",
          "model_module_version": "1.2.0",
          "model_name": "LayoutModel",
          "state": {
            "_model_module": "@jupyter-widgets/base",
            "_model_module_version": "1.2.0",
            "_model_name": "LayoutModel",
            "_view_count": null,
            "_view_module": "@jupyter-widgets/base",
            "_view_module_version": "1.2.0",
            "_view_name": "LayoutView",
            "align_content": null,
            "align_items": null,
            "align_self": null,
            "border": null,
            "bottom": null,
            "display": null,
            "flex": null,
            "flex_flow": null,
            "grid_area": null,
            "grid_auto_columns": null,
            "grid_auto_flow": null,
            "grid_auto_rows": null,
            "grid_column": null,
            "grid_gap": null,
            "grid_row": null,
            "grid_template_areas": null,
            "grid_template_columns": null,
            "grid_template_rows": null,
            "height": null,
            "justify_content": null,
            "justify_items": null,
            "left": null,
            "margin": null,
            "max_height": null,
            "max_width": null,
            "min_height": null,
            "min_width": null,
            "object_fit": null,
            "object_position": null,
            "order": null,
            "overflow": null,
            "overflow_x": null,
            "overflow_y": null,
            "padding": null,
            "right": null,
            "top": null,
            "visibility": null,
            "width": null
          }
        },
        "246fdc095fbb4a03b4ff8e13caa9835a": {
          "model_module": "@jupyter-widgets/base",
          "model_module_version": "1.2.0",
          "model_name": "LayoutModel",
          "state": {
            "_model_module": "@jupyter-widgets/base",
            "_model_module_version": "1.2.0",
            "_model_name": "LayoutModel",
            "_view_count": null,
            "_view_module": "@jupyter-widgets/base",
            "_view_module_version": "1.2.0",
            "_view_name": "LayoutView",
            "align_content": null,
            "align_items": null,
            "align_self": null,
            "border": null,
            "bottom": null,
            "display": null,
            "flex": null,
            "flex_flow": null,
            "grid_area": null,
            "grid_auto_columns": null,
            "grid_auto_flow": null,
            "grid_auto_rows": null,
            "grid_column": null,
            "grid_gap": null,
            "grid_row": null,
            "grid_template_areas": null,
            "grid_template_columns": null,
            "grid_template_rows": null,
            "height": null,
            "justify_content": null,
            "justify_items": null,
            "left": null,
            "margin": null,
            "max_height": null,
            "max_width": null,
            "min_height": null,
            "min_width": null,
            "object_fit": null,
            "object_position": null,
            "order": null,
            "overflow": null,
            "overflow_x": null,
            "overflow_y": null,
            "padding": null,
            "right": null,
            "top": null,
            "visibility": null,
            "width": null
          }
        },
        "2ad6fb61479248f6b5ce04bfd424a5f5": {
          "model_module": "@jupyter-widgets/base",
          "model_module_version": "1.2.0",
          "model_name": "LayoutModel",
          "state": {
            "_model_module": "@jupyter-widgets/base",
            "_model_module_version": "1.2.0",
            "_model_name": "LayoutModel",
            "_view_count": null,
            "_view_module": "@jupyter-widgets/base",
            "_view_module_version": "1.2.0",
            "_view_name": "LayoutView",
            "align_content": null,
            "align_items": null,
            "align_self": null,
            "border": null,
            "bottom": null,
            "display": null,
            "flex": null,
            "flex_flow": null,
            "grid_area": null,
            "grid_auto_columns": null,
            "grid_auto_flow": null,
            "grid_auto_rows": null,
            "grid_column": null,
            "grid_gap": null,
            "grid_row": null,
            "grid_template_areas": null,
            "grid_template_columns": null,
            "grid_template_rows": null,
            "height": null,
            "justify_content": null,
            "justify_items": null,
            "left": null,
            "margin": null,
            "max_height": null,
            "max_width": null,
            "min_height": null,
            "min_width": null,
            "object_fit": null,
            "object_position": null,
            "order": null,
            "overflow": null,
            "overflow_x": null,
            "overflow_y": null,
            "padding": null,
            "right": null,
            "top": null,
            "visibility": null,
            "width": null
          }
        },
        "30b17017ed904077a63021e2d1edb1b9": {
          "model_module": "@jupyter-widgets/base",
          "model_module_version": "1.2.0",
          "model_name": "LayoutModel",
          "state": {
            "_model_module": "@jupyter-widgets/base",
            "_model_module_version": "1.2.0",
            "_model_name": "LayoutModel",
            "_view_count": null,
            "_view_module": "@jupyter-widgets/base",
            "_view_module_version": "1.2.0",
            "_view_name": "LayoutView",
            "align_content": null,
            "align_items": null,
            "align_self": null,
            "border": null,
            "bottom": null,
            "display": null,
            "flex": null,
            "flex_flow": null,
            "grid_area": null,
            "grid_auto_columns": null,
            "grid_auto_flow": null,
            "grid_auto_rows": null,
            "grid_column": null,
            "grid_gap": null,
            "grid_row": null,
            "grid_template_areas": null,
            "grid_template_columns": null,
            "grid_template_rows": null,
            "height": null,
            "justify_content": null,
            "justify_items": null,
            "left": null,
            "margin": null,
            "max_height": null,
            "max_width": null,
            "min_height": null,
            "min_width": null,
            "object_fit": null,
            "object_position": null,
            "order": null,
            "overflow": null,
            "overflow_x": null,
            "overflow_y": null,
            "padding": null,
            "right": null,
            "top": null,
            "visibility": null,
            "width": null
          }
        },
        "322a211a2a474c608a1003631bf38b3a": {
          "model_module": "@jupyter-widgets/base",
          "model_module_version": "1.2.0",
          "model_name": "LayoutModel",
          "state": {
            "_model_module": "@jupyter-widgets/base",
            "_model_module_version": "1.2.0",
            "_model_name": "LayoutModel",
            "_view_count": null,
            "_view_module": "@jupyter-widgets/base",
            "_view_module_version": "1.2.0",
            "_view_name": "LayoutView",
            "align_content": null,
            "align_items": null,
            "align_self": null,
            "border": null,
            "bottom": null,
            "display": null,
            "flex": null,
            "flex_flow": null,
            "grid_area": null,
            "grid_auto_columns": null,
            "grid_auto_flow": null,
            "grid_auto_rows": null,
            "grid_column": null,
            "grid_gap": null,
            "grid_row": null,
            "grid_template_areas": null,
            "grid_template_columns": null,
            "grid_template_rows": null,
            "height": null,
            "justify_content": null,
            "justify_items": null,
            "left": null,
            "margin": null,
            "max_height": null,
            "max_width": null,
            "min_height": null,
            "min_width": null,
            "object_fit": null,
            "object_position": null,
            "order": null,
            "overflow": null,
            "overflow_x": null,
            "overflow_y": null,
            "padding": null,
            "right": null,
            "top": null,
            "visibility": null,
            "width": null
          }
        },
        "37a02f401dd045a5b7b6a15011d33ee9": {
          "model_module": "@jupyter-widgets/controls",
          "model_module_version": "1.5.0",
          "model_name": "FloatProgressModel",
          "state": {
            "_dom_classes": [],
            "_model_module": "@jupyter-widgets/controls",
            "_model_module_version": "1.5.0",
            "_model_name": "FloatProgressModel",
            "_view_count": null,
            "_view_module": "@jupyter-widgets/controls",
            "_view_module_version": "1.5.0",
            "_view_name": "ProgressView",
            "bar_style": "",
            "description": "",
            "description_tooltip": null,
            "layout": "IPY_MODEL_6b45f5849a94494888c3128b3935fba7",
            "max": 1,
            "min": 0,
            "orientation": "horizontal",
            "style": "IPY_MODEL_4e7cd1273e264ccf8d6cc2ba7794009f",
            "value": 1
          }
        },
        "37e0a60dd1144fb69fe1bf2899b01d49": {
          "model_module": "@jupyter-widgets/base",
          "model_module_version": "1.2.0",
          "model_name": "LayoutModel",
          "state": {
            "_model_module": "@jupyter-widgets/base",
            "_model_module_version": "1.2.0",
            "_model_name": "LayoutModel",
            "_view_count": null,
            "_view_module": "@jupyter-widgets/base",
            "_view_module_version": "1.2.0",
            "_view_name": "LayoutView",
            "align_content": null,
            "align_items": null,
            "align_self": null,
            "border": null,
            "bottom": null,
            "display": null,
            "flex": null,
            "flex_flow": null,
            "grid_area": null,
            "grid_auto_columns": null,
            "grid_auto_flow": null,
            "grid_auto_rows": null,
            "grid_column": null,
            "grid_gap": null,
            "grid_row": null,
            "grid_template_areas": null,
            "grid_template_columns": null,
            "grid_template_rows": null,
            "height": null,
            "justify_content": null,
            "justify_items": null,
            "left": null,
            "margin": null,
            "max_height": null,
            "max_width": null,
            "min_height": null,
            "min_width": null,
            "object_fit": null,
            "object_position": null,
            "order": null,
            "overflow": null,
            "overflow_x": null,
            "overflow_y": null,
            "padding": null,
            "right": null,
            "top": null,
            "visibility": null,
            "width": null
          }
        },
        "384d7bdaba464c6d88ae299e4d7384e0": {
          "model_module": "@jupyter-widgets/base",
          "model_module_version": "1.2.0",
          "model_name": "LayoutModel",
          "state": {
            "_model_module": "@jupyter-widgets/base",
            "_model_module_version": "1.2.0",
            "_model_name": "LayoutModel",
            "_view_count": null,
            "_view_module": "@jupyter-widgets/base",
            "_view_module_version": "1.2.0",
            "_view_name": "LayoutView",
            "align_content": null,
            "align_items": null,
            "align_self": null,
            "border": null,
            "bottom": null,
            "display": null,
            "flex": null,
            "flex_flow": null,
            "grid_area": null,
            "grid_auto_columns": null,
            "grid_auto_flow": null,
            "grid_auto_rows": null,
            "grid_column": null,
            "grid_gap": null,
            "grid_row": null,
            "grid_template_areas": null,
            "grid_template_columns": null,
            "grid_template_rows": null,
            "height": null,
            "justify_content": null,
            "justify_items": null,
            "left": null,
            "margin": null,
            "max_height": null,
            "max_width": null,
            "min_height": null,
            "min_width": null,
            "object_fit": null,
            "object_position": null,
            "order": null,
            "overflow": null,
            "overflow_x": null,
            "overflow_y": null,
            "padding": null,
            "right": null,
            "top": null,
            "visibility": null,
            "width": null
          }
        },
        "3daeb4559b4940da84121053870b9443": {
          "model_module": "@jupyter-widgets/base",
          "model_module_version": "1.2.0",
          "model_name": "LayoutModel",
          "state": {
            "_model_module": "@jupyter-widgets/base",
            "_model_module_version": "1.2.0",
            "_model_name": "LayoutModel",
            "_view_count": null,
            "_view_module": "@jupyter-widgets/base",
            "_view_module_version": "1.2.0",
            "_view_name": "LayoutView",
            "align_content": null,
            "align_items": null,
            "align_self": null,
            "border": null,
            "bottom": null,
            "display": null,
            "flex": null,
            "flex_flow": null,
            "grid_area": null,
            "grid_auto_columns": null,
            "grid_auto_flow": null,
            "grid_auto_rows": null,
            "grid_column": null,
            "grid_gap": null,
            "grid_row": null,
            "grid_template_areas": null,
            "grid_template_columns": null,
            "grid_template_rows": null,
            "height": null,
            "justify_content": null,
            "justify_items": null,
            "left": null,
            "margin": null,
            "max_height": null,
            "max_width": null,
            "min_height": null,
            "min_width": null,
            "object_fit": null,
            "object_position": null,
            "order": null,
            "overflow": null,
            "overflow_x": null,
            "overflow_y": null,
            "padding": null,
            "right": null,
            "top": null,
            "visibility": null,
            "width": null
          }
        },
        "42596d1f76474f6ca86257d06e4de6b3": {
          "model_module": "@jupyter-widgets/base",
          "model_module_version": "1.2.0",
          "model_name": "LayoutModel",
          "state": {
            "_model_module": "@jupyter-widgets/base",
            "_model_module_version": "1.2.0",
            "_model_name": "LayoutModel",
            "_view_count": null,
            "_view_module": "@jupyter-widgets/base",
            "_view_module_version": "1.2.0",
            "_view_name": "LayoutView",
            "align_content": null,
            "align_items": null,
            "align_self": null,
            "border": null,
            "bottom": null,
            "display": null,
            "flex": null,
            "flex_flow": null,
            "grid_area": null,
            "grid_auto_columns": null,
            "grid_auto_flow": null,
            "grid_auto_rows": null,
            "grid_column": null,
            "grid_gap": null,
            "grid_row": null,
            "grid_template_areas": null,
            "grid_template_columns": null,
            "grid_template_rows": null,
            "height": null,
            "justify_content": null,
            "justify_items": null,
            "left": null,
            "margin": null,
            "max_height": null,
            "max_width": null,
            "min_height": null,
            "min_width": null,
            "object_fit": null,
            "object_position": null,
            "order": null,
            "overflow": null,
            "overflow_x": null,
            "overflow_y": null,
            "padding": null,
            "right": null,
            "top": null,
            "visibility": null,
            "width": null
          }
        },
        "4635a4226c8042028634e70554e01916": {
          "model_module": "@jupyter-widgets/base",
          "model_module_version": "1.2.0",
          "model_name": "LayoutModel",
          "state": {
            "_model_module": "@jupyter-widgets/base",
            "_model_module_version": "1.2.0",
            "_model_name": "LayoutModel",
            "_view_count": null,
            "_view_module": "@jupyter-widgets/base",
            "_view_module_version": "1.2.0",
            "_view_name": "LayoutView",
            "align_content": null,
            "align_items": null,
            "align_self": null,
            "border": null,
            "bottom": null,
            "display": null,
            "flex": null,
            "flex_flow": null,
            "grid_area": null,
            "grid_auto_columns": null,
            "grid_auto_flow": null,
            "grid_auto_rows": null,
            "grid_column": null,
            "grid_gap": null,
            "grid_row": null,
            "grid_template_areas": null,
            "grid_template_columns": null,
            "grid_template_rows": null,
            "height": null,
            "justify_content": null,
            "justify_items": null,
            "left": null,
            "margin": null,
            "max_height": null,
            "max_width": null,
            "min_height": null,
            "min_width": null,
            "object_fit": null,
            "object_position": null,
            "order": null,
            "overflow": null,
            "overflow_x": null,
            "overflow_y": null,
            "padding": null,
            "right": null,
            "top": null,
            "visibility": null,
            "width": null
          }
        },
        "4c232e2ea8bb48c98773ff82f1df3697": {
          "model_module": "@jupyter-widgets/base",
          "model_module_version": "1.2.0",
          "model_name": "LayoutModel",
          "state": {
            "_model_module": "@jupyter-widgets/base",
            "_model_module_version": "1.2.0",
            "_model_name": "LayoutModel",
            "_view_count": null,
            "_view_module": "@jupyter-widgets/base",
            "_view_module_version": "1.2.0",
            "_view_name": "LayoutView",
            "align_content": null,
            "align_items": null,
            "align_self": null,
            "border": null,
            "bottom": null,
            "display": null,
            "flex": null,
            "flex_flow": null,
            "grid_area": null,
            "grid_auto_columns": null,
            "grid_auto_flow": null,
            "grid_auto_rows": null,
            "grid_column": null,
            "grid_gap": null,
            "grid_row": null,
            "grid_template_areas": null,
            "grid_template_columns": null,
            "grid_template_rows": null,
            "height": null,
            "justify_content": null,
            "justify_items": null,
            "left": null,
            "margin": null,
            "max_height": null,
            "max_width": null,
            "min_height": null,
            "min_width": null,
            "object_fit": null,
            "object_position": null,
            "order": null,
            "overflow": null,
            "overflow_x": null,
            "overflow_y": null,
            "padding": null,
            "right": null,
            "top": null,
            "visibility": null,
            "width": null
          }
        },
        "4e7cd1273e264ccf8d6cc2ba7794009f": {
          "model_module": "@jupyter-widgets/controls",
          "model_module_version": "1.5.0",
          "model_name": "ProgressStyleModel",
          "state": {
            "_model_module": "@jupyter-widgets/controls",
            "_model_module_version": "1.5.0",
            "_model_name": "ProgressStyleModel",
            "_view_count": null,
            "_view_module": "@jupyter-widgets/base",
            "_view_module_version": "1.2.0",
            "_view_name": "StyleView",
            "bar_color": null,
            "description_width": ""
          }
        },
        "4f0676fe2fc34db3b53021d39f1a47e0": {
          "model_module": "@jupyter-widgets/controls",
          "model_module_version": "1.5.0",
          "model_name": "FloatProgressModel",
          "state": {
            "_dom_classes": [],
            "_model_module": "@jupyter-widgets/controls",
            "_model_module_version": "1.5.0",
            "_model_name": "FloatProgressModel",
            "_view_count": null,
            "_view_module": "@jupyter-widgets/controls",
            "_view_module_version": "1.5.0",
            "_view_name": "ProgressView",
            "bar_style": "",
            "description": "",
            "description_tooltip": null,
            "layout": "IPY_MODEL_1c0eb14beca94623951a5affa14c3c43",
            "max": 1,
            "min": 0,
            "orientation": "horizontal",
            "style": "IPY_MODEL_a8b58ab752714bc4b58b67c82c65d8ca",
            "value": 1
          }
        },
        "5188b12fca8043849e1e1f81954690e4": {
          "model_module": "@jupyter-widgets/base",
          "model_module_version": "1.2.0",
          "model_name": "LayoutModel",
          "state": {
            "_model_module": "@jupyter-widgets/base",
            "_model_module_version": "1.2.0",
            "_model_name": "LayoutModel",
            "_view_count": null,
            "_view_module": "@jupyter-widgets/base",
            "_view_module_version": "1.2.0",
            "_view_name": "LayoutView",
            "align_content": null,
            "align_items": null,
            "align_self": null,
            "border": null,
            "bottom": null,
            "display": null,
            "flex": null,
            "flex_flow": null,
            "grid_area": null,
            "grid_auto_columns": null,
            "grid_auto_flow": null,
            "grid_auto_rows": null,
            "grid_column": null,
            "grid_gap": null,
            "grid_row": null,
            "grid_template_areas": null,
            "grid_template_columns": null,
            "grid_template_rows": null,
            "height": null,
            "justify_content": null,
            "justify_items": null,
            "left": null,
            "margin": null,
            "max_height": null,
            "max_width": null,
            "min_height": null,
            "min_width": null,
            "object_fit": null,
            "object_position": null,
            "order": null,
            "overflow": null,
            "overflow_x": null,
            "overflow_y": null,
            "padding": null,
            "right": null,
            "top": null,
            "visibility": null,
            "width": null
          }
        },
        "540441898eff4e1e95a329216e4adf60": {
          "model_module": "@jupyter-widgets/controls",
          "model_module_version": "1.5.0",
          "model_name": "ProgressStyleModel",
          "state": {
            "_model_module": "@jupyter-widgets/controls",
            "_model_module_version": "1.5.0",
            "_model_name": "ProgressStyleModel",
            "_view_count": null,
            "_view_module": "@jupyter-widgets/base",
            "_view_module_version": "1.2.0",
            "_view_name": "StyleView",
            "bar_color": null,
            "description_width": ""
          }
        },
        "6059c68b3484480aa6bf939fa710e891": {
          "model_module": "@jupyter-widgets/controls",
          "model_module_version": "1.5.0",
          "model_name": "HBoxModel",
          "state": {
            "_dom_classes": [],
            "_model_module": "@jupyter-widgets/controls",
            "_model_module_version": "1.5.0",
            "_model_name": "HBoxModel",
            "_view_count": null,
            "_view_module": "@jupyter-widgets/controls",
            "_view_module_version": "1.5.0",
            "_view_name": "HBoxView",
            "box_style": "",
            "children": [
              "IPY_MODEL_e7cb819ba2ea47ab895346f97fb61019",
              "IPY_MODEL_15e36b763ae64df1952941d2071acef0",
              "IPY_MODEL_b3f5afc81f904e4c965f6ef6cd72b5ce"
            ],
            "layout": "IPY_MODEL_4635a4226c8042028634e70554e01916"
          }
        },
        "60975975ada4486eacdb120f972b8ff5": {
          "model_module": "@jupyter-widgets/controls",
          "model_module_version": "1.5.0",
          "model_name": "DescriptionStyleModel",
          "state": {
            "_model_module": "@jupyter-widgets/controls",
            "_model_module_version": "1.5.0",
            "_model_name": "DescriptionStyleModel",
            "_view_count": null,
            "_view_module": "@jupyter-widgets/base",
            "_view_module_version": "1.2.0",
            "_view_name": "StyleView",
            "description_width": ""
          }
        },
        "60b2d7bc602c4b02b40414b90368bceb": {
          "model_module": "@jupyter-widgets/controls",
          "model_module_version": "1.5.0",
          "model_name": "LabelModel",
          "state": {
            "_dom_classes": [],
            "_model_module": "@jupyter-widgets/controls",
            "_model_module_version": "1.5.0",
            "_model_name": "LabelModel",
            "_view_count": null,
            "_view_module": "@jupyter-widgets/controls",
            "_view_module_version": "1.5.0",
            "_view_name": "LabelView",
            "description": "",
            "description_tooltip": null,
            "layout": "IPY_MODEL_9fc4971314d043579723194273bc7d51",
            "placeholder": "​",
            "style": "IPY_MODEL_1322ae7811f340ebb63f2d06919e434b",
            "value": "0.012 MB of 0.012 MB uploaded\r"
          }
        },
        "65f809fb3aa24374b8e97498ff7bbffe": {
          "model_module": "@jupyter-widgets/controls",
          "model_module_version": "1.5.0",
          "model_name": "VBoxModel",
          "state": {
            "_dom_classes": [],
            "_model_module": "@jupyter-widgets/controls",
            "_model_module_version": "1.5.0",
            "_model_name": "VBoxModel",
            "_view_count": null,
            "_view_module": "@jupyter-widgets/controls",
            "_view_module_version": "1.5.0",
            "_view_name": "VBoxView",
            "box_style": "",
            "children": [
              "IPY_MODEL_60b2d7bc602c4b02b40414b90368bceb",
              "IPY_MODEL_8ad1791f402c4235980d97061976d578"
            ],
            "layout": "IPY_MODEL_97494a712e824548a8a9e6a524f55027"
          }
        },
        "6836c80f87ce400f9bb23d4c1a6192d8": {
          "model_module": "@jupyter-widgets/controls",
          "model_module_version": "1.5.0",
          "model_name": "HBoxModel",
          "state": {
            "_dom_classes": [],
            "_model_module": "@jupyter-widgets/controls",
            "_model_module_version": "1.5.0",
            "_model_name": "HBoxModel",
            "_view_count": null,
            "_view_module": "@jupyter-widgets/controls",
            "_view_module_version": "1.5.0",
            "_view_name": "HBoxView",
            "box_style": "",
            "children": [
              "IPY_MODEL_058ea6c214d544388cf85c38612960c5",
              "IPY_MODEL_897a5f13655343a48deb7b4bd14f03a4",
              "IPY_MODEL_f184bc32cfd44051ab62587b67357c93"
            ],
            "layout": "IPY_MODEL_42596d1f76474f6ca86257d06e4de6b3"
          }
        },
        "6b45f5849a94494888c3128b3935fba7": {
          "model_module": "@jupyter-widgets/base",
          "model_module_version": "1.2.0",
          "model_name": "LayoutModel",
          "state": {
            "_model_module": "@jupyter-widgets/base",
            "_model_module_version": "1.2.0",
            "_model_name": "LayoutModel",
            "_view_count": null,
            "_view_module": "@jupyter-widgets/base",
            "_view_module_version": "1.2.0",
            "_view_name": "LayoutView",
            "align_content": null,
            "align_items": null,
            "align_self": null,
            "border": null,
            "bottom": null,
            "display": null,
            "flex": null,
            "flex_flow": null,
            "grid_area": null,
            "grid_auto_columns": null,
            "grid_auto_flow": null,
            "grid_auto_rows": null,
            "grid_column": null,
            "grid_gap": null,
            "grid_row": null,
            "grid_template_areas": null,
            "grid_template_columns": null,
            "grid_template_rows": null,
            "height": null,
            "justify_content": null,
            "justify_items": null,
            "left": null,
            "margin": null,
            "max_height": null,
            "max_width": null,
            "min_height": null,
            "min_width": null,
            "object_fit": null,
            "object_position": null,
            "order": null,
            "overflow": null,
            "overflow_x": null,
            "overflow_y": null,
            "padding": null,
            "right": null,
            "top": null,
            "visibility": null,
            "width": null
          }
        },
        "6d9cbb899af1451e85ba90a76a05f994": {
          "model_module": "@jupyter-widgets/controls",
          "model_module_version": "1.5.0",
          "model_name": "HTMLModel",
          "state": {
            "_dom_classes": [],
            "_model_module": "@jupyter-widgets/controls",
            "_model_module_version": "1.5.0",
            "_model_name": "HTMLModel",
            "_view_count": null,
            "_view_module": "@jupyter-widgets/controls",
            "_view_module_version": "1.5.0",
            "_view_name": "HTMLView",
            "description": "",
            "description_tooltip": null,
            "layout": "IPY_MODEL_384d7bdaba464c6d88ae299e4d7384e0",
            "placeholder": "​",
            "style": "IPY_MODEL_60975975ada4486eacdb120f972b8ff5",
            "value": "Epoch:  30%"
          }
        },
        "7272053c618f4447afc7815103e1b31c": {
          "model_module": "@jupyter-widgets/base",
          "model_module_version": "1.2.0",
          "model_name": "LayoutModel",
          "state": {
            "_model_module": "@jupyter-widgets/base",
            "_model_module_version": "1.2.0",
            "_model_name": "LayoutModel",
            "_view_count": null,
            "_view_module": "@jupyter-widgets/base",
            "_view_module_version": "1.2.0",
            "_view_name": "LayoutView",
            "align_content": null,
            "align_items": null,
            "align_self": null,
            "border": null,
            "bottom": null,
            "display": null,
            "flex": null,
            "flex_flow": null,
            "grid_area": null,
            "grid_auto_columns": null,
            "grid_auto_flow": null,
            "grid_auto_rows": null,
            "grid_column": null,
            "grid_gap": null,
            "grid_row": null,
            "grid_template_areas": null,
            "grid_template_columns": null,
            "grid_template_rows": null,
            "height": null,
            "justify_content": null,
            "justify_items": null,
            "left": null,
            "margin": null,
            "max_height": null,
            "max_width": null,
            "min_height": null,
            "min_width": null,
            "object_fit": null,
            "object_position": null,
            "order": null,
            "overflow": null,
            "overflow_x": null,
            "overflow_y": null,
            "padding": null,
            "right": null,
            "top": null,
            "visibility": null,
            "width": null
          }
        },
        "7e3b769bdf67461ca632a4fc9eb9e806": {
          "model_module": "@jupyter-widgets/controls",
          "model_module_version": "1.5.0",
          "model_name": "VBoxModel",
          "state": {
            "_dom_classes": [],
            "_model_module": "@jupyter-widgets/controls",
            "_model_module_version": "1.5.0",
            "_model_name": "VBoxModel",
            "_view_count": null,
            "_view_module": "@jupyter-widgets/controls",
            "_view_module_version": "1.5.0",
            "_view_name": "VBoxView",
            "box_style": "",
            "children": [
              "IPY_MODEL_c8bf11e9b40f44c7b89e7238a9c014ff",
              "IPY_MODEL_129a82bdac694019a9ed4a0e617fafee"
            ],
            "layout": "IPY_MODEL_30b17017ed904077a63021e2d1edb1b9"
          }
        },
        "81b17774d46d4064843f8066d292eceb": {
          "model_module": "@jupyter-widgets/base",
          "model_module_version": "1.2.0",
          "model_name": "LayoutModel",
          "state": {
            "_model_module": "@jupyter-widgets/base",
            "_model_module_version": "1.2.0",
            "_model_name": "LayoutModel",
            "_view_count": null,
            "_view_module": "@jupyter-widgets/base",
            "_view_module_version": "1.2.0",
            "_view_name": "LayoutView",
            "align_content": null,
            "align_items": null,
            "align_self": null,
            "border": null,
            "bottom": null,
            "display": null,
            "flex": null,
            "flex_flow": null,
            "grid_area": null,
            "grid_auto_columns": null,
            "grid_auto_flow": null,
            "grid_auto_rows": null,
            "grid_column": null,
            "grid_gap": null,
            "grid_row": null,
            "grid_template_areas": null,
            "grid_template_columns": null,
            "grid_template_rows": null,
            "height": null,
            "justify_content": null,
            "justify_items": null,
            "left": null,
            "margin": null,
            "max_height": null,
            "max_width": null,
            "min_height": null,
            "min_width": null,
            "object_fit": null,
            "object_position": null,
            "order": null,
            "overflow": null,
            "overflow_x": null,
            "overflow_y": null,
            "padding": null,
            "right": null,
            "top": null,
            "visibility": null,
            "width": null
          }
        },
        "85ca2dfd608043a8914e7cf2489a7334": {
          "model_module": "@jupyter-widgets/controls",
          "model_module_version": "1.5.0",
          "model_name": "ProgressStyleModel",
          "state": {
            "_model_module": "@jupyter-widgets/controls",
            "_model_module_version": "1.5.0",
            "_model_name": "ProgressStyleModel",
            "_view_count": null,
            "_view_module": "@jupyter-widgets/base",
            "_view_module_version": "1.2.0",
            "_view_name": "StyleView",
            "bar_color": null,
            "description_width": ""
          }
        },
        "897a5f13655343a48deb7b4bd14f03a4": {
          "model_module": "@jupyter-widgets/controls",
          "model_module_version": "1.5.0",
          "model_name": "FloatProgressModel",
          "state": {
            "_dom_classes": [],
            "_model_module": "@jupyter-widgets/controls",
            "_model_module_version": "1.5.0",
            "_model_name": "FloatProgressModel",
            "_view_count": null,
            "_view_module": "@jupyter-widgets/controls",
            "_view_module_version": "1.5.0",
            "_view_name": "ProgressView",
            "bar_style": "success",
            "description": "",
            "description_tooltip": null,
            "layout": "IPY_MODEL_4c232e2ea8bb48c98773ff82f1df3697",
            "max": 30,
            "min": 0,
            "orientation": "horizontal",
            "style": "IPY_MODEL_16d25a01bdb64f9bbaafb29f6547a0bc",
            "value": 30
          }
        },
        "8a1e3ae3c75b482cbce560c1a051b83a": {
          "model_module": "@jupyter-widgets/controls",
          "model_module_version": "1.5.0",
          "model_name": "DescriptionStyleModel",
          "state": {
            "_model_module": "@jupyter-widgets/controls",
            "_model_module_version": "1.5.0",
            "_model_name": "DescriptionStyleModel",
            "_view_count": null,
            "_view_module": "@jupyter-widgets/base",
            "_view_module_version": "1.2.0",
            "_view_name": "StyleView",
            "description_width": ""
          }
        },
        "8ad1791f402c4235980d97061976d578": {
          "model_module": "@jupyter-widgets/controls",
          "model_module_version": "1.5.0",
          "model_name": "FloatProgressModel",
          "state": {
            "_dom_classes": [],
            "_model_module": "@jupyter-widgets/controls",
            "_model_module_version": "1.5.0",
            "_model_name": "FloatProgressModel",
            "_view_count": null,
            "_view_module": "@jupyter-widgets/controls",
            "_view_module_version": "1.5.0",
            "_view_name": "ProgressView",
            "bar_style": "",
            "description": "",
            "description_tooltip": null,
            "layout": "IPY_MODEL_9b1f0dadbd6f4cc69572ed50e389358e",
            "max": 1,
            "min": 0,
            "orientation": "horizontal",
            "style": "IPY_MODEL_051422852e6843ecbacaf244a546dcc8",
            "value": 1
          }
        },
        "901749d999f34c92ac16f2423dc76cb8": {
          "model_module": "@jupyter-widgets/base",
          "model_module_version": "1.2.0",
          "model_name": "LayoutModel",
          "state": {
            "_model_module": "@jupyter-widgets/base",
            "_model_module_version": "1.2.0",
            "_model_name": "LayoutModel",
            "_view_count": null,
            "_view_module": "@jupyter-widgets/base",
            "_view_module_version": "1.2.0",
            "_view_name": "LayoutView",
            "align_content": null,
            "align_items": null,
            "align_self": null,
            "border": null,
            "bottom": null,
            "display": null,
            "flex": null,
            "flex_flow": null,
            "grid_area": null,
            "grid_auto_columns": null,
            "grid_auto_flow": null,
            "grid_auto_rows": null,
            "grid_column": null,
            "grid_gap": null,
            "grid_row": null,
            "grid_template_areas": null,
            "grid_template_columns": null,
            "grid_template_rows": null,
            "height": null,
            "justify_content": null,
            "justify_items": null,
            "left": null,
            "margin": null,
            "max_height": null,
            "max_width": null,
            "min_height": null,
            "min_width": null,
            "object_fit": null,
            "object_position": null,
            "order": null,
            "overflow": null,
            "overflow_x": null,
            "overflow_y": null,
            "padding": null,
            "right": null,
            "top": null,
            "visibility": null,
            "width": null
          }
        },
        "933214203b154d5a8983aa3150972629": {
          "model_module": "@jupyter-widgets/controls",
          "model_module_version": "1.5.0",
          "model_name": "LabelModel",
          "state": {
            "_dom_classes": [],
            "_model_module": "@jupyter-widgets/controls",
            "_model_module_version": "1.5.0",
            "_model_name": "LabelModel",
            "_view_count": null,
            "_view_module": "@jupyter-widgets/controls",
            "_view_module_version": "1.5.0",
            "_view_name": "LabelView",
            "description": "",
            "description_tooltip": null,
            "layout": "IPY_MODEL_0e31ee28e564421497d44a8972fd8aa9",
            "placeholder": "​",
            "style": "IPY_MODEL_cf1836d9ef9f4dd8a1f9eb613a550b7d",
            "value": "0.012 MB of 0.012 MB uploaded\r"
          }
        },
        "97494a712e824548a8a9e6a524f55027": {
          "model_module": "@jupyter-widgets/base",
          "model_module_version": "1.2.0",
          "model_name": "LayoutModel",
          "state": {
            "_model_module": "@jupyter-widgets/base",
            "_model_module_version": "1.2.0",
            "_model_name": "LayoutModel",
            "_view_count": null,
            "_view_module": "@jupyter-widgets/base",
            "_view_module_version": "1.2.0",
            "_view_name": "LayoutView",
            "align_content": null,
            "align_items": null,
            "align_self": null,
            "border": null,
            "bottom": null,
            "display": null,
            "flex": null,
            "flex_flow": null,
            "grid_area": null,
            "grid_auto_columns": null,
            "grid_auto_flow": null,
            "grid_auto_rows": null,
            "grid_column": null,
            "grid_gap": null,
            "grid_row": null,
            "grid_template_areas": null,
            "grid_template_columns": null,
            "grid_template_rows": null,
            "height": null,
            "justify_content": null,
            "justify_items": null,
            "left": null,
            "margin": null,
            "max_height": null,
            "max_width": null,
            "min_height": null,
            "min_width": null,
            "object_fit": null,
            "object_position": null,
            "order": null,
            "overflow": null,
            "overflow_x": null,
            "overflow_y": null,
            "padding": null,
            "right": null,
            "top": null,
            "visibility": null,
            "width": null
          }
        },
        "9a9cb97cd62a4318a4c3258b1d94e141": {
          "model_module": "@jupyter-widgets/base",
          "model_module_version": "1.2.0",
          "model_name": "LayoutModel",
          "state": {
            "_model_module": "@jupyter-widgets/base",
            "_model_module_version": "1.2.0",
            "_model_name": "LayoutModel",
            "_view_count": null,
            "_view_module": "@jupyter-widgets/base",
            "_view_module_version": "1.2.0",
            "_view_name": "LayoutView",
            "align_content": null,
            "align_items": null,
            "align_self": null,
            "border": null,
            "bottom": null,
            "display": null,
            "flex": null,
            "flex_flow": null,
            "grid_area": null,
            "grid_auto_columns": null,
            "grid_auto_flow": null,
            "grid_auto_rows": null,
            "grid_column": null,
            "grid_gap": null,
            "grid_row": null,
            "grid_template_areas": null,
            "grid_template_columns": null,
            "grid_template_rows": null,
            "height": null,
            "justify_content": null,
            "justify_items": null,
            "left": null,
            "margin": null,
            "max_height": null,
            "max_width": null,
            "min_height": null,
            "min_width": null,
            "object_fit": null,
            "object_position": null,
            "order": null,
            "overflow": null,
            "overflow_x": null,
            "overflow_y": null,
            "padding": null,
            "right": null,
            "top": null,
            "visibility": null,
            "width": null
          }
        },
        "9af97897631341fa909277dabbb22fe7": {
          "model_module": "@jupyter-widgets/controls",
          "model_module_version": "1.5.0",
          "model_name": "DescriptionStyleModel",
          "state": {
            "_model_module": "@jupyter-widgets/controls",
            "_model_module_version": "1.5.0",
            "_model_name": "DescriptionStyleModel",
            "_view_count": null,
            "_view_module": "@jupyter-widgets/base",
            "_view_module_version": "1.2.0",
            "_view_name": "StyleView",
            "description_width": ""
          }
        },
        "9affe4a702f84dcfa426b983c4229af8": {
          "model_module": "@jupyter-widgets/base",
          "model_module_version": "1.2.0",
          "model_name": "LayoutModel",
          "state": {
            "_model_module": "@jupyter-widgets/base",
            "_model_module_version": "1.2.0",
            "_model_name": "LayoutModel",
            "_view_count": null,
            "_view_module": "@jupyter-widgets/base",
            "_view_module_version": "1.2.0",
            "_view_name": "LayoutView",
            "align_content": null,
            "align_items": null,
            "align_self": null,
            "border": null,
            "bottom": null,
            "display": null,
            "flex": null,
            "flex_flow": null,
            "grid_area": null,
            "grid_auto_columns": null,
            "grid_auto_flow": null,
            "grid_auto_rows": null,
            "grid_column": null,
            "grid_gap": null,
            "grid_row": null,
            "grid_template_areas": null,
            "grid_template_columns": null,
            "grid_template_rows": null,
            "height": null,
            "justify_content": null,
            "justify_items": null,
            "left": null,
            "margin": null,
            "max_height": null,
            "max_width": null,
            "min_height": null,
            "min_width": null,
            "object_fit": null,
            "object_position": null,
            "order": null,
            "overflow": null,
            "overflow_x": null,
            "overflow_y": null,
            "padding": null,
            "right": null,
            "top": null,
            "visibility": null,
            "width": null
          }
        },
        "9b1f0dadbd6f4cc69572ed50e389358e": {
          "model_module": "@jupyter-widgets/base",
          "model_module_version": "1.2.0",
          "model_name": "LayoutModel",
          "state": {
            "_model_module": "@jupyter-widgets/base",
            "_model_module_version": "1.2.0",
            "_model_name": "LayoutModel",
            "_view_count": null,
            "_view_module": "@jupyter-widgets/base",
            "_view_module_version": "1.2.0",
            "_view_name": "LayoutView",
            "align_content": null,
            "align_items": null,
            "align_self": null,
            "border": null,
            "bottom": null,
            "display": null,
            "flex": null,
            "flex_flow": null,
            "grid_area": null,
            "grid_auto_columns": null,
            "grid_auto_flow": null,
            "grid_auto_rows": null,
            "grid_column": null,
            "grid_gap": null,
            "grid_row": null,
            "grid_template_areas": null,
            "grid_template_columns": null,
            "grid_template_rows": null,
            "height": null,
            "justify_content": null,
            "justify_items": null,
            "left": null,
            "margin": null,
            "max_height": null,
            "max_width": null,
            "min_height": null,
            "min_width": null,
            "object_fit": null,
            "object_position": null,
            "order": null,
            "overflow": null,
            "overflow_x": null,
            "overflow_y": null,
            "padding": null,
            "right": null,
            "top": null,
            "visibility": null,
            "width": null
          }
        },
        "9b48379fa430466b9a0873d483d2f72c": {
          "model_module": "@jupyter-widgets/base",
          "model_module_version": "1.2.0",
          "model_name": "LayoutModel",
          "state": {
            "_model_module": "@jupyter-widgets/base",
            "_model_module_version": "1.2.0",
            "_model_name": "LayoutModel",
            "_view_count": null,
            "_view_module": "@jupyter-widgets/base",
            "_view_module_version": "1.2.0",
            "_view_name": "LayoutView",
            "align_content": null,
            "align_items": null,
            "align_self": null,
            "border": null,
            "bottom": null,
            "display": null,
            "flex": null,
            "flex_flow": null,
            "grid_area": null,
            "grid_auto_columns": null,
            "grid_auto_flow": null,
            "grid_auto_rows": null,
            "grid_column": null,
            "grid_gap": null,
            "grid_row": null,
            "grid_template_areas": null,
            "grid_template_columns": null,
            "grid_template_rows": null,
            "height": null,
            "justify_content": null,
            "justify_items": null,
            "left": null,
            "margin": null,
            "max_height": null,
            "max_width": null,
            "min_height": null,
            "min_width": null,
            "object_fit": null,
            "object_position": null,
            "order": null,
            "overflow": null,
            "overflow_x": null,
            "overflow_y": null,
            "padding": null,
            "right": null,
            "top": null,
            "visibility": null,
            "width": null
          }
        },
        "9d5059968b9b49f9ad1f4c03c2bf39e2": {
          "model_module": "@jupyter-widgets/controls",
          "model_module_version": "1.5.0",
          "model_name": "ProgressStyleModel",
          "state": {
            "_model_module": "@jupyter-widgets/controls",
            "_model_module_version": "1.5.0",
            "_model_name": "ProgressStyleModel",
            "_view_count": null,
            "_view_module": "@jupyter-widgets/base",
            "_view_module_version": "1.2.0",
            "_view_name": "StyleView",
            "bar_color": null,
            "description_width": ""
          }
        },
        "9fc4971314d043579723194273bc7d51": {
          "model_module": "@jupyter-widgets/base",
          "model_module_version": "1.2.0",
          "model_name": "LayoutModel",
          "state": {
            "_model_module": "@jupyter-widgets/base",
            "_model_module_version": "1.2.0",
            "_model_name": "LayoutModel",
            "_view_count": null,
            "_view_module": "@jupyter-widgets/base",
            "_view_module_version": "1.2.0",
            "_view_name": "LayoutView",
            "align_content": null,
            "align_items": null,
            "align_self": null,
            "border": null,
            "bottom": null,
            "display": null,
            "flex": null,
            "flex_flow": null,
            "grid_area": null,
            "grid_auto_columns": null,
            "grid_auto_flow": null,
            "grid_auto_rows": null,
            "grid_column": null,
            "grid_gap": null,
            "grid_row": null,
            "grid_template_areas": null,
            "grid_template_columns": null,
            "grid_template_rows": null,
            "height": null,
            "justify_content": null,
            "justify_items": null,
            "left": null,
            "margin": null,
            "max_height": null,
            "max_width": null,
            "min_height": null,
            "min_width": null,
            "object_fit": null,
            "object_position": null,
            "order": null,
            "overflow": null,
            "overflow_x": null,
            "overflow_y": null,
            "padding": null,
            "right": null,
            "top": null,
            "visibility": null,
            "width": null
          }
        },
        "9ff45d9e8f774787991f4ec641c6231f": {
          "model_module": "@jupyter-widgets/controls",
          "model_module_version": "1.5.0",
          "model_name": "HTMLModel",
          "state": {
            "_dom_classes": [],
            "_model_module": "@jupyter-widgets/controls",
            "_model_module_version": "1.5.0",
            "_model_name": "HTMLModel",
            "_view_count": null,
            "_view_module": "@jupyter-widgets/controls",
            "_view_module_version": "1.5.0",
            "_view_name": "HTMLView",
            "description": "",
            "description_tooltip": null,
            "layout": "IPY_MODEL_e53422f035fb4684834665517b045d7e",
            "placeholder": "​",
            "style": "IPY_MODEL_00205dee4b2446ad9156a373fd74996c",
            "value": " 30/30 [12:25&lt;00:00, 24.55s/it]"
          }
        },
        "a6034b91bf3544b88ad1129a5b87ba6f": {
          "model_module": "@jupyter-widgets/controls",
          "model_module_version": "1.5.0",
          "model_name": "DescriptionStyleModel",
          "state": {
            "_model_module": "@jupyter-widgets/controls",
            "_model_module_version": "1.5.0",
            "_model_name": "DescriptionStyleModel",
            "_view_count": null,
            "_view_module": "@jupyter-widgets/base",
            "_view_module_version": "1.2.0",
            "_view_name": "StyleView",
            "description_width": ""
          }
        },
        "a689cd2febb1401ab9322982960df1c8": {
          "model_module": "@jupyter-widgets/base",
          "model_module_version": "1.2.0",
          "model_name": "LayoutModel",
          "state": {
            "_model_module": "@jupyter-widgets/base",
            "_model_module_version": "1.2.0",
            "_model_name": "LayoutModel",
            "_view_count": null,
            "_view_module": "@jupyter-widgets/base",
            "_view_module_version": "1.2.0",
            "_view_name": "LayoutView",
            "align_content": null,
            "align_items": null,
            "align_self": null,
            "border": null,
            "bottom": null,
            "display": null,
            "flex": null,
            "flex_flow": null,
            "grid_area": null,
            "grid_auto_columns": null,
            "grid_auto_flow": null,
            "grid_auto_rows": null,
            "grid_column": null,
            "grid_gap": null,
            "grid_row": null,
            "grid_template_areas": null,
            "grid_template_columns": null,
            "grid_template_rows": null,
            "height": null,
            "justify_content": null,
            "justify_items": null,
            "left": null,
            "margin": null,
            "max_height": null,
            "max_width": null,
            "min_height": null,
            "min_width": null,
            "object_fit": null,
            "object_position": null,
            "order": null,
            "overflow": null,
            "overflow_x": null,
            "overflow_y": null,
            "padding": null,
            "right": null,
            "top": null,
            "visibility": null,
            "width": null
          }
        },
        "a833116123d84c2ea424a1df1f32e293": {
          "model_module": "@jupyter-widgets/controls",
          "model_module_version": "1.5.0",
          "model_name": "FloatProgressModel",
          "state": {
            "_dom_classes": [],
            "_model_module": "@jupyter-widgets/controls",
            "_model_module_version": "1.5.0",
            "_model_name": "FloatProgressModel",
            "_view_count": null,
            "_view_module": "@jupyter-widgets/controls",
            "_view_module_version": "1.5.0",
            "_view_name": "ProgressView",
            "bar_style": "success",
            "description": "",
            "description_tooltip": null,
            "layout": "IPY_MODEL_9affe4a702f84dcfa426b983c4229af8",
            "max": 30,
            "min": 0,
            "orientation": "horizontal",
            "style": "IPY_MODEL_9d5059968b9b49f9ad1f4c03c2bf39e2",
            "value": 30
          }
        },
        "a8b58ab752714bc4b58b67c82c65d8ca": {
          "model_module": "@jupyter-widgets/controls",
          "model_module_version": "1.5.0",
          "model_name": "ProgressStyleModel",
          "state": {
            "_model_module": "@jupyter-widgets/controls",
            "_model_module_version": "1.5.0",
            "_model_name": "ProgressStyleModel",
            "_view_count": null,
            "_view_module": "@jupyter-widgets/base",
            "_view_module_version": "1.2.0",
            "_view_name": "StyleView",
            "bar_color": null,
            "description_width": ""
          }
        },
        "ab1dc13a7d5d4edfb2dd7d013c2f8190": {
          "model_module": "@jupyter-widgets/controls",
          "model_module_version": "1.5.0",
          "model_name": "VBoxModel",
          "state": {
            "_dom_classes": [],
            "_model_module": "@jupyter-widgets/controls",
            "_model_module_version": "1.5.0",
            "_model_name": "VBoxModel",
            "_view_count": null,
            "_view_module": "@jupyter-widgets/controls",
            "_view_module_version": "1.5.0",
            "_view_name": "VBoxView",
            "box_style": "",
            "children": [
              "IPY_MODEL_933214203b154d5a8983aa3150972629",
              "IPY_MODEL_37a02f401dd045a5b7b6a15011d33ee9"
            ],
            "layout": "IPY_MODEL_9a9cb97cd62a4318a4c3258b1d94e141"
          }
        },
        "ae8a96de2546458f9cc2423a6ec78e10": {
          "model_module": "@jupyter-widgets/base",
          "model_module_version": "1.2.0",
          "model_name": "LayoutModel",
          "state": {
            "_model_module": "@jupyter-widgets/base",
            "_model_module_version": "1.2.0",
            "_model_name": "LayoutModel",
            "_view_count": null,
            "_view_module": "@jupyter-widgets/base",
            "_view_module_version": "1.2.0",
            "_view_name": "LayoutView",
            "align_content": null,
            "align_items": null,
            "align_self": null,
            "border": null,
            "bottom": null,
            "display": null,
            "flex": null,
            "flex_flow": null,
            "grid_area": null,
            "grid_auto_columns": null,
            "grid_auto_flow": null,
            "grid_auto_rows": null,
            "grid_column": null,
            "grid_gap": null,
            "grid_row": null,
            "grid_template_areas": null,
            "grid_template_columns": null,
            "grid_template_rows": null,
            "height": null,
            "justify_content": null,
            "justify_items": null,
            "left": null,
            "margin": null,
            "max_height": null,
            "max_width": null,
            "min_height": null,
            "min_width": null,
            "object_fit": null,
            "object_position": null,
            "order": null,
            "overflow": null,
            "overflow_x": null,
            "overflow_y": null,
            "padding": null,
            "right": null,
            "top": null,
            "visibility": null,
            "width": null
          }
        },
        "af5d84759df340109eb4bdd1cf2c3792": {
          "model_module": "@jupyter-widgets/controls",
          "model_module_version": "1.5.0",
          "model_name": "DescriptionStyleModel",
          "state": {
            "_model_module": "@jupyter-widgets/controls",
            "_model_module_version": "1.5.0",
            "_model_name": "DescriptionStyleModel",
            "_view_count": null,
            "_view_module": "@jupyter-widgets/base",
            "_view_module_version": "1.2.0",
            "_view_name": "StyleView",
            "description_width": ""
          }
        },
        "b3f5afc81f904e4c965f6ef6cd72b5ce": {
          "model_module": "@jupyter-widgets/controls",
          "model_module_version": "1.5.0",
          "model_name": "HTMLModel",
          "state": {
            "_dom_classes": [],
            "_model_module": "@jupyter-widgets/controls",
            "_model_module_version": "1.5.0",
            "_model_name": "HTMLModel",
            "_view_count": null,
            "_view_module": "@jupyter-widgets/controls",
            "_view_module_version": "1.5.0",
            "_view_name": "HTMLView",
            "description": "",
            "description_tooltip": null,
            "layout": "IPY_MODEL_fb59eabc68d547d28eff4ed59760542a",
            "placeholder": "​",
            "style": "IPY_MODEL_0e97086778544de19dc1bf63738a9b18",
            "value": " 30/30 [11:17&lt;00:00, 22.41s/it]"
          }
        },
        "b7351d7ba59a47fd9f955e09f6411b90": {
          "model_module": "@jupyter-widgets/controls",
          "model_module_version": "1.5.0",
          "model_name": "ProgressStyleModel",
          "state": {
            "_model_module": "@jupyter-widgets/controls",
            "_model_module_version": "1.5.0",
            "_model_name": "ProgressStyleModel",
            "_view_count": null,
            "_view_module": "@jupyter-widgets/base",
            "_view_module_version": "1.2.0",
            "_view_name": "StyleView",
            "bar_color": null,
            "description_width": ""
          }
        },
        "bc5131462a954335a4eb0fb4ceb975a2": {
          "model_module": "@jupyter-widgets/controls",
          "model_module_version": "1.5.0",
          "model_name": "FloatProgressModel",
          "state": {
            "_dom_classes": [],
            "_model_module": "@jupyter-widgets/controls",
            "_model_module_version": "1.5.0",
            "_model_name": "FloatProgressModel",
            "_view_count": null,
            "_view_module": "@jupyter-widgets/controls",
            "_view_module_version": "1.5.0",
            "_view_name": "ProgressView",
            "bar_style": "success",
            "description": "",
            "description_tooltip": null,
            "layout": "IPY_MODEL_246fdc095fbb4a03b4ff8e13caa9835a",
            "max": 10,
            "min": 0,
            "orientation": "horizontal",
            "style": "IPY_MODEL_540441898eff4e1e95a329216e4adf60",
            "value": 10
          }
        },
        "bdd254104d974cf889e4652c55acb26c": {
          "model_module": "@jupyter-widgets/controls",
          "model_module_version": "1.5.0",
          "model_name": "VBoxModel",
          "state": {
            "_dom_classes": [],
            "_model_module": "@jupyter-widgets/controls",
            "_model_module_version": "1.5.0",
            "_model_name": "VBoxModel",
            "_view_count": null,
            "_view_module": "@jupyter-widgets/controls",
            "_view_module_version": "1.5.0",
            "_view_name": "VBoxView",
            "box_style": "",
            "children": [
              "IPY_MODEL_f80b5033f8524487a84f9d7a3cddc71a",
              "IPY_MODEL_4f0676fe2fc34db3b53021d39f1a47e0"
            ],
            "layout": "IPY_MODEL_a689cd2febb1401ab9322982960df1c8"
          }
        },
        "c37731c5ea9e4ca5a8d30178a905ca7c": {
          "model_module": "@jupyter-widgets/controls",
          "model_module_version": "1.5.0",
          "model_name": "DescriptionStyleModel",
          "state": {
            "_model_module": "@jupyter-widgets/controls",
            "_model_module_version": "1.5.0",
            "_model_name": "DescriptionStyleModel",
            "_view_count": null,
            "_view_module": "@jupyter-widgets/base",
            "_view_module_version": "1.2.0",
            "_view_name": "StyleView",
            "description_width": ""
          }
        },
        "c750201c1b4b4f25a8bbcbefdb1ed51b": {
          "model_module": "@jupyter-widgets/controls",
          "model_module_version": "1.5.0",
          "model_name": "HTMLModel",
          "state": {
            "_dom_classes": [],
            "_model_module": "@jupyter-widgets/controls",
            "_model_module_version": "1.5.0",
            "_model_name": "HTMLModel",
            "_view_count": null,
            "_view_module": "@jupyter-widgets/controls",
            "_view_module_version": "1.5.0",
            "_view_name": "HTMLView",
            "description": "",
            "description_tooltip": null,
            "layout": "IPY_MODEL_ae8a96de2546458f9cc2423a6ec78e10",
            "placeholder": "​",
            "style": "IPY_MODEL_a6034b91bf3544b88ad1129a5b87ba6f",
            "value": "Epoch: 100%"
          }
        },
        "c76f638d3e2343a38f1aef1b4255d17f": {
          "model_module": "@jupyter-widgets/controls",
          "model_module_version": "1.5.0",
          "model_name": "HBoxModel",
          "state": {
            "_dom_classes": [],
            "_model_module": "@jupyter-widgets/controls",
            "_model_module_version": "1.5.0",
            "_model_name": "HBoxModel",
            "_view_count": null,
            "_view_module": "@jupyter-widgets/controls",
            "_view_module_version": "1.5.0",
            "_view_name": "HBoxView",
            "box_style": "",
            "children": [
              "IPY_MODEL_6d9cbb899af1451e85ba90a76a05f994",
              "IPY_MODEL_dba28c5c08fd4d3fa6cb515f5baa2ea4",
              "IPY_MODEL_0a5222c0c4c741e2921d939644d9124d"
            ],
            "layout": "IPY_MODEL_322a211a2a474c608a1003631bf38b3a"
          }
        },
        "c8bf11e9b40f44c7b89e7238a9c014ff": {
          "model_module": "@jupyter-widgets/controls",
          "model_module_version": "1.5.0",
          "model_name": "LabelModel",
          "state": {
            "_dom_classes": [],
            "_model_module": "@jupyter-widgets/controls",
            "_model_module_version": "1.5.0",
            "_model_name": "LabelModel",
            "_view_count": null,
            "_view_module": "@jupyter-widgets/controls",
            "_view_module_version": "1.5.0",
            "_view_name": "LabelView",
            "description": "",
            "description_tooltip": null,
            "layout": "IPY_MODEL_e7b9432cea2c412f91769397f1db5872",
            "placeholder": "​",
            "style": "IPY_MODEL_9af97897631341fa909277dabbb22fe7",
            "value": "0.012 MB of 0.012 MB uploaded\r"
          }
        },
        "ce45fcf1685c45bca3edc0d2ff2dbb3d": {
          "model_module": "@jupyter-widgets/controls",
          "model_module_version": "1.5.0",
          "model_name": "HBoxModel",
          "state": {
            "_dom_classes": [],
            "_model_module": "@jupyter-widgets/controls",
            "_model_module_version": "1.5.0",
            "_model_name": "HBoxModel",
            "_view_count": null,
            "_view_module": "@jupyter-widgets/controls",
            "_view_module_version": "1.5.0",
            "_view_name": "HBoxView",
            "box_style": "",
            "children": [
              "IPY_MODEL_e38df60159ce49718b878766e6d8a694",
              "IPY_MODEL_a833116123d84c2ea424a1df1f32e293",
              "IPY_MODEL_9ff45d9e8f774787991f4ec641c6231f"
            ],
            "layout": "IPY_MODEL_2ad6fb61479248f6b5ce04bfd424a5f5"
          }
        },
        "cf1836d9ef9f4dd8a1f9eb613a550b7d": {
          "model_module": "@jupyter-widgets/controls",
          "model_module_version": "1.5.0",
          "model_name": "DescriptionStyleModel",
          "state": {
            "_model_module": "@jupyter-widgets/controls",
            "_model_module_version": "1.5.0",
            "_model_name": "DescriptionStyleModel",
            "_view_count": null,
            "_view_module": "@jupyter-widgets/base",
            "_view_module_version": "1.2.0",
            "_view_name": "StyleView",
            "description_width": ""
          }
        },
        "d5b17c2eba734878a7b05fc08dd0b76a": {
          "model_module": "@jupyter-widgets/controls",
          "model_module_version": "1.5.0",
          "model_name": "DescriptionStyleModel",
          "state": {
            "_model_module": "@jupyter-widgets/controls",
            "_model_module_version": "1.5.0",
            "_model_name": "DescriptionStyleModel",
            "_view_count": null,
            "_view_module": "@jupyter-widgets/base",
            "_view_module_version": "1.2.0",
            "_view_name": "StyleView",
            "description_width": ""
          }
        },
        "dba28c5c08fd4d3fa6cb515f5baa2ea4": {
          "model_module": "@jupyter-widgets/controls",
          "model_module_version": "1.5.0",
          "model_name": "FloatProgressModel",
          "state": {
            "_dom_classes": [],
            "_model_module": "@jupyter-widgets/controls",
            "_model_module_version": "1.5.0",
            "_model_name": "FloatProgressModel",
            "_view_count": null,
            "_view_module": "@jupyter-widgets/controls",
            "_view_module_version": "1.5.0",
            "_view_name": "ProgressView",
            "bar_style": "",
            "description": "",
            "description_tooltip": null,
            "layout": "IPY_MODEL_f358fba955e74c4d8ee67f315772b7d4",
            "max": 10,
            "min": 0,
            "orientation": "horizontal",
            "style": "IPY_MODEL_85ca2dfd608043a8914e7cf2489a7334",
            "value": 3
          }
        },
        "e38df60159ce49718b878766e6d8a694": {
          "model_module": "@jupyter-widgets/controls",
          "model_module_version": "1.5.0",
          "model_name": "HTMLModel",
          "state": {
            "_dom_classes": [],
            "_model_module": "@jupyter-widgets/controls",
            "_model_module_version": "1.5.0",
            "_model_name": "HTMLModel",
            "_view_count": null,
            "_view_module": "@jupyter-widgets/controls",
            "_view_module_version": "1.5.0",
            "_view_name": "HTMLView",
            "description": "",
            "description_tooltip": null,
            "layout": "IPY_MODEL_02d30cd8c7eb4eabb93cf391b2843bb8",
            "placeholder": "​",
            "style": "IPY_MODEL_c37731c5ea9e4ca5a8d30178a905ca7c",
            "value": "Epoch: 100%"
          }
        },
        "e53422f035fb4684834665517b045d7e": {
          "model_module": "@jupyter-widgets/base",
          "model_module_version": "1.2.0",
          "model_name": "LayoutModel",
          "state": {
            "_model_module": "@jupyter-widgets/base",
            "_model_module_version": "1.2.0",
            "_model_name": "LayoutModel",
            "_view_count": null,
            "_view_module": "@jupyter-widgets/base",
            "_view_module_version": "1.2.0",
            "_view_name": "LayoutView",
            "align_content": null,
            "align_items": null,
            "align_self": null,
            "border": null,
            "bottom": null,
            "display": null,
            "flex": null,
            "flex_flow": null,
            "grid_area": null,
            "grid_auto_columns": null,
            "grid_auto_flow": null,
            "grid_auto_rows": null,
            "grid_column": null,
            "grid_gap": null,
            "grid_row": null,
            "grid_template_areas": null,
            "grid_template_columns": null,
            "grid_template_rows": null,
            "height": null,
            "justify_content": null,
            "justify_items": null,
            "left": null,
            "margin": null,
            "max_height": null,
            "max_width": null,
            "min_height": null,
            "min_width": null,
            "object_fit": null,
            "object_position": null,
            "order": null,
            "overflow": null,
            "overflow_x": null,
            "overflow_y": null,
            "padding": null,
            "right": null,
            "top": null,
            "visibility": null,
            "width": null
          }
        },
        "e58d0975fdc44aaf8e525ecb498a2a1a": {
          "model_module": "@jupyter-widgets/controls",
          "model_module_version": "1.5.0",
          "model_name": "DescriptionStyleModel",
          "state": {
            "_model_module": "@jupyter-widgets/controls",
            "_model_module_version": "1.5.0",
            "_model_name": "DescriptionStyleModel",
            "_view_count": null,
            "_view_module": "@jupyter-widgets/base",
            "_view_module_version": "1.2.0",
            "_view_name": "StyleView",
            "description_width": ""
          }
        },
        "e7b9432cea2c412f91769397f1db5872": {
          "model_module": "@jupyter-widgets/base",
          "model_module_version": "1.2.0",
          "model_name": "LayoutModel",
          "state": {
            "_model_module": "@jupyter-widgets/base",
            "_model_module_version": "1.2.0",
            "_model_name": "LayoutModel",
            "_view_count": null,
            "_view_module": "@jupyter-widgets/base",
            "_view_module_version": "1.2.0",
            "_view_name": "LayoutView",
            "align_content": null,
            "align_items": null,
            "align_self": null,
            "border": null,
            "bottom": null,
            "display": null,
            "flex": null,
            "flex_flow": null,
            "grid_area": null,
            "grid_auto_columns": null,
            "grid_auto_flow": null,
            "grid_auto_rows": null,
            "grid_column": null,
            "grid_gap": null,
            "grid_row": null,
            "grid_template_areas": null,
            "grid_template_columns": null,
            "grid_template_rows": null,
            "height": null,
            "justify_content": null,
            "justify_items": null,
            "left": null,
            "margin": null,
            "max_height": null,
            "max_width": null,
            "min_height": null,
            "min_width": null,
            "object_fit": null,
            "object_position": null,
            "order": null,
            "overflow": null,
            "overflow_x": null,
            "overflow_y": null,
            "padding": null,
            "right": null,
            "top": null,
            "visibility": null,
            "width": null
          }
        },
        "e7cb819ba2ea47ab895346f97fb61019": {
          "model_module": "@jupyter-widgets/controls",
          "model_module_version": "1.5.0",
          "model_name": "HTMLModel",
          "state": {
            "_dom_classes": [],
            "_model_module": "@jupyter-widgets/controls",
            "_model_module_version": "1.5.0",
            "_model_name": "HTMLModel",
            "_view_count": null,
            "_view_module": "@jupyter-widgets/controls",
            "_view_module_version": "1.5.0",
            "_view_name": "HTMLView",
            "description": "",
            "description_tooltip": null,
            "layout": "IPY_MODEL_37e0a60dd1144fb69fe1bf2899b01d49",
            "placeholder": "​",
            "style": "IPY_MODEL_e58d0975fdc44aaf8e525ecb498a2a1a",
            "value": "Epoch: 100%"
          }
        },
        "ee92ee15fe4d4da5a3716551a7d2a2fa": {
          "model_module": "@jupyter-widgets/base",
          "model_module_version": "1.2.0",
          "model_name": "LayoutModel",
          "state": {
            "_model_module": "@jupyter-widgets/base",
            "_model_module_version": "1.2.0",
            "_model_name": "LayoutModel",
            "_view_count": null,
            "_view_module": "@jupyter-widgets/base",
            "_view_module_version": "1.2.0",
            "_view_name": "LayoutView",
            "align_content": null,
            "align_items": null,
            "align_self": null,
            "border": null,
            "bottom": null,
            "display": null,
            "flex": null,
            "flex_flow": null,
            "grid_area": null,
            "grid_auto_columns": null,
            "grid_auto_flow": null,
            "grid_auto_rows": null,
            "grid_column": null,
            "grid_gap": null,
            "grid_row": null,
            "grid_template_areas": null,
            "grid_template_columns": null,
            "grid_template_rows": null,
            "height": null,
            "justify_content": null,
            "justify_items": null,
            "left": null,
            "margin": null,
            "max_height": null,
            "max_width": null,
            "min_height": null,
            "min_width": null,
            "object_fit": null,
            "object_position": null,
            "order": null,
            "overflow": null,
            "overflow_x": null,
            "overflow_y": null,
            "padding": null,
            "right": null,
            "top": null,
            "visibility": null,
            "width": null
          }
        },
        "f0d90e850acb47ad82ef290718f6b8ff": {
          "model_module": "@jupyter-widgets/base",
          "model_module_version": "1.2.0",
          "model_name": "LayoutModel",
          "state": {
            "_model_module": "@jupyter-widgets/base",
            "_model_module_version": "1.2.0",
            "_model_name": "LayoutModel",
            "_view_count": null,
            "_view_module": "@jupyter-widgets/base",
            "_view_module_version": "1.2.0",
            "_view_name": "LayoutView",
            "align_content": null,
            "align_items": null,
            "align_self": null,
            "border": null,
            "bottom": null,
            "display": null,
            "flex": null,
            "flex_flow": null,
            "grid_area": null,
            "grid_auto_columns": null,
            "grid_auto_flow": null,
            "grid_auto_rows": null,
            "grid_column": null,
            "grid_gap": null,
            "grid_row": null,
            "grid_template_areas": null,
            "grid_template_columns": null,
            "grid_template_rows": null,
            "height": null,
            "justify_content": null,
            "justify_items": null,
            "left": null,
            "margin": null,
            "max_height": null,
            "max_width": null,
            "min_height": null,
            "min_width": null,
            "object_fit": null,
            "object_position": null,
            "order": null,
            "overflow": null,
            "overflow_x": null,
            "overflow_y": null,
            "padding": null,
            "right": null,
            "top": null,
            "visibility": null,
            "width": null
          }
        },
        "f184bc32cfd44051ab62587b67357c93": {
          "model_module": "@jupyter-widgets/controls",
          "model_module_version": "1.5.0",
          "model_name": "HTMLModel",
          "state": {
            "_dom_classes": [],
            "_model_module": "@jupyter-widgets/controls",
            "_model_module_version": "1.5.0",
            "_model_name": "HTMLModel",
            "_view_count": null,
            "_view_module": "@jupyter-widgets/controls",
            "_view_module_version": "1.5.0",
            "_view_name": "HTMLView",
            "description": "",
            "description_tooltip": null,
            "layout": "IPY_MODEL_7272053c618f4447afc7815103e1b31c",
            "placeholder": "​",
            "style": "IPY_MODEL_f5677add570846d1a8cf91995187e18c",
            "value": " 30/30 [11:16&lt;00:00, 22.66s/it]"
          }
        },
        "f358fba955e74c4d8ee67f315772b7d4": {
          "model_module": "@jupyter-widgets/base",
          "model_module_version": "1.2.0",
          "model_name": "LayoutModel",
          "state": {
            "_model_module": "@jupyter-widgets/base",
            "_model_module_version": "1.2.0",
            "_model_name": "LayoutModel",
            "_view_count": null,
            "_view_module": "@jupyter-widgets/base",
            "_view_module_version": "1.2.0",
            "_view_name": "LayoutView",
            "align_content": null,
            "align_items": null,
            "align_self": null,
            "border": null,
            "bottom": null,
            "display": null,
            "flex": null,
            "flex_flow": null,
            "grid_area": null,
            "grid_auto_columns": null,
            "grid_auto_flow": null,
            "grid_auto_rows": null,
            "grid_column": null,
            "grid_gap": null,
            "grid_row": null,
            "grid_template_areas": null,
            "grid_template_columns": null,
            "grid_template_rows": null,
            "height": null,
            "justify_content": null,
            "justify_items": null,
            "left": null,
            "margin": null,
            "max_height": null,
            "max_width": null,
            "min_height": null,
            "min_width": null,
            "object_fit": null,
            "object_position": null,
            "order": null,
            "overflow": null,
            "overflow_x": null,
            "overflow_y": null,
            "padding": null,
            "right": null,
            "top": null,
            "visibility": null,
            "width": null
          }
        },
        "f5677add570846d1a8cf91995187e18c": {
          "model_module": "@jupyter-widgets/controls",
          "model_module_version": "1.5.0",
          "model_name": "DescriptionStyleModel",
          "state": {
            "_model_module": "@jupyter-widgets/controls",
            "_model_module_version": "1.5.0",
            "_model_name": "DescriptionStyleModel",
            "_view_count": null,
            "_view_module": "@jupyter-widgets/base",
            "_view_module_version": "1.2.0",
            "_view_name": "StyleView",
            "description_width": ""
          }
        },
        "f80b5033f8524487a84f9d7a3cddc71a": {
          "model_module": "@jupyter-widgets/controls",
          "model_module_version": "1.5.0",
          "model_name": "LabelModel",
          "state": {
            "_dom_classes": [],
            "_model_module": "@jupyter-widgets/controls",
            "_model_module_version": "1.5.0",
            "_model_name": "LabelModel",
            "_view_count": null,
            "_view_module": "@jupyter-widgets/controls",
            "_view_module_version": "1.5.0",
            "_view_name": "LabelView",
            "description": "",
            "description_tooltip": null,
            "layout": "IPY_MODEL_9b48379fa430466b9a0873d483d2f72c",
            "placeholder": "​",
            "style": "IPY_MODEL_1b4dc5a9f7534e0e88ec3e7e491629fa",
            "value": "0.012 MB of 0.012 MB uploaded\r"
          }
        },
        "fb59eabc68d547d28eff4ed59760542a": {
          "model_module": "@jupyter-widgets/base",
          "model_module_version": "1.2.0",
          "model_name": "LayoutModel",
          "state": {
            "_model_module": "@jupyter-widgets/base",
            "_model_module_version": "1.2.0",
            "_model_name": "LayoutModel",
            "_view_count": null,
            "_view_module": "@jupyter-widgets/base",
            "_view_module_version": "1.2.0",
            "_view_name": "LayoutView",
            "align_content": null,
            "align_items": null,
            "align_self": null,
            "border": null,
            "bottom": null,
            "display": null,
            "flex": null,
            "flex_flow": null,
            "grid_area": null,
            "grid_auto_columns": null,
            "grid_auto_flow": null,
            "grid_auto_rows": null,
            "grid_column": null,
            "grid_gap": null,
            "grid_row": null,
            "grid_template_areas": null,
            "grid_template_columns": null,
            "grid_template_rows": null,
            "height": null,
            "justify_content": null,
            "justify_items": null,
            "left": null,
            "margin": null,
            "max_height": null,
            "max_width": null,
            "min_height": null,
            "min_width": null,
            "object_fit": null,
            "object_position": null,
            "order": null,
            "overflow": null,
            "overflow_x": null,
            "overflow_y": null,
            "padding": null,
            "right": null,
            "top": null,
            "visibility": null,
            "width": null
          }
        }
      }
    }
  },
  "nbformat": 4,
  "nbformat_minor": 0
}
