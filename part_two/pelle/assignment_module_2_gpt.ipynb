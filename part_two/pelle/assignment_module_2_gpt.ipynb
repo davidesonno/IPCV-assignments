{
  "cells": [
    {
      "cell_type": "markdown",
      "metadata": {
        "id": "MNBgGYg_lpVN"
      },
      "source": [
        "## Assignment Module 2: Product Classification\n",
        "\n",
        "The goal of this assignment is to implement a neural network that classifies smartphone pictures of products found in grocery stores. The assignment will be divided into two parts: first, you will be asked to implement from scratch your own neural network for image classification; then, you will fine-tune a pretrained network provided by PyTorch.\n"
      ]
    },
    {
      "cell_type": "markdown",
      "metadata": {
        "id": "dVTQUJ4uYH1w"
      },
      "source": [
        "### Preliminaries: the dataset\n",
        "\n",
        "The dataset you will be using contains natural images of products taken with a smartphone camera in different grocery stores:\n",
        "\n",
        "<p align=\"center\">\n",
        "  <img src=\"https://github.com/marcusklasson/GroceryStoreDataset/raw/master/sample_images/natural/Granny-Smith.jpg\" width=\"150\">\n",
        "  <img src=\"https://github.com/marcusklasson/GroceryStoreDataset/raw/master/sample_images/natural/Pink-Lady.jpg\" width=\"150\">\n",
        "  <img src=\"https://github.com/marcusklasson/GroceryStoreDataset/raw/master/sample_images/natural/Lemon.jpg\" width=\"150\">\n",
        "  <img src=\"https://github.com/marcusklasson/GroceryStoreDataset/raw/master/sample_images/natural/Banana.jpg\" width=\"150\">\n",
        "  <img src=\"https://github.com/marcusklasson/GroceryStoreDataset/raw/master/sample_images/natural/Vine-Tomato.jpg\" width=\"150\">\n",
        "</p>\n",
        "<p align=\"center\">\n",
        "  <img src=\"https://github.com/marcusklasson/GroceryStoreDataset/raw/master/sample_images/natural/Yellow-Onion.jpg\" width=\"150\">\n",
        "  <img src=\"https://github.com/marcusklasson/GroceryStoreDataset/raw/master/sample_images/natural/Green-Bell-Pepper.jpg\" width=\"150\">\n",
        "  <img src=\"https://github.com/marcusklasson/GroceryStoreDataset/raw/master/sample_images/natural/Arla-Standard-Milk.jpg\" width=\"150\">\n",
        "  <img src=\"https://github.com/marcusklasson/GroceryStoreDataset/raw/master/sample_images/natural/Oatly-Natural-Oatghurt.jpg\" width=\"150\">\n",
        "  <img src=\"https://github.com/marcusklasson/GroceryStoreDataset/raw/master/sample_images/natural/Alpro-Fresh-Soy-Milk.jpg\" width=\"150\">\n",
        "</p>\n",
        "\n",
        "The products belong to the following 43 classes:\n",
        "```\n",
        "0.  Apple\n",
        "1.  Avocado\n",
        "2.  Banana\n",
        "3.  Kiwi\n",
        "4.  Lemon\n",
        "5.  Lime\n",
        "6.  Mango\n",
        "7.  Melon\n",
        "8.  Nectarine\n",
        "9.  Orange\n",
        "10. Papaya\n",
        "11. Passion-Fruit\n",
        "12. Peach\n",
        "13. Pear\n",
        "14. Pineapple\n",
        "15. Plum\n",
        "16. Pomegranate\n",
        "17. Red-Grapefruit\n",
        "18. Satsumas\n",
        "19. Juice\n",
        "20. Milk\n",
        "21. Oatghurt\n",
        "22. Oat-Milk\n",
        "23. Sour-Cream\n",
        "24. Sour-Milk\n",
        "25. Soyghurt\n",
        "26. Soy-Milk\n",
        "27. Yoghurt\n",
        "28. Asparagus\n",
        "29. Aubergine\n",
        "30. Cabbage\n",
        "31. Carrots\n",
        "32. Cucumber\n",
        "33. Garlic\n",
        "34. Ginger\n",
        "35. Leek\n",
        "36. Mushroom\n",
        "37. Onion\n",
        "38. Pepper\n",
        "39. Potato\n",
        "40. Red-Beet\n",
        "41. Tomato\n",
        "42. Zucchini\n",
        "```\n",
        "\n",
        "The dataset is split into training (`train`), validation (`val`), and test (`test`) set."
      ]
    },
    {
      "cell_type": "markdown",
      "metadata": {
        "id": "1pdrmJRnJPd8"
      },
      "source": [
        "The following code cells download the dataset and define a `torch.utils.data.Dataset` class to access it. This `Dataset` class will be the starting point of your assignment: use it in your own code and build everything else around it."
      ]
    },
    {
      "cell_type": "code",
      "execution_count": 1,
      "metadata": {
        "colab": {
          "base_uri": "https://localhost:8080/"
        },
        "id": "POMX_3x-_bZI",
        "outputId": "d6ee77cb-b2dd-488d-e5b5-f0677d0b25ed"
      },
      "outputs": [],
      "source": [
        "try:\n",
        "    import google.colab\n",
        "    !git clone https://github.com/marcusklasson/GroceryStoreDataset.git\n",
        "except: pass"
      ]
    },
    {
      "cell_type": "code",
      "execution_count": 2,
      "metadata": {
        "id": "hiF8xGEYlsu8"
      },
      "outputs": [],
      "source": [
        "from pathlib import Path\n",
        "from PIL import Image\n",
        "from torch import Tensor\n",
        "from torch.utils.data import Dataset\n",
        "from typing import List, Tuple"
      ]
    },
    {
      "cell_type": "code",
      "execution_count": 3,
      "metadata": {
        "id": "jROSO2qVDxdD"
      },
      "outputs": [],
      "source": [
        "class GroceryStoreDataset(Dataset):\n",
        "\n",
        "    def __init__(self, split: str, transform=None) -> None:\n",
        "        super().__init__()\n",
        "\n",
        "        self.root = Path(\"GroceryStoreDataset/dataset\")\n",
        "        self.split = split\n",
        "        self.paths, self.labels = self.read_file()\n",
        "\n",
        "        self.transform = transform\n",
        "\n",
        "    def __len__(self) -> int:\n",
        "        return len(self.labels)\n",
        "\n",
        "    def __getitem__(self, idx) -> Tuple[Tensor, int]:\n",
        "        img = Image.open(self.root / self.paths[idx])\n",
        "        label = self.labels[idx]\n",
        "\n",
        "        if self.transform:\n",
        "            img = self.transform(img)\n",
        "\n",
        "        return img, label\n",
        "\n",
        "    def read_file(self) -> Tuple[List[str], List[int]]:\n",
        "        paths = []\n",
        "        labels = []\n",
        "\n",
        "        with open(self.root / f\"{self.split}.txt\") as f:\n",
        "            for line in f:\n",
        "                # path, fine-grained class, coarse-grained class\n",
        "                path, _, label = line.replace(\"\\n\", \"\").split(\", \")\n",
        "                paths.append(path), labels.append(int(label))\n",
        "\n",
        "        return paths, labels\n",
        "\n",
        "    def get_num_classes(self) -> int:\n",
        "        return max(self.labels) + 1"
      ]
    },
    {
      "cell_type": "markdown",
      "metadata": {
        "id": "yBch3dpwNSsW"
      },
      "source": [
        "## Part 1: design your own network\n",
        "\n",
        "Your goal is to implement a convolutional neural network for image classification and train it on `GroceryStoreDataset`. You should consider yourselves satisfied once you obtain a classification accuracy on the **validation** split of **around 60%**. You are free to achieve that however you want, except for a few rules you must follow:\n",
        "\n",
        "- You **cannot** simply instantiate an off-the-self PyTorch network. Instead, you must construct your network as a composition of existing PyTorch layers. In more concrete terms, you can use e.g. `torch.nn.Linear`, but you **cannot** use e.g. `torchvision.models.alexnet`.\n",
        "\n",
        "- Justify every *design choice* you make. Design choices include network architecture, training hyperparameters, and, possibly, dataset preprocessing steps. You can either (i) start from the simplest convolutional network you can think of and add complexity one step at a time, while showing how each step gets you closer to the target ~60%, or (ii) start from a model that is already able to achieve the desired accuracy and show how, by removing some of its components, its performance drops (i.e. an *ablation study*). You can *show* your results/improvements however you want: training plots, console-printed values or tables, or whatever else your heart desires: the clearer, the better.\n",
        "\n",
        "Don't be too concerned with your network performance: the ~60% is just to give you an idea of when to stop. Keep in mind that a thoroughly justified model with lower accuracy will be rewarded **more** points than a poorly experimentally validated model with higher accuracy."
      ]
    },
    {
      "cell_type": "code",
      "execution_count": 4,
      "metadata": {
        "colab": {
          "base_uri": "https://localhost:8080/"
        },
        "id": "F5VsEPrKH8qH",
        "outputId": "e0e3dddb-6d22-411a-d7de-9b0bfed0fd5a"
      },
      "outputs": [
        {
          "name": "stdout",
          "output_type": "stream",
          "text": [
            "Requirement already satisfied: torchsummary in c:\\users\\davide\\appdata\\local\\programs\\python\\python310\\lib\\site-packages (1.5.1)\n"
          ]
        }
      ],
      "source": [
        "# ! python3 -m pip install --upgrade pip\n",
        "! pip install -q wandb\n",
        "! pip install -q torchmetrics\n",
        "! pip install torchsummary"
      ]
    },
    {
      "cell_type": "markdown",
      "metadata": {
        "id": "F6dJm-3pH8qJ"
      },
      "source": [
        "### Weights and Biases for following the net"
      ]
    },
    {
      "cell_type": "code",
      "execution_count": 5,
      "metadata": {
        "id": "2zmkulI0H8qJ"
      },
      "outputs": [],
      "source": [
        "import wandb\n",
        "\n",
        "WANDB_USER = \"davidecrociati\"\n",
        "WANDB_PROJECT = \"assignments part two\""
      ]
    },
    {
      "cell_type": "markdown",
      "metadata": {
        "id": "IEaLcecbH8qK"
      },
      "source": [
        "### Imports"
      ]
    },
    {
      "cell_type": "code",
      "execution_count": 6,
      "metadata": {
        "id": "QmeBcj2MH8qK"
      },
      "outputs": [],
      "source": [
        "# Standard library imports\n",
        "import csv\n",
        "import copy\n",
        "import random\n",
        "from pathlib import Path\n",
        "from typing import Any, Dict\n",
        "import os\n",
        "import json\n",
        "from datetime import datetime\n",
        "import time\n",
        "\n",
        "# Third-party library imports\n",
        "import numpy as np\n",
        "import matplotlib.pyplot as plt\n",
        "from PIL import Image\n",
        "from tqdm import tqdm\n",
        "from tqdm.notebook import tqdm\n",
        "\n",
        "# PyTorch imports\n",
        "import torch\n",
        "import torch.nn as nn\n",
        "import torch.nn.functional as F\n",
        "from torch.optim import AdamW\n",
        "from torch.optim.lr_scheduler import OneCycleLR, LambdaLR\n",
        "from torch.utils.data import DataLoader\n",
        "import torch.utils\n",
        "from torchmetrics.classification.accuracy import Accuracy\n",
        "from torchsummary import summary\n",
        "\n",
        "# Torchvision imports\n",
        "from torchvision import transforms as T\n",
        "from torchvision.models import resnet18, ResNet18_Weights"
      ]
    },
    {
      "cell_type": "markdown",
      "metadata": {
        "id": "32kWjbqzH8qM"
      },
      "source": [
        "### Functions"
      ]
    },
    {
      "cell_type": "code",
      "execution_count": 7,
      "metadata": {
        "id": "sjbmdhzOH8qN"
      },
      "outputs": [],
      "source": [
        "def fix_random(seed: int) -> None:\n",
        "    \"\"\"Fix all the possible sources of randomness.\n",
        "\n",
        "    Args:\n",
        "        seed: the seed to use.\n",
        "    \"\"\"\n",
        "    np.random.seed(seed)\n",
        "    random.seed(seed)\n",
        "    torch.manual_seed(seed)\n",
        "    torch.cuda.manual_seed(seed)\n",
        "\n",
        "    torch.backends.cudnn.benchmark = False\n",
        "    torch.backends.cudnn.deterministic = True\n",
        "\n",
        "def extract_classes(csv_file_path: str) -> dict:\n",
        "    \"\"\"\n",
        "    Extract unique pairs of IDs and labels from a CSV file.\n",
        "\n",
        "    This function reads a CSV file, extracts the third and fourth columns,\n",
        "    and creates a dictionary with unique pairs of IDs (from the fourth column)\n",
        "    and labels (from the third column).\n",
        "\n",
        "    Parameters:\n",
        "    csv_file_path (str): The path to the CSV file.\n",
        "\n",
        "    Returns:\n",
        "    dict: A dictionary with IDs as keys and labels as values.\n",
        "    \"\"\"\n",
        "\n",
        "    # Dictionary to store the unique pairs\n",
        "    classes = {}\n",
        "\n",
        "    # Read the CSV file\n",
        "    with open(csv_file_path, mode='r', newline='', encoding='utf-8') as file:\n",
        "        csv_reader = csv.reader(file)\n",
        "\n",
        "        # Skip the CSV header\n",
        "        next(csv_reader)\n",
        "\n",
        "        for row in csv_reader:\n",
        "            label = row[2]       # Third column\n",
        "            id = int(row[3])     # Fourth column\n",
        "\n",
        "            # Add the pair to the dictionary if it doesn't already exist\n",
        "            if id not in classes:\n",
        "                classes[id] = label\n",
        "\n",
        "    return classes\n",
        "\n",
        "def show_grid(dataset: GroceryStoreDataset, classes: dict) -> None:\n",
        "    \"\"\"Shows a grid with random images taken from the dataset.\n",
        "\n",
        "    Args:\n",
        "        dataset: the dataset containing the images.\n",
        "        process: a function to apply on the images before showing them.\n",
        "    \"\"\"\n",
        "    fig = plt.figure(figsize=(15, 5))\n",
        "    indices_random = np.random.randint(10, size=10, high=len(classes.keys()))\n",
        "\n",
        "    for count, idx in enumerate(indices_random):\n",
        "        fig.add_subplot(2, 5, count + 1)\n",
        "        item = dataset.__getitem__(idx) # (Tensor, idx)\n",
        "        title = classes[item[1]]\n",
        "        plt.title(title)\n",
        "        image_processed = item[0]\n",
        "        plt.imshow(T.ToPILImage()(image_processed))\n",
        "        plt.axis(\"off\")\n",
        "\n",
        "    plt.tight_layout()\n",
        "    plt.show()\n",
        "\n",
        "def parse_compose(v):\n",
        "  res = []\n",
        "  for t in str(v).split(\"\\n\")[1:]:\n",
        "    res.append(t.strip(\"    \"))\n",
        "  return res[:-1]"
      ]
    },
    {
      "cell_type": "markdown",
      "metadata": {
        "id": "2F1cwsSnH8qO"
      },
      "source": [
        "### Configuration"
      ]
    },
    {
      "cell_type": "code",
      "execution_count": 8,
      "metadata": {
        "colab": {
          "base_uri": "https://localhost:8080/"
        },
        "id": "V5mITuuvH8qP",
        "outputId": "259012bd-e69e-4ea7-c539-01efa313323e"
      },
      "outputs": [
        {
          "name": "stdout",
          "output_type": "stream",
          "text": [
            "All good, a GPU is available\n"
          ]
        }
      ],
      "source": [
        "fix_random(seed=42)\n",
        "\n",
        "device = \"cpu\"\n",
        "if torch.cuda.is_available():\n",
        "  print(\"All good, a GPU is available\")\n",
        "  device = torch.device(\"cuda:0\")\n",
        "else:\n",
        "  print(\"Please set GPU via Edit -> Notebook Settings\")\n",
        "\n",
        "cfg = {\n",
        "    \"resize_size\": 256,\n",
        "    \"crop_size\": 224,\n",
        "    \"batch_size\": 32,\n",
        "    \"num_epochs\": 15,\n",
        "    \"lr\": 1e-3,\n",
        "    \"wd\": 5e-4,\n",
        "    \"step_size\": 5\n",
        "}"
      ]
    },
    {
      "cell_type": "markdown",
      "metadata": {
        "id": "a1e0PtlZH8qQ"
      },
      "source": [
        "### Data"
      ]
    },
    {
      "cell_type": "markdown",
      "metadata": {},
      "source": [
        "#### Dataset"
      ]
    },
    {
      "cell_type": "code",
      "execution_count": 9,
      "metadata": {},
      "outputs": [],
      "source": [
        "# In  order to convert integer classes into their literal\n",
        "classes = extract_classes(csv_file_path = 'GroceryStoreDataset/dataset/classes.csv')\n",
        "\n",
        "cfg[\"augment\"] = True   # True/False\n",
        "data_transforms = {\n",
        "    \"train\": T.Compose([\n",
        "                        T.Resize((cfg[\"crop_size\"],cfg[\"crop_size\"])),\n",
        "                        T.ToTensor()\n",
        "                    ]),\n",
        "\n",
        "    \"val\": T.Compose([\n",
        "                        T.Resize((cfg[\"crop_size\"],cfg[\"crop_size\"])),\n",
        "                        T.ToTensor()\n",
        "                    ]),\n",
        "\n",
        "    \"test\": T.Compose([\n",
        "                        T.Resize((cfg[\"crop_size\"],cfg[\"crop_size\"])),\n",
        "                        T.ToTensor()\n",
        "                    ])\n",
        "}\n",
        "\n",
        "# Datasets\n",
        "data_train = GroceryStoreDataset(split=\"train\", transform=data_transforms[\"train\"] if cfg[\"augment\"] else None)\n",
        "data_val = GroceryStoreDataset(split=\"val\", transform=data_transforms[\"val\"])\n",
        "data_test = GroceryStoreDataset(split=\"test\", transform=data_transforms[\"test\"])"
      ]
    },
    {
      "cell_type": "markdown",
      "metadata": {},
      "source": [
        "#### Augmented dataset"
      ]
    },
    {
      "cell_type": "code",
      "execution_count": 10,
      "metadata": {},
      "outputs": [],
      "source": [
        "cfg[\"augment\"] = True   # True/False\n",
        "data_transforms = {\n",
        "    \"train\": T.Compose([\n",
        "                        T.RandomResizedCrop(cfg[\"crop_size\"]),\n",
        "                        T.RandomHorizontalFlip(),\n",
        "                        T.RandomVerticalFlip(),\n",
        "                        T.RandomRotation(180),                              # rotation in all directions\n",
        "                        T.RandomAffine(degrees=0, translate=(0.1, 0.1)),    # translations of 10%\n",
        "                        T.RandomPerspective(distortion_scale=0.1, p=0.5),\n",
        "                        T.ToTensor(),\n",
        "                    ]),\n",
        "\n",
        "    \"val\": T.Compose([\n",
        "                        T.Resize(cfg[\"resize_size\"]),\n",
        "                        T.CenterCrop(cfg[\"crop_size\"]),\n",
        "                        T.ToTensor(),\n",
        "                    ]),\n",
        "\n",
        "    \"test\": T.Compose([\n",
        "                        T.Resize(cfg[\"resize_size\"]),\n",
        "                        T.ToTensor()\n",
        "                    ])\n",
        "}\n",
        "\n",
        "# Datasets\n",
        "data_train_augm = GroceryStoreDataset(split=\"train\", transform=data_transforms[\"train\"] if cfg[\"augment\"] else None)\n",
        "data_val_augm = GroceryStoreDataset(split=\"val\", transform=data_transforms[\"val\"])\n",
        "data_test_augm = GroceryStoreDataset(split=\"test\", transform=data_transforms[\"test\"])"
      ]
    },
    {
      "cell_type": "markdown",
      "metadata": {},
      "source": [
        "### Trainer"
      ]
    },
    {
      "cell_type": "code",
      "execution_count": 11,
      "metadata": {},
      "outputs": [],
      "source": [
        "# For automating batching\n",
        "\n",
        "loader_train = DataLoader(\n",
        "    data_train,\n",
        "    batch_size=cfg[\"batch_size\"],\n",
        "    shuffle=True,\n",
        "    pin_memory=True\n",
        ")\n",
        "loader_val = DataLoader(\n",
        "    data_val,\n",
        "    batch_size=cfg[\"batch_size\"],\n",
        "    shuffle=False\n",
        ")\n",
        "loader_test = DataLoader(\n",
        "    data_test,\n",
        "    batch_size=cfg[\"batch_size\"],\n",
        "    shuffle=False\n",
        ")\n",
        "\n",
        "loader_train_augm = DataLoader(\n",
        "    data_train_augm,\n",
        "    batch_size=cfg[\"batch_size\"],\n",
        "    shuffle=True,\n",
        "    pin_memory=True\n",
        ")\n",
        "loader_val_augm = DataLoader(\n",
        "    data_val_augm,\n",
        "    batch_size=cfg[\"batch_size\"],\n",
        "    shuffle=False\n",
        ")\n",
        "loader_test_augm = DataLoader(\n",
        "    data_test_augm,\n",
        "    batch_size=cfg[\"batch_size\"],\n",
        "    shuffle=False\n",
        ")"
      ]
    },
    {
      "cell_type": "code",
      "execution_count": 12,
      "metadata": {},
      "outputs": [],
      "source": [
        "class Trainer:\n",
        "    def __init__(self,\n",
        "            model: nn.Module,\n",
        "            train_loader: DataLoader,\n",
        "            val_loader: DataLoader,\n",
        "            test_loader: DataLoader,\n",
        "            device: torch.device,\n",
        "            num_classes: int\n",
        "        ) -> None:\n",
        "        self.train_loader = train_loader\n",
        "        self.val_loader = val_loader\n",
        "        self.test_loader = test_loader\n",
        "        self.device = device\n",
        "        self.num_classes = num_classes\n",
        "        self.num_epochs = cfg[\"num_epochs\"]\n",
        "\n",
        "        self.model = model.to(device)\n",
        "        self.optimizer = AdamW(self.model.parameters(), lr=cfg[\"lr\"], weight_decay=cfg[\"wd\"])\n",
        "        num_steps = self.num_epochs * len(train_loader)\n",
        "        if cfg[\"scheduled\"]:\n",
        "            self.scheduler = OneCycleLR(self.optimizer, cfg[\"lr\"], total_steps=num_steps)\n",
        "        else:\n",
        "            self.scheduler = LambdaLR(self.optimizer, lr_lambda=lambda epoch: 1.0)\n",
        "\n",
        "        self.step = 0\n",
        "        self.best_acc = 0.0\n",
        "\n",
        "        wandb.init(name=cfg[\"run_name\"], entity=WANDB_USER, project=WANDB_PROJECT, config=cfg)\n",
        "        self.ckpt_path = Path(\"ckpts\")\n",
        "        self.ckpt_path.mkdir(exist_ok=True)\n",
        "\n",
        "    def logfn(self, values: Dict[str, Any]) -> None:\n",
        "        wandb.log(values, step=self.step, commit=False)\n",
        "\n",
        "    def train(self) -> None:\n",
        "        self.training_time = time.time()\n",
        "        for _ in tqdm(range(self.num_epochs), desc=\"Epoch\"):\n",
        "            self.model.train()\n",
        "\n",
        "            for imgs, labels in self.train_loader:\n",
        "                imgs = imgs.to(self.device)\n",
        "                labels = labels.to(self.device)\n",
        "\n",
        "                pred = self.model(imgs)\n",
        "                # print(pred.shape, labels.shape)\n",
        "                loss = F.cross_entropy(pred, labels)\n",
        "\n",
        "                self.optimizer.zero_grad()\n",
        "                loss.backward()\n",
        "                self.optimizer.step()\n",
        "                self.scheduler.step()\n",
        "\n",
        "                if self.step % 10 == 0:\n",
        "                    self.logfn({\"train/loss\": loss.item()})\n",
        "                    self.logfn({\"train/lr\": self.scheduler.get_last_lr()[0]})\n",
        "\n",
        "                self.step += 1\n",
        "\n",
        "            self.eval(\"train\")\n",
        "            self.eval(\"val\")\n",
        "\n",
        "        wandb.finish()\n",
        "        self.training_time = time.time() - self.training_time\n",
        "\n",
        "\n",
        "    # def test(self) -> None:\n",
        "    #     wandb.init(name=cfg[\"run_name\"]+\"_test\", entity=WANDB_USER, project=WANDB_PROJECT, config=cfg)\n",
        "    #     self.eval(\"test\")\n",
        "    #     wandb.finish()\n",
        "\n",
        "    @torch.no_grad()\n",
        "    def eval(self, split: str) -> None:\n",
        "        self.model.eval()\n",
        "\n",
        "        if split == \"train\":\n",
        "            loader = self.train_loader\n",
        "        elif split == \"val\":\n",
        "            loader = self.val_loader\n",
        "        # elif split == \"test\":\n",
        "        #     loader = self.test_loader\n",
        "        else:\n",
        "            raise ValueError(f\"Unknown split: {split}\")\n",
        "\n",
        "        acc = Accuracy(\"multiclass\", num_classes=self.num_classes).to(self.device)\n",
        "\n",
        "        losses = []\n",
        "        for imgs, labels in loader:\n",
        "            imgs = imgs.to(self.device)\n",
        "            labels = labels.to(self.device)\n",
        "\n",
        "            pred = self.model(imgs)\n",
        "            loss = F.cross_entropy(pred, labels)\n",
        "            losses.append(loss.item())\n",
        "\n",
        "            pred_softmax = F.softmax(pred, dim=-1)\n",
        "            acc(pred_softmax, labels)\n",
        "\n",
        "        loss = sum(losses) / len(losses)\n",
        "        accuracy = acc.compute()\n",
        "\n",
        "        self.logfn({f\"{split}/loss\": loss})\n",
        "        self.logfn({f\"{split}/acc\": accuracy})\n",
        "\n",
        "        if accuracy > self.best_acc and split == \"val\":\n",
        "            self.best_acc = accuracy\n",
        "            torch.save(self.model.state_dict(), self.ckpt_path / f\"{wandb.run.name}.pt\")\n",
        "            self.best_model = copy.deepcopy(self.model)\n",
        "\n",
        "    def save_model_params(self, cfg, data_transforms):\n",
        "        model_dir = os.path.join(\"params\", f\"{cfg['model']}_model\")\n",
        "        os.makedirs(model_dir, exist_ok=True)\n",
        "\n",
        "        timestamp = datetime.now().strftime(\"%Y-%m-%d-%H-%M-%S\")  # in order not to have duplicates\n",
        "        training_time_formatted = time.strftime('%H-%M-%S', time.gmtime(self.training_time))\n",
        "        file_name = f\"ACC={self.best_acc:.2f}____TT={training_time_formatted}____TM={timestamp}.json\"\n",
        "        file_path = os.path.join(model_dir, file_name)\n",
        "\n",
        "        combined_params = {\n",
        "            \"cfg\": cfg,\n",
        "            \"data_transforms\": {k: parse_compose(v) for k,v in data_transforms.items()},\n",
        "            \"model_structure\" : parse_compose(self.model)\n",
        "        }\n",
        "\n",
        "        with open(file_path, 'w') as f:\n",
        "            json.dump(combined_params, f, indent=4)"
      ]
    },
    {
      "cell_type": "code",
      "execution_count": 13,
      "metadata": {},
      "outputs": [],
      "source": [
        "# !wandb login --relogin 301c5db1df292fea814603255510519eb6564aff"
      ]
    },
    {
      "cell_type": "markdown",
      "metadata": {
        "id": "1de1sRClH8qS"
      },
      "source": [
        "### Models"
      ]
    },
    {
      "cell_type": "markdown",
      "metadata": {},
      "source": [
        "#### V1"
      ]
    },
    {
      "cell_type": "code",
      "execution_count": 14,
      "metadata": {
        "id": "VIQb1a3C-SuF"
      },
      "outputs": [],
      "source": [
        "class ProjectCNN_v1(nn.Module):\n",
        "    def __init__(self, n_classes, input_dim):\n",
        "        super(ProjectCNN_v1, self).__init__()\n",
        "        self.input_dim = input_dim\n",
        "\n",
        "        ## Convolutional layers\n",
        "        K, S, P = 3, 2, 0\n",
        "        self.conv1 = nn.Conv2d(in_channels=3, out_channels=32, kernel_size=7, stride=S, padding=P)  # 32 filters\n",
        "        self.pool = nn.MaxPool2d(kernel_size=2, stride=2, padding=0)\n",
        "        \n",
        "        self._to_linear = None\n",
        "        self._set_conv_output_size()\n",
        "        self.fc1 = nn.Linear(self._to_linear, 128)\n",
        "        self.fc2 = nn.Linear(128, n_classes)\n",
        "\n",
        "    def _set_conv_output_size(self):\n",
        "        x = torch.randn(1, 3, *self.input_dim)\n",
        "        x = self._forward(x)\n",
        "        self._to_linear = x.numel()\n",
        "\n",
        "    def _forward(self, x):\n",
        "        x = self.pool(F.relu(self.conv1(x)))  # 32 x 112 x 112\n",
        "        return x\n",
        "\n",
        "    def forward(self, x):\n",
        "        x = self._forward(x)\n",
        "        x = x.view(x.size(0), -1)  # Flatten for FC layer\n",
        "        x = F.relu(self.fc1(x))\n",
        "        x = self.fc2(x)\n",
        "        return x"
      ]
    },
    {
      "cell_type": "code",
      "execution_count": 15,
      "metadata": {},
      "outputs": [
        {
          "name": "stdout",
          "output_type": "stream",
          "text": [
            "----------------------------------------------------------------\n",
            "        Layer (type)               Output Shape         Param #\n",
            "================================================================\n",
            "            Conv2d-1         [-1, 32, 109, 109]           4,736\n",
            "         MaxPool2d-2           [-1, 32, 54, 54]               0\n",
            "            Linear-3                  [-1, 128]      11,944,064\n",
            "            Linear-4                   [-1, 43]           5,547\n",
            "================================================================\n",
            "Total params: 11,954,347\n",
            "Trainable params: 11,954,347\n",
            "Non-trainable params: 0\n",
            "----------------------------------------------------------------\n",
            "Input size (MB): 0.57\n",
            "Forward/backward pass size (MB): 3.61\n",
            "Params size (MB): 45.60\n",
            "Estimated Total Size (MB): 49.79\n",
            "----------------------------------------------------------------\n"
          ]
        }
      ],
      "source": [
        "model = ProjectCNN_v1(n_classes=len(classes),input_dim=(cfg[\"crop_size\"], cfg[\"crop_size\"]))\n",
        "if next(model.parameters()).device != device:\n",
        "    model.to(device)\n",
        "summary(\n",
        "    model,\n",
        "    input_size=(3, cfg[\"crop_size\"], cfg[\"crop_size\"])\n",
        ")"
      ]
    },
    {
      "cell_type": "code",
      "execution_count": 16,
      "metadata": {},
      "outputs": [
        {
          "name": "stderr",
          "output_type": "stream",
          "text": [
            "Failed to detect the name of this notebook, you can set it manually with the WANDB_NOTEBOOK_NAME environment variable to enable code saving.\n",
            "wandb: Currently logged in as: davidesonno (davidecrociati). Use `wandb login --relogin` to force relogin\n"
          ]
        },
        {
          "data": {
            "text/html": [
              "wandb version 0.17.6 is available!  To upgrade, please run:\n",
              " $ pip install wandb --upgrade"
            ],
            "text/plain": [
              "<IPython.core.display.HTML object>"
            ]
          },
          "metadata": {},
          "output_type": "display_data"
        },
        {
          "data": {
            "text/html": [
              "Tracking run with wandb version 0.17.5"
            ],
            "text/plain": [
              "<IPython.core.display.HTML object>"
            ]
          },
          "metadata": {},
          "output_type": "display_data"
        },
        {
          "data": {
            "text/html": [
              "Run data is saved locally in <code>c:\\Users\\Davide\\Documents\\GitHub\\IPCV-assignments\\part_two\\pelle\\wandb\\run-20240808_101939-i6f0urv1</code>"
            ],
            "text/plain": [
              "<IPython.core.display.HTML object>"
            ]
          },
          "metadata": {},
          "output_type": "display_data"
        },
        {
          "data": {
            "text/html": [
              "Syncing run <strong><a href='https://wandb.ai/davidecrociati/assignments%20part%20two/runs/i6f0urv1' target=\"_blank\">gpt_v1</a></strong> to <a href='https://wandb.ai/davidecrociati/assignments%20part%20two' target=\"_blank\">Weights & Biases</a> (<a href='https://wandb.me/run' target=\"_blank\">docs</a>)<br/>"
            ],
            "text/plain": [
              "<IPython.core.display.HTML object>"
            ]
          },
          "metadata": {},
          "output_type": "display_data"
        },
        {
          "data": {
            "text/html": [
              " View project at <a href='https://wandb.ai/davidecrociati/assignments%20part%20two' target=\"_blank\">https://wandb.ai/davidecrociati/assignments%20part%20two</a>"
            ],
            "text/plain": [
              "<IPython.core.display.HTML object>"
            ]
          },
          "metadata": {},
          "output_type": "display_data"
        },
        {
          "data": {
            "text/html": [
              " View run at <a href='https://wandb.ai/davidecrociati/assignments%20part%20two/runs/i6f0urv1' target=\"_blank\">https://wandb.ai/davidecrociati/assignments%20part%20two/runs/i6f0urv1</a>"
            ],
            "text/plain": [
              "<IPython.core.display.HTML object>"
            ]
          },
          "metadata": {},
          "output_type": "display_data"
        },
        {
          "data": {
            "application/vnd.jupyter.widget-view+json": {
              "model_id": "ac6c079066c54b01ab2448ed50fdce54",
              "version_major": 2,
              "version_minor": 0
            },
            "text/plain": [
              "Epoch:   0%|          | 0/15 [00:00<?, ?it/s]"
            ]
          },
          "metadata": {},
          "output_type": "display_data"
        },
        {
          "data": {
            "application/vnd.jupyter.widget-view+json": {
              "model_id": "1c33395c47b848d58a50f0f82a7dba30",
              "version_major": 2,
              "version_minor": 0
            },
            "text/plain": [
              "VBox(children=(Label(value='0.007 MB of 0.007 MB uploaded\\r'), FloatProgress(value=1.0, max=1.0)))"
            ]
          },
          "metadata": {},
          "output_type": "display_data"
        },
        {
          "data": {
            "text/html": [
              "<style>\n",
              "    table.wandb td:nth-child(1) { padding: 0 10px; text-align: left ; width: auto;} td:nth-child(2) {text-align: left ; width: 100%}\n",
              "    .wandb-row { display: flex; flex-direction: row; flex-wrap: wrap; justify-content: flex-start; width: 100% }\n",
              "    .wandb-col { display: flex; flex-direction: column; flex-basis: 100%; flex: 1; padding: 10px; }\n",
              "    </style>\n",
              "<div class=\"wandb-row\"><div class=\"wandb-col\"><h3>Run history:</h3><br/><table class=\"wandb\"><tr><td>train/acc</td><td>▁▄▇████████████</td></tr><tr><td>train/loss</td><td>█▇▆▅▅▃▃▂▂▁▁▁▁▁▁▁▁▁▁▁▁▁▁▁▁▁▁▁▁▁▁▁▁▁▁▁▁▁▁▁</td></tr><tr><td>train/lr</td><td>▁▁▁▁▁▁▁▁▁▁▁▁▁▁▁▁▁▁▁▁▁▁▁▁▁▁▁▁▁▁▁▁▁▁▁▁▁▁▁▁</td></tr><tr><td>val/acc</td><td>▁▇▂▅▇█▃▃▁▄▆▄▅▅▄</td></tr><tr><td>val/loss</td><td>▃▁▃▄▅▅▆▆▇▇▇▇▇██</td></tr></table><br/></div><div class=\"wandb-col\"><h3>Run summary:</h3><br/><table class=\"wandb\"><tr><td>train/acc</td><td>1.0</td></tr><tr><td>train/loss</td><td>0.00074</td></tr><tr><td>train/lr</td><td>0.001</td></tr><tr><td>val/acc</td><td>0.24324</td></tr><tr><td>val/loss</td><td>4.08489</td></tr></table><br/></div></div>"
            ],
            "text/plain": [
              "<IPython.core.display.HTML object>"
            ]
          },
          "metadata": {},
          "output_type": "display_data"
        },
        {
          "data": {
            "text/html": [
              " View run <strong style=\"color:#cdcd00\">gpt_v1</strong> at: <a href='https://wandb.ai/davidecrociati/assignments%20part%20two/runs/i6f0urv1' target=\"_blank\">https://wandb.ai/davidecrociati/assignments%20part%20two/runs/i6f0urv1</a><br/> View project at: <a href='https://wandb.ai/davidecrociati/assignments%20part%20two' target=\"_blank\">https://wandb.ai/davidecrociati/assignments%20part%20two</a><br/>Synced 4 W&B file(s), 0 media file(s), 0 artifact file(s) and 0 other file(s)"
            ],
            "text/plain": [
              "<IPython.core.display.HTML object>"
            ]
          },
          "metadata": {},
          "output_type": "display_data"
        },
        {
          "data": {
            "text/html": [
              "Find logs at: <code>.\\wandb\\run-20240808_101939-i6f0urv1\\logs</code>"
            ],
            "text/plain": [
              "<IPython.core.display.HTML object>"
            ]
          },
          "metadata": {},
          "output_type": "display_data"
        },
        {
          "data": {
            "text/html": [
              "The new W&B backend becomes opt-out in version 0.18.0; try it out with `wandb.require(\"core\")`! See https://wandb.me/wandb-core for more information."
            ],
            "text/plain": [
              "<IPython.core.display.HTML object>"
            ]
          },
          "metadata": {},
          "output_type": "display_data"
        },
        {
          "name": "stdout",
          "output_type": "stream",
          "text": [
            "Best val acc = 0.264\n"
          ]
        }
      ],
      "source": [
        "cfg[\"model\"] = \"gpt_v1\"\n",
        "cfg[\"scheduled\"]=False\n",
        "cfg[\"run_name\"] = f\"{cfg['model']}\" + (\"_scheduled\" if cfg[\"scheduled\"] else \"\")\n",
        "\n",
        "# Wandb key: 3f0834114b4b33656e70323616fa377c30c83542\n",
        "\n",
        "trainer = Trainer(\n",
        "    model,\n",
        "    loader_train,\n",
        "    loader_val,\n",
        "    loader_test,\n",
        "    device,\n",
        "    num_classes=len(classes.keys())\n",
        ")\n",
        "trainer.train()\n",
        "print(f\"Best val acc = {trainer.best_acc:.3f}\")\n",
        "# Log results\n",
        "trainer.save_model_params(cfg, data_transforms)"
      ]
    },
    {
      "cell_type": "markdown",
      "metadata": {},
      "source": [
        "#### V2"
      ]
    },
    {
      "cell_type": "code",
      "execution_count": 17,
      "metadata": {
        "id": "Y92sAoSf-SuG"
      },
      "outputs": [],
      "source": [
        "class ProjectCNN_v2(nn.Module):\n",
        "    def __init__(self, n_classes, input_dim):\n",
        "        super(ProjectCNN_v2, self).__init__()\n",
        "        self.input_dim = input_dim\n",
        "\n",
        "        ## Convolutional layers\n",
        "        K, S, P = 3, 2, 0\n",
        "        self.conv1 = nn.Conv2d(in_channels=3, out_channels=32, kernel_size=7, stride=S, padding=P)  # 32 filters\n",
        "        self.conv2 = nn.Conv2d(in_channels=32, out_channels=64, kernel_size=5, stride=S, padding=P) # 64 filters\n",
        "        self.pool = nn.MaxPool2d(kernel_size=2, stride=2, padding=0)\n",
        "\n",
        "        self._to_linear = None\n",
        "        self._set_conv_output_size()\n",
        "        self.fc1 = nn.Linear(self._to_linear, 128)\n",
        "        self.fc2 = nn.Linear(128, n_classes)\n",
        "\n",
        "    def _set_conv_output_size(self):\n",
        "        x = torch.randn(1, 3, *self.input_dim)\n",
        "        x = self._forward(x)\n",
        "        self._to_linear = x.numel()\n",
        "\n",
        "    def _forward(self, x):\n",
        "        x = self.pool(F.relu(self.conv1(x)))  # 32 x 112 x 112\n",
        "        x = self.pool(F.relu(self.conv2(x)))  # 64 x 56 x 56\n",
        "        return x\n",
        "\n",
        "    def forward(self, x):\n",
        "        x = self._forward(x)\n",
        "        x = x.view(x.size(0), -1)  # Flatten for FC layer\n",
        "        x = F.relu(self.fc1(x))\n",
        "        x = self.fc2(x)\n",
        "        return x"
      ]
    },
    {
      "cell_type": "code",
      "execution_count": 18,
      "metadata": {},
      "outputs": [
        {
          "name": "stdout",
          "output_type": "stream",
          "text": [
            "----------------------------------------------------------------\n",
            "        Layer (type)               Output Shape         Param #\n",
            "================================================================\n",
            "            Conv2d-1         [-1, 32, 109, 109]           4,736\n",
            "         MaxPool2d-2           [-1, 32, 54, 54]               0\n",
            "            Conv2d-3           [-1, 64, 25, 25]          51,264\n",
            "         MaxPool2d-4           [-1, 64, 12, 12]               0\n",
            "            Linear-5                  [-1, 128]       1,179,776\n",
            "            Linear-6                   [-1, 43]           5,547\n",
            "================================================================\n",
            "Total params: 1,241,323\n",
            "Trainable params: 1,241,323\n",
            "Non-trainable params: 0\n",
            "----------------------------------------------------------------\n",
            "Input size (MB): 0.57\n",
            "Forward/backward pass size (MB): 3.99\n",
            "Params size (MB): 4.74\n",
            "Estimated Total Size (MB): 9.30\n",
            "----------------------------------------------------------------\n"
          ]
        }
      ],
      "source": [
        "model = ProjectCNN_v2(n_classes=len(classes),input_dim=(cfg[\"crop_size\"], cfg[\"crop_size\"]))\n",
        "if next(model.parameters()).device != device:\n",
        "    model.to(device)\n",
        "summary(\n",
        "    model,\n",
        "    input_size=(3, cfg[\"crop_size\"], cfg[\"crop_size\"])\n",
        ")"
      ]
    },
    {
      "cell_type": "code",
      "execution_count": 19,
      "metadata": {},
      "outputs": [
        {
          "data": {
            "application/vnd.jupyter.widget-view+json": {
              "model_id": "948944b68a054598a84b2ed906081226",
              "version_major": 2,
              "version_minor": 0
            },
            "text/plain": [
              "VBox(children=(Label(value='Waiting for wandb.init()...\\r'), FloatProgress(value=0.011111111111111112, max=1.0…"
            ]
          },
          "metadata": {},
          "output_type": "display_data"
        },
        {
          "data": {
            "text/html": [
              "wandb version 0.17.6 is available!  To upgrade, please run:\n",
              " $ pip install wandb --upgrade"
            ],
            "text/plain": [
              "<IPython.core.display.HTML object>"
            ]
          },
          "metadata": {},
          "output_type": "display_data"
        },
        {
          "data": {
            "text/html": [
              "Tracking run with wandb version 0.17.5"
            ],
            "text/plain": [
              "<IPython.core.display.HTML object>"
            ]
          },
          "metadata": {},
          "output_type": "display_data"
        },
        {
          "data": {
            "text/html": [
              "Run data is saved locally in <code>c:\\Users\\Davide\\Documents\\GitHub\\IPCV-assignments\\part_two\\pelle\\wandb\\run-20240808_102342-aa0pnu82</code>"
            ],
            "text/plain": [
              "<IPython.core.display.HTML object>"
            ]
          },
          "metadata": {},
          "output_type": "display_data"
        },
        {
          "data": {
            "text/html": [
              "Syncing run <strong><a href='https://wandb.ai/davidecrociati/assignments%20part%20two/runs/aa0pnu82' target=\"_blank\">gpt_v2</a></strong> to <a href='https://wandb.ai/davidecrociati/assignments%20part%20two' target=\"_blank\">Weights & Biases</a> (<a href='https://wandb.me/run' target=\"_blank\">docs</a>)<br/>"
            ],
            "text/plain": [
              "<IPython.core.display.HTML object>"
            ]
          },
          "metadata": {},
          "output_type": "display_data"
        },
        {
          "data": {
            "text/html": [
              " View project at <a href='https://wandb.ai/davidecrociati/assignments%20part%20two' target=\"_blank\">https://wandb.ai/davidecrociati/assignments%20part%20two</a>"
            ],
            "text/plain": [
              "<IPython.core.display.HTML object>"
            ]
          },
          "metadata": {},
          "output_type": "display_data"
        },
        {
          "data": {
            "text/html": [
              " View run at <a href='https://wandb.ai/davidecrociati/assignments%20part%20two/runs/aa0pnu82' target=\"_blank\">https://wandb.ai/davidecrociati/assignments%20part%20two/runs/aa0pnu82</a>"
            ],
            "text/plain": [
              "<IPython.core.display.HTML object>"
            ]
          },
          "metadata": {},
          "output_type": "display_data"
        },
        {
          "data": {
            "application/vnd.jupyter.widget-view+json": {
              "model_id": "7163484a9995416a8d9c8433fc2cabab",
              "version_major": 2,
              "version_minor": 0
            },
            "text/plain": [
              "Epoch:   0%|          | 0/15 [00:00<?, ?it/s]"
            ]
          },
          "metadata": {},
          "output_type": "display_data"
        },
        {
          "data": {
            "application/vnd.jupyter.widget-view+json": {
              "model_id": "5684570e2e774bf1ae31e9f8d9e6dd0a",
              "version_major": 2,
              "version_minor": 0
            },
            "text/plain": [
              "VBox(children=(Label(value='0.001 MB of 0.006 MB uploaded\\r'), FloatProgress(value=0.21998485995457986, max=1.…"
            ]
          },
          "metadata": {},
          "output_type": "display_data"
        },
        {
          "data": {
            "text/html": [
              "<style>\n",
              "    table.wandb td:nth-child(1) { padding: 0 10px; text-align: left ; width: auto;} td:nth-child(2) {text-align: left ; width: 100%}\n",
              "    .wandb-row { display: flex; flex-direction: row; flex-wrap: wrap; justify-content: flex-start; width: 100% }\n",
              "    .wandb-col { display: flex; flex-direction: column; flex-basis: 100%; flex: 1; padding: 10px; }\n",
              "    </style>\n",
              "<div class=\"wandb-row\"><div class=\"wandb-col\"><h3>Run history:</h3><br/><table class=\"wandb\"><tr><td>train/acc</td><td>▁▃▄▅▆▆▇▆▇█▇████</td></tr><tr><td>train/loss</td><td>██▇▆▆▅▅▄▄▄▃▃▄▄▃▃▂▂▃▂▂▂▁▁▁▁▂▁▁▁▁▁▂▂▁▁▁▁▁▁</td></tr><tr><td>train/lr</td><td>▁▁▁▁▁▁▁▁▁▁▁▁▁▁▁▁▁▁▁▁▁▁▁▁▁▁▁▁▁▁▁▁▁▁▁▁▁▁▁▁</td></tr><tr><td>val/acc</td><td>▁▅▃▅▂▅▆▆▆██▅▅█▇</td></tr><tr><td>val/loss</td><td>▂▁▂▂▂▂▂▄▃▄▅▇▆▇█</td></tr></table><br/></div><div class=\"wandb-col\"><h3>Run summary:</h3><br/><table class=\"wandb\"><tr><td>train/acc</td><td>0.99697</td></tr><tr><td>train/loss</td><td>0.01929</td></tr><tr><td>train/lr</td><td>0.001</td></tr><tr><td>val/acc</td><td>0.29392</td></tr><tr><td>val/loss</td><td>5.15734</td></tr></table><br/></div></div>"
            ],
            "text/plain": [
              "<IPython.core.display.HTML object>"
            ]
          },
          "metadata": {},
          "output_type": "display_data"
        },
        {
          "data": {
            "text/html": [
              " View run <strong style=\"color:#cdcd00\">gpt_v2</strong> at: <a href='https://wandb.ai/davidecrociati/assignments%20part%20two/runs/aa0pnu82' target=\"_blank\">https://wandb.ai/davidecrociati/assignments%20part%20two/runs/aa0pnu82</a><br/> View project at: <a href='https://wandb.ai/davidecrociati/assignments%20part%20two' target=\"_blank\">https://wandb.ai/davidecrociati/assignments%20part%20two</a><br/>Synced 4 W&B file(s), 0 media file(s), 0 artifact file(s) and 0 other file(s)"
            ],
            "text/plain": [
              "<IPython.core.display.HTML object>"
            ]
          },
          "metadata": {},
          "output_type": "display_data"
        },
        {
          "data": {
            "text/html": [
              "Find logs at: <code>.\\wandb\\run-20240808_102342-aa0pnu82\\logs</code>"
            ],
            "text/plain": [
              "<IPython.core.display.HTML object>"
            ]
          },
          "metadata": {},
          "output_type": "display_data"
        },
        {
          "data": {
            "text/html": [
              "The new W&B backend becomes opt-out in version 0.18.0; try it out with `wandb.require(\"core\")`! See https://wandb.me/wandb-core for more information."
            ],
            "text/plain": [
              "<IPython.core.display.HTML object>"
            ]
          },
          "metadata": {},
          "output_type": "display_data"
        },
        {
          "name": "stdout",
          "output_type": "stream",
          "text": [
            "Best val acc = 0.324\n"
          ]
        }
      ],
      "source": [
        "cfg[\"model\"] = \"gpt_v2\"\n",
        "cfg[\"scheduled\"]=False\n",
        "cfg[\"run_name\"] = f\"{cfg['model']}\" + (\"_scheduled\" if cfg[\"scheduled\"] else \"\")\n",
        "\n",
        "# Wandb key: 3f0834114b4b33656e70323616fa377c30c83542\n",
        "\n",
        "trainer = Trainer(\n",
        "    model,\n",
        "    loader_train,\n",
        "    loader_val,\n",
        "    loader_test,\n",
        "    device,\n",
        "    num_classes=len(classes.keys())\n",
        ")\n",
        "trainer.train()\n",
        "print(f\"Best val acc = {trainer.best_acc:.3f}\")\n",
        "# Log results\n",
        "trainer.save_model_params(cfg, data_transforms)"
      ]
    },
    {
      "cell_type": "markdown",
      "metadata": {},
      "source": [
        "#### V3"
      ]
    },
    {
      "cell_type": "code",
      "execution_count": 20,
      "metadata": {
        "id": "eHixncdu-SuG"
      },
      "outputs": [],
      "source": [
        "class ProjectCNN_v3(nn.Module):\n",
        "    def __init__(self, n_classes, input_dim):\n",
        "        super(ProjectCNN_v3, self).__init__()\n",
        "        self.input_dim = input_dim\n",
        "\n",
        "        ## Convolutional layers\n",
        "        K, S, P = 3, 2, 0\n",
        "        self.conv1 = nn.Conv2d(in_channels=3, out_channels=32, kernel_size=7, stride=S, padding=P)  # 32 filters\n",
        "        self.conv2 = nn.Conv2d(in_channels=32, out_channels=64, kernel_size=5, stride=S, padding=P) # 64 filters\n",
        "        self.pool = nn.MaxPool2d(kernel_size=2, stride=2, padding=0)\n",
        "\n",
        "        self.dropout = nn.Dropout(p=0.5)\n",
        "\n",
        "        self._to_linear = None\n",
        "        self._set_conv_output_size()\n",
        "        self.fc1 = nn.Linear(self._to_linear, 128)\n",
        "        self.fc2 = nn.Linear(128, n_classes)\n",
        "\n",
        "    def _set_conv_output_size(self):\n",
        "        x = torch.randn(1, 3, *self.input_dim)\n",
        "        x = self._forward(x)\n",
        "        self._to_linear = x.numel()\n",
        "\n",
        "    def _forward(self, x):\n",
        "        x = self.pool(F.relu(self.conv1(x)))  # 32 x 112 x 112\n",
        "        x = self.pool(F.relu(self.conv2(x)))  # 64 x 56 x 56\n",
        "        return x\n",
        "\n",
        "    def forward(self, x):\n",
        "        x = self._forward(x)\n",
        "        x = x.view(x.size(0), -1)  # Flatten for FC layer\n",
        "        x = F.relu(self.fc1(x))\n",
        "        x = self.dropout(x)\n",
        "        x = self.fc2(x)\n",
        "        return x\n"
      ]
    },
    {
      "cell_type": "code",
      "execution_count": 21,
      "metadata": {},
      "outputs": [
        {
          "name": "stdout",
          "output_type": "stream",
          "text": [
            "----------------------------------------------------------------\n",
            "        Layer (type)               Output Shape         Param #\n",
            "================================================================\n",
            "            Conv2d-1         [-1, 32, 109, 109]           4,736\n",
            "         MaxPool2d-2           [-1, 32, 54, 54]               0\n",
            "            Conv2d-3           [-1, 64, 25, 25]          51,264\n",
            "         MaxPool2d-4           [-1, 64, 12, 12]               0\n",
            "            Linear-5                  [-1, 128]       1,179,776\n",
            "           Dropout-6                  [-1, 128]               0\n",
            "            Linear-7                   [-1, 43]           5,547\n",
            "================================================================\n",
            "Total params: 1,241,323\n",
            "Trainable params: 1,241,323\n",
            "Non-trainable params: 0\n",
            "----------------------------------------------------------------\n",
            "Input size (MB): 0.57\n",
            "Forward/backward pass size (MB): 3.99\n",
            "Params size (MB): 4.74\n",
            "Estimated Total Size (MB): 9.30\n",
            "----------------------------------------------------------------\n"
          ]
        }
      ],
      "source": [
        "model = ProjectCNN_v3(n_classes=len(classes),input_dim=(cfg[\"crop_size\"], cfg[\"crop_size\"]))\n",
        "if next(model.parameters()).device != device:\n",
        "    model.to(device)\n",
        "summary(\n",
        "    model,\n",
        "    input_size=(3, cfg[\"crop_size\"], cfg[\"crop_size\"])\n",
        ")\n"
      ]
    },
    {
      "cell_type": "code",
      "execution_count": 22,
      "metadata": {},
      "outputs": [
        {
          "data": {
            "application/vnd.jupyter.widget-view+json": {
              "model_id": "4c0ba69f78d743129372b735a42e63ea",
              "version_major": 2,
              "version_minor": 0
            },
            "text/plain": [
              "VBox(children=(Label(value='Waiting for wandb.init()...\\r'), FloatProgress(value=0.011111111111111112, max=1.0…"
            ]
          },
          "metadata": {},
          "output_type": "display_data"
        },
        {
          "data": {
            "text/html": [
              "wandb version 0.17.6 is available!  To upgrade, please run:\n",
              " $ pip install wandb --upgrade"
            ],
            "text/plain": [
              "<IPython.core.display.HTML object>"
            ]
          },
          "metadata": {},
          "output_type": "display_data"
        },
        {
          "data": {
            "text/html": [
              "Tracking run with wandb version 0.17.5"
            ],
            "text/plain": [
              "<IPython.core.display.HTML object>"
            ]
          },
          "metadata": {},
          "output_type": "display_data"
        },
        {
          "data": {
            "text/html": [
              "Run data is saved locally in <code>c:\\Users\\Davide\\Documents\\GitHub\\IPCV-assignments\\part_two\\pelle\\wandb\\run-20240808_102746-kidaxqh6</code>"
            ],
            "text/plain": [
              "<IPython.core.display.HTML object>"
            ]
          },
          "metadata": {},
          "output_type": "display_data"
        },
        {
          "data": {
            "text/html": [
              "Syncing run <strong><a href='https://wandb.ai/davidecrociati/assignments%20part%20two/runs/kidaxqh6' target=\"_blank\">gpt_v3</a></strong> to <a href='https://wandb.ai/davidecrociati/assignments%20part%20two' target=\"_blank\">Weights & Biases</a> (<a href='https://wandb.me/run' target=\"_blank\">docs</a>)<br/>"
            ],
            "text/plain": [
              "<IPython.core.display.HTML object>"
            ]
          },
          "metadata": {},
          "output_type": "display_data"
        },
        {
          "data": {
            "text/html": [
              " View project at <a href='https://wandb.ai/davidecrociati/assignments%20part%20two' target=\"_blank\">https://wandb.ai/davidecrociati/assignments%20part%20two</a>"
            ],
            "text/plain": [
              "<IPython.core.display.HTML object>"
            ]
          },
          "metadata": {},
          "output_type": "display_data"
        },
        {
          "data": {
            "text/html": [
              " View run at <a href='https://wandb.ai/davidecrociati/assignments%20part%20two/runs/kidaxqh6' target=\"_blank\">https://wandb.ai/davidecrociati/assignments%20part%20two/runs/kidaxqh6</a>"
            ],
            "text/plain": [
              "<IPython.core.display.HTML object>"
            ]
          },
          "metadata": {},
          "output_type": "display_data"
        },
        {
          "data": {
            "application/vnd.jupyter.widget-view+json": {
              "model_id": "6260d43a3f5d45e9bf398ceb8879cd9d",
              "version_major": 2,
              "version_minor": 0
            },
            "text/plain": [
              "Epoch:   0%|          | 0/15 [00:00<?, ?it/s]"
            ]
          },
          "metadata": {},
          "output_type": "display_data"
        },
        {
          "data": {
            "application/vnd.jupyter.widget-view+json": {
              "model_id": "0b68e519c7244b35bc0a331932d6b7b0",
              "version_major": 2,
              "version_minor": 0
            },
            "text/plain": [
              "VBox(children=(Label(value='0.005 MB of 0.007 MB uploaded\\r'), FloatProgress(value=0.8288419519300801, max=1.0…"
            ]
          },
          "metadata": {},
          "output_type": "display_data"
        },
        {
          "data": {
            "text/html": [
              "<style>\n",
              "    table.wandb td:nth-child(1) { padding: 0 10px; text-align: left ; width: auto;} td:nth-child(2) {text-align: left ; width: 100%}\n",
              "    .wandb-row { display: flex; flex-direction: row; flex-wrap: wrap; justify-content: flex-start; width: 100% }\n",
              "    .wandb-col { display: flex; flex-direction: column; flex-basis: 100%; flex: 1; padding: 10px; }\n",
              "    </style>\n",
              "<div class=\"wandb-row\"><div class=\"wandb-col\"><h3>Run history:</h3><br/><table class=\"wandb\"><tr><td>train/acc</td><td>▁▂▄▄▅▆▆▆▆▇▇▇███</td></tr><tr><td>train/loss</td><td>█▇▇▆▆▅▅▅▄▅▆▄▄▃▄▄▃▄▃▃▃▃▃▂▂▂▃▂▂▁▂▂▂▂▁▂▂▁▃▂</td></tr><tr><td>train/lr</td><td>▁▁▁▁▁▁▁▁▁▁▁▁▁▁▁▁▁▁▁▁▁▁▁▁▁▁▁▁▁▁▁▁▁▁▁▁▁▁▁▁</td></tr><tr><td>val/acc</td><td>▁▃▅▄▅▆▆▇▆▅█▆▆▇▆</td></tr><tr><td>val/loss</td><td>█▆▄▃▃▃▂▁▄▃▃▄▄▃▅</td></tr></table><br/></div><div class=\"wandb-col\"><h3>Run summary:</h3><br/><table class=\"wandb\"><tr><td>train/acc</td><td>0.84356</td></tr><tr><td>train/loss</td><td>0.45522</td></tr><tr><td>train/lr</td><td>0.001</td></tr><tr><td>val/acc</td><td>0.34122</td></tr><tr><td>val/loss</td><td>2.69859</td></tr></table><br/></div></div>"
            ],
            "text/plain": [
              "<IPython.core.display.HTML object>"
            ]
          },
          "metadata": {},
          "output_type": "display_data"
        },
        {
          "data": {
            "text/html": [
              " View run <strong style=\"color:#cdcd00\">gpt_v3</strong> at: <a href='https://wandb.ai/davidecrociati/assignments%20part%20two/runs/kidaxqh6' target=\"_blank\">https://wandb.ai/davidecrociati/assignments%20part%20two/runs/kidaxqh6</a><br/> View project at: <a href='https://wandb.ai/davidecrociati/assignments%20part%20two' target=\"_blank\">https://wandb.ai/davidecrociati/assignments%20part%20two</a><br/>Synced 4 W&B file(s), 0 media file(s), 0 artifact file(s) and 0 other file(s)"
            ],
            "text/plain": [
              "<IPython.core.display.HTML object>"
            ]
          },
          "metadata": {},
          "output_type": "display_data"
        },
        {
          "data": {
            "text/html": [
              "Find logs at: <code>.\\wandb\\run-20240808_102746-kidaxqh6\\logs</code>"
            ],
            "text/plain": [
              "<IPython.core.display.HTML object>"
            ]
          },
          "metadata": {},
          "output_type": "display_data"
        },
        {
          "data": {
            "text/html": [
              "The new W&B backend becomes opt-out in version 0.18.0; try it out with `wandb.require(\"core\")`! See https://wandb.me/wandb-core for more information."
            ],
            "text/plain": [
              "<IPython.core.display.HTML object>"
            ]
          },
          "metadata": {},
          "output_type": "display_data"
        },
        {
          "name": "stdout",
          "output_type": "stream",
          "text": [
            "Best val acc = 0.395\n"
          ]
        }
      ],
      "source": [
        "cfg[\"model\"] = \"gpt_v3\"\n",
        "cfg[\"scheduled\"]=False\n",
        "cfg[\"run_name\"] = f\"{cfg['model']}\" + (\"_scheduled\" if cfg[\"scheduled\"] else \"\")\n",
        "\n",
        "# Wandb key: 3f0834114b4b33656e70323616fa377c30c83542\n",
        "\n",
        "trainer = Trainer(\n",
        "    model,\n",
        "    loader_train,\n",
        "    loader_val,\n",
        "    loader_test,\n",
        "    device,\n",
        "    num_classes=len(classes.keys())\n",
        ")\n",
        "trainer.train()\n",
        "print(f\"Best val acc = {trainer.best_acc:.3f}\")\n",
        "# Log results\n",
        "trainer.save_model_params(cfg, data_transforms)"
      ]
    },
    {
      "cell_type": "markdown",
      "metadata": {},
      "source": [
        "#### V4"
      ]
    },
    {
      "cell_type": "code",
      "execution_count": 26,
      "metadata": {
        "id": "gr9BKlcL-SuG"
      },
      "outputs": [],
      "source": [
        "class ResidualBlock(nn.Module):\n",
        "    def __init__(self, in_channels, out_channels, stride=1):\n",
        "        super(ResidualBlock, self).__init__()\n",
        "        self.conv1 = nn.Conv2d(in_channels, out_channels, kernel_size=3, stride=stride, padding=1)\n",
        "        self.bn1 = nn.BatchNorm2d(out_channels)\n",
        "        self.conv2 = nn.Conv2d(out_channels, out_channels, kernel_size=3, stride=1, padding=1)\n",
        "        self.bn2 = nn.BatchNorm2d(out_channels)\n",
        "\n",
        "        self.shortcut = nn.Sequential()\n",
        "        if stride != 1 or in_channels != out_channels:\n",
        "            self.shortcut = nn.Sequential(\n",
        "                nn.Conv2d(in_channels, out_channels, kernel_size=1, stride=stride),\n",
        "                nn.BatchNorm2d(out_channels)\n",
        "            )\n",
        "\n",
        "    def forward(self, x):\n",
        "        out = F.relu(self.bn1(self.conv1(x)))\n",
        "        out = self.bn2(self.conv2(out))\n",
        "        out += self.shortcut(x)\n",
        "        out = F.relu(out)\n",
        "        return out\n",
        "\n",
        "class ProjectCNN_v4(nn.Module):\n",
        "    def __init__(self, n_classes, input_dim):\n",
        "        super(ProjectCNN_v4, self).__init__()\n",
        "        self.input_dim = input_dim\n",
        "\n",
        "        ## Convolutional layers\n",
        "        self.conv1 = nn.Conv2d(in_channels=3, out_channels=32, kernel_size=7, stride=2, padding=0)  # 32 filters\n",
        "        self.bn1 = nn.BatchNorm2d(32)\n",
        "        self.pool = nn.MaxPool2d(kernel_size=2, stride=2, padding=0)\n",
        "        \n",
        "        self.res_block1 = ResidualBlock(32, 64, stride=2)\n",
        "        self.res_block2 = ResidualBlock(64, 128, stride=2)\n",
        "\n",
        "        self.dropout = nn.Dropout(p=0.5)\n",
        "\n",
        "        self._to_linear = None\n",
        "        self._set_conv_output_size()\n",
        "        self.fc1 = nn.Linear(self._to_linear, 128)\n",
        "        self.fc2 = nn.Linear(128, n_classes)\n",
        "\n",
        "    def _set_conv_output_size(self):\n",
        "        x = torch.randn(1, 3, *self.input_dim)\n",
        "        x = self._forward(x)\n",
        "        self._to_linear = x.numel()\n",
        "\n",
        "    def _forward(self, x):\n",
        "        x = self.pool(F.relu(self.bn1(self.conv1(x))))  # Apply first conv + pool\n",
        "        x = self.res_block1(x)  # Apply first residual block\n",
        "        x = self.res_block2(x)  # Apply second residual block\n",
        "        return x\n",
        "\n",
        "    def forward(self, x):\n",
        "        x = self._forward(x)\n",
        "        x = x.view(x.size(0), -1)  # Flatten for FC layer\n",
        "        x = F.relu(self.fc1(x))\n",
        "        x = self.dropout(x)\n",
        "        x = self.fc2(x)\n",
        "        return x\n"
      ]
    },
    {
      "cell_type": "code",
      "execution_count": 27,
      "metadata": {},
      "outputs": [
        {
          "name": "stdout",
          "output_type": "stream",
          "text": [
            "----------------------------------------------------------------\n",
            "        Layer (type)               Output Shape         Param #\n",
            "================================================================\n",
            "            Conv2d-1         [-1, 32, 109, 109]           4,736\n",
            "       BatchNorm2d-2         [-1, 32, 109, 109]              64\n",
            "         MaxPool2d-3           [-1, 32, 54, 54]               0\n",
            "            Conv2d-4           [-1, 64, 27, 27]          18,496\n",
            "       BatchNorm2d-5           [-1, 64, 27, 27]             128\n",
            "            Conv2d-6           [-1, 64, 27, 27]          36,928\n",
            "       BatchNorm2d-7           [-1, 64, 27, 27]             128\n",
            "            Conv2d-8           [-1, 64, 27, 27]           2,112\n",
            "       BatchNorm2d-9           [-1, 64, 27, 27]             128\n",
            "    ResidualBlock-10           [-1, 64, 27, 27]               0\n",
            "           Conv2d-11          [-1, 128, 14, 14]          73,856\n",
            "      BatchNorm2d-12          [-1, 128, 14, 14]             256\n",
            "           Conv2d-13          [-1, 128, 14, 14]         147,584\n",
            "      BatchNorm2d-14          [-1, 128, 14, 14]             256\n",
            "           Conv2d-15          [-1, 128, 14, 14]           8,320\n",
            "      BatchNorm2d-16          [-1, 128, 14, 14]             256\n",
            "    ResidualBlock-17          [-1, 128, 14, 14]               0\n",
            "           Linear-18                  [-1, 128]       3,211,392\n",
            "          Dropout-19                  [-1, 128]               0\n",
            "           Linear-20                   [-1, 43]           5,547\n",
            "================================================================\n",
            "Total params: 3,510,187\n",
            "Trainable params: 3,510,187\n",
            "Non-trainable params: 0\n",
            "----------------------------------------------------------------\n",
            "Input size (MB): 0.57\n",
            "Forward/backward pass size (MB): 10.35\n",
            "Params size (MB): 13.39\n",
            "Estimated Total Size (MB): 24.31\n",
            "----------------------------------------------------------------\n"
          ]
        }
      ],
      "source": [
        "model = ProjectCNN_v4(n_classes=len(classes),input_dim=(cfg[\"crop_size\"], cfg[\"crop_size\"]))\n",
        "if next(model.parameters()).device != device:\n",
        "    model.to(device)\n",
        "summary(\n",
        "    model,\n",
        "    input_size=(3, cfg[\"crop_size\"], cfg[\"crop_size\"])\n",
        ")\n"
      ]
    },
    {
      "cell_type": "code",
      "execution_count": 28,
      "metadata": {},
      "outputs": [
        {
          "data": {
            "text/html": [
              "wandb version 0.17.6 is available!  To upgrade, please run:\n",
              " $ pip install wandb --upgrade"
            ],
            "text/plain": [
              "<IPython.core.display.HTML object>"
            ]
          },
          "metadata": {},
          "output_type": "display_data"
        },
        {
          "data": {
            "text/html": [
              "Tracking run with wandb version 0.17.5"
            ],
            "text/plain": [
              "<IPython.core.display.HTML object>"
            ]
          },
          "metadata": {},
          "output_type": "display_data"
        },
        {
          "data": {
            "text/html": [
              "Run data is saved locally in <code>c:\\Users\\Davide\\Documents\\GitHub\\IPCV-assignments\\part_two\\pelle\\wandb\\run-20240808_103630-500kj31j</code>"
            ],
            "text/plain": [
              "<IPython.core.display.HTML object>"
            ]
          },
          "metadata": {},
          "output_type": "display_data"
        },
        {
          "data": {
            "text/html": [
              "Syncing run <strong><a href='https://wandb.ai/davidecrociati/assignments%20part%20two/runs/500kj31j' target=\"_blank\">gpt_v4_res</a></strong> to <a href='https://wandb.ai/davidecrociati/assignments%20part%20two' target=\"_blank\">Weights & Biases</a> (<a href='https://wandb.me/run' target=\"_blank\">docs</a>)<br/>"
            ],
            "text/plain": [
              "<IPython.core.display.HTML object>"
            ]
          },
          "metadata": {},
          "output_type": "display_data"
        },
        {
          "data": {
            "text/html": [
              " View project at <a href='https://wandb.ai/davidecrociati/assignments%20part%20two' target=\"_blank\">https://wandb.ai/davidecrociati/assignments%20part%20two</a>"
            ],
            "text/plain": [
              "<IPython.core.display.HTML object>"
            ]
          },
          "metadata": {},
          "output_type": "display_data"
        },
        {
          "data": {
            "text/html": [
              " View run at <a href='https://wandb.ai/davidecrociati/assignments%20part%20two/runs/500kj31j' target=\"_blank\">https://wandb.ai/davidecrociati/assignments%20part%20two/runs/500kj31j</a>"
            ],
            "text/plain": [
              "<IPython.core.display.HTML object>"
            ]
          },
          "metadata": {},
          "output_type": "display_data"
        },
        {
          "data": {
            "application/vnd.jupyter.widget-view+json": {
              "model_id": "7d9946edf06442b695130a898e1cdd4e",
              "version_major": 2,
              "version_minor": 0
            },
            "text/plain": [
              "Epoch:   0%|          | 0/15 [00:00<?, ?it/s]"
            ]
          },
          "metadata": {},
          "output_type": "display_data"
        },
        {
          "data": {
            "application/vnd.jupyter.widget-view+json": {
              "model_id": "01803c87b2e14b41baf028fd7e844a2d",
              "version_major": 2,
              "version_minor": 0
            },
            "text/plain": [
              "VBox(children=(Label(value='0.001 MB of 0.007 MB uploaded\\r'), FloatProgress(value=0.21153006260008736, max=1.…"
            ]
          },
          "metadata": {},
          "output_type": "display_data"
        },
        {
          "data": {
            "text/html": [
              "<style>\n",
              "    table.wandb td:nth-child(1) { padding: 0 10px; text-align: left ; width: auto;} td:nth-child(2) {text-align: left ; width: 100%}\n",
              "    .wandb-row { display: flex; flex-direction: row; flex-wrap: wrap; justify-content: flex-start; width: 100% }\n",
              "    .wandb-col { display: flex; flex-direction: column; flex-basis: 100%; flex: 1; padding: 10px; }\n",
              "    </style>\n",
              "<div class=\"wandb-row\"><div class=\"wandb-col\"><h3>Run history:</h3><br/><table class=\"wandb\"><tr><td>train/acc</td><td>▁▁▃▃▄▄▄▆▆▆▆▆▆▇█</td></tr><tr><td>train/loss</td><td>█▇▇▇▆▇▄▆▄▅▄▄▄▄▄▅▃▃▅▃▄▂▃▃▂▄▃▃▃▁▃▃▂▃▁▂▂▁▂▂</td></tr><tr><td>train/lr</td><td>▁▁▁▁▁▁▁▁▁▁▁▁▁▁▁▁▁▁▁▁▁▁▁▁▁▁▁▁▁▁▁▁▁▁▁▁▁▁▁▁</td></tr><tr><td>val/acc</td><td>▁▂▃▅▄▄▄▅▅▆█▇▅▆▅</td></tr><tr><td>val/loss</td><td>█▇▆▄▄▅▄▃▃▁▁▅▄▂▂</td></tr></table><br/></div><div class=\"wandb-col\"><h3>Run summary:</h3><br/><table class=\"wandb\"><tr><td>train/acc</td><td>0.69318</td></tr><tr><td>train/loss</td><td>0.93931</td></tr><tr><td>train/lr</td><td>0.001</td></tr><tr><td>val/acc</td><td>0.28378</td></tr><tr><td>val/loss</td><td>2.47315</td></tr></table><br/></div></div>"
            ],
            "text/plain": [
              "<IPython.core.display.HTML object>"
            ]
          },
          "metadata": {},
          "output_type": "display_data"
        },
        {
          "data": {
            "text/html": [
              " View run <strong style=\"color:#cdcd00\">gpt_v4_res</strong> at: <a href='https://wandb.ai/davidecrociati/assignments%20part%20two/runs/500kj31j' target=\"_blank\">https://wandb.ai/davidecrociati/assignments%20part%20two/runs/500kj31j</a><br/> View project at: <a href='https://wandb.ai/davidecrociati/assignments%20part%20two' target=\"_blank\">https://wandb.ai/davidecrociati/assignments%20part%20two</a><br/>Synced 4 W&B file(s), 0 media file(s), 0 artifact file(s) and 0 other file(s)"
            ],
            "text/plain": [
              "<IPython.core.display.HTML object>"
            ]
          },
          "metadata": {},
          "output_type": "display_data"
        },
        {
          "data": {
            "text/html": [
              "Find logs at: <code>.\\wandb\\run-20240808_103630-500kj31j\\logs</code>"
            ],
            "text/plain": [
              "<IPython.core.display.HTML object>"
            ]
          },
          "metadata": {},
          "output_type": "display_data"
        },
        {
          "data": {
            "text/html": [
              "The new W&B backend becomes opt-out in version 0.18.0; try it out with `wandb.require(\"core\")`! See https://wandb.me/wandb-core for more information."
            ],
            "text/plain": [
              "<IPython.core.display.HTML object>"
            ]
          },
          "metadata": {},
          "output_type": "display_data"
        },
        {
          "name": "stdout",
          "output_type": "stream",
          "text": [
            "Best val acc = 0.345\n"
          ]
        }
      ],
      "source": [
        "cfg[\"model\"] = \"gpt_v4_res\"\n",
        "cfg[\"scheduled\"]=False\n",
        "cfg[\"run_name\"] = f\"{cfg['model']}\" + (\"_scheduled\" if cfg[\"scheduled\"] else \"\")\n",
        "\n",
        "# Wandb key: 3f0834114b4b33656e70323616fa377c30c83542\n",
        "\n",
        "trainer = Trainer(\n",
        "    model,\n",
        "    loader_train,\n",
        "    loader_val,\n",
        "    loader_test,\n",
        "    device,\n",
        "    num_classes=len(classes.keys())\n",
        ")\n",
        "trainer.train()\n",
        "print(f\"Best val acc = {trainer.best_acc:.3f}\")\n",
        "# Log results\n",
        "trainer.save_model_params(cfg, data_transforms)"
      ]
    },
    {
      "cell_type": "code",
      "execution_count": 29,
      "metadata": {},
      "outputs": [
        {
          "data": {
            "application/vnd.jupyter.widget-view+json": {
              "model_id": "92228a54a1ae4f25a2f16f4f94955694",
              "version_major": 2,
              "version_minor": 0
            },
            "text/plain": [
              "VBox(children=(Label(value='Waiting for wandb.init()...\\r'), FloatProgress(value=0.01128888888957186, max=1.0)…"
            ]
          },
          "metadata": {},
          "output_type": "display_data"
        },
        {
          "data": {
            "text/html": [
              "wandb version 0.17.6 is available!  To upgrade, please run:\n",
              " $ pip install wandb --upgrade"
            ],
            "text/plain": [
              "<IPython.core.display.HTML object>"
            ]
          },
          "metadata": {},
          "output_type": "display_data"
        },
        {
          "data": {
            "text/html": [
              "Tracking run with wandb version 0.17.5"
            ],
            "text/plain": [
              "<IPython.core.display.HTML object>"
            ]
          },
          "metadata": {},
          "output_type": "display_data"
        },
        {
          "data": {
            "text/html": [
              "Run data is saved locally in <code>c:\\Users\\Davide\\Documents\\GitHub\\IPCV-assignments\\part_two\\pelle\\wandb\\run-20240808_104041-jz5c0b5v</code>"
            ],
            "text/plain": [
              "<IPython.core.display.HTML object>"
            ]
          },
          "metadata": {},
          "output_type": "display_data"
        },
        {
          "data": {
            "text/html": [
              "Syncing run <strong><a href='https://wandb.ai/davidecrociati/assignments%20part%20two/runs/jz5c0b5v' target=\"_blank\">gpt_v4_res_augm</a></strong> to <a href='https://wandb.ai/davidecrociati/assignments%20part%20two' target=\"_blank\">Weights & Biases</a> (<a href='https://wandb.me/run' target=\"_blank\">docs</a>)<br/>"
            ],
            "text/plain": [
              "<IPython.core.display.HTML object>"
            ]
          },
          "metadata": {},
          "output_type": "display_data"
        },
        {
          "data": {
            "text/html": [
              " View project at <a href='https://wandb.ai/davidecrociati/assignments%20part%20two' target=\"_blank\">https://wandb.ai/davidecrociati/assignments%20part%20two</a>"
            ],
            "text/plain": [
              "<IPython.core.display.HTML object>"
            ]
          },
          "metadata": {},
          "output_type": "display_data"
        },
        {
          "data": {
            "text/html": [
              " View run at <a href='https://wandb.ai/davidecrociati/assignments%20part%20two/runs/jz5c0b5v' target=\"_blank\">https://wandb.ai/davidecrociati/assignments%20part%20two/runs/jz5c0b5v</a>"
            ],
            "text/plain": [
              "<IPython.core.display.HTML object>"
            ]
          },
          "metadata": {},
          "output_type": "display_data"
        },
        {
          "data": {
            "application/vnd.jupyter.widget-view+json": {
              "model_id": "eed13455ccb746bcb6a0d1d67da085df",
              "version_major": 2,
              "version_minor": 0
            },
            "text/plain": [
              "Epoch:   0%|          | 0/15 [00:00<?, ?it/s]"
            ]
          },
          "metadata": {},
          "output_type": "display_data"
        },
        {
          "data": {
            "application/vnd.jupyter.widget-view+json": {
              "model_id": "cc6cc91d63c44b02a566e5110b9f5b4a",
              "version_major": 2,
              "version_minor": 0
            },
            "text/plain": [
              "VBox(children=(Label(value='0.002 MB of 0.007 MB uploaded\\r'), FloatProgress(value=0.3467519255922104, max=1.0…"
            ]
          },
          "metadata": {},
          "output_type": "display_data"
        },
        {
          "data": {
            "text/html": [
              "<style>\n",
              "    table.wandb td:nth-child(1) { padding: 0 10px; text-align: left ; width: auto;} td:nth-child(2) {text-align: left ; width: 100%}\n",
              "    .wandb-row { display: flex; flex-direction: row; flex-wrap: wrap; justify-content: flex-start; width: 100% }\n",
              "    .wandb-col { display: flex; flex-direction: column; flex-basis: 100%; flex: 1; padding: 10px; }\n",
              "    </style>\n",
              "<div class=\"wandb-row\"><div class=\"wandb-col\"><h3>Run history:</h3><br/><table class=\"wandb\"><tr><td>train/acc</td><td>▁▁▁▄▂▅▄▆▅▄▆▇▇█▇</td></tr><tr><td>train/loss</td><td>▅▇▄▄▄▄▃▃▃▅▃█▃▃▃▂▂▃▃▄▃▃▃▂▂▃▃▃▃▁▃▃▂▃▂▂▄▁▃▃</td></tr><tr><td>train/lr</td><td>▁▁▁▁▁▁▁▁▁▁▁▁▁▁▁▁▁▁▁▁▁▁▁▁▁▁▁▁▁▁▁▁▁▁▁▁▁▁▁▁</td></tr><tr><td>val/acc</td><td>▄▁▁▄▂▅▇▆▃▅▅▆▅▇█</td></tr><tr><td>val/loss</td><td>▇██▅▄▅▆▄▅▅▄▃▄▁▃</td></tr></table><br/></div><div class=\"wandb-col\"><h3>Run summary:</h3><br/><table class=\"wandb\"><tr><td>train/acc</td><td>0.46591</td></tr><tr><td>train/loss</td><td>1.61174</td></tr><tr><td>train/lr</td><td>0.001</td></tr><tr><td>val/acc</td><td>0.39527</td></tr><tr><td>val/loss</td><td>2.11632</td></tr></table><br/></div></div>"
            ],
            "text/plain": [
              "<IPython.core.display.HTML object>"
            ]
          },
          "metadata": {},
          "output_type": "display_data"
        },
        {
          "data": {
            "text/html": [
              " View run <strong style=\"color:#cdcd00\">gpt_v4_res_augm</strong> at: <a href='https://wandb.ai/davidecrociati/assignments%20part%20two/runs/jz5c0b5v' target=\"_blank\">https://wandb.ai/davidecrociati/assignments%20part%20two/runs/jz5c0b5v</a><br/> View project at: <a href='https://wandb.ai/davidecrociati/assignments%20part%20two' target=\"_blank\">https://wandb.ai/davidecrociati/assignments%20part%20two</a><br/>Synced 4 W&B file(s), 0 media file(s), 0 artifact file(s) and 0 other file(s)"
            ],
            "text/plain": [
              "<IPython.core.display.HTML object>"
            ]
          },
          "metadata": {},
          "output_type": "display_data"
        },
        {
          "data": {
            "text/html": [
              "Find logs at: <code>.\\wandb\\run-20240808_104041-jz5c0b5v\\logs</code>"
            ],
            "text/plain": [
              "<IPython.core.display.HTML object>"
            ]
          },
          "metadata": {},
          "output_type": "display_data"
        },
        {
          "data": {
            "text/html": [
              "The new W&B backend becomes opt-out in version 0.18.0; try it out with `wandb.require(\"core\")`! See https://wandb.me/wandb-core for more information."
            ],
            "text/plain": [
              "<IPython.core.display.HTML object>"
            ]
          },
          "metadata": {},
          "output_type": "display_data"
        },
        {
          "name": "stdout",
          "output_type": "stream",
          "text": [
            "Best val acc = 0.395\n"
          ]
        }
      ],
      "source": [
        "cfg[\"model\"] = \"gpt_v4_res_augm\"\n",
        "cfg[\"scheduled\"]=False\n",
        "cfg[\"run_name\"] = f\"{cfg['model']}\" + (\"_scheduled\" if cfg[\"scheduled\"] else \"\")\n",
        "\n",
        "# Wandb key: 3f0834114b4b33656e70323616fa377c30c83542\n",
        "\n",
        "trainer = Trainer(\n",
        "    model,\n",
        "    loader_train_augm,\n",
        "    loader_val_augm,\n",
        "    loader_test_augm,\n",
        "    device,\n",
        "    num_classes=len(classes.keys())\n",
        ")\n",
        "trainer.train()\n",
        "print(f\"Best val acc = {trainer.best_acc:.3f}\")\n",
        "# Log results\n",
        "trainer.save_model_params(cfg, data_transforms)"
      ]
    },
    {
      "cell_type": "markdown",
      "metadata": {
        "id": "gkWEqSPoUIL3"
      },
      "source": [
        "## Part 2: fine-tune an existing network\n",
        "\n",
        "Your goal is to fine-tune a pretrained **ResNet-18** model on `GroceryStoreDataset`. Use the implementation provided by PyTorch, do not implement it yourselves! (i.e. exactly what you **could not** do in the first part of the assignment). Specifically, you must use the PyTorch ResNet-18 model pretrained on ImageNet-1K (V1). Divide your fine-tuning into two parts:\n",
        "\n",
        "1. First, fine-tune the Resnet-18 with the same training hyperparameters you used for your best model in the first part of the assignment.\n",
        "1. Then, tweak the training hyperparameters in order to increase the accuracy on the validation split of `GroceryStoreDataset`. Justify your choices by analyzing the training plots and/or citing sources that guided you in your decisions (papers, blog posts, YouTube videos, or whatever else you find enlightening). You should consider yourselves satisfied once you obtain a classification accuracy on the **validation** split **between 80 and 90%**."
      ]
    },
    {
      "cell_type": "markdown",
      "metadata": {
        "id": "jX48RzTypUuO"
      },
      "source": [
        "### 1) Fine-tune the Resnet-18 with the same training hyperparameters you used for your best model in the first part of the assignment."
      ]
    },
    {
      "cell_type": "code",
      "execution_count": null,
      "metadata": {
        "id": "Vtb4wn_vX8mN"
      },
      "outputs": [],
      "source": [
        "# Pretrained ResNet-18 on ImageNet-1K (V1)\n",
        "pt_resnet18 = resnet18(weights=ResNet18_Weights.IMAGENET1K_V1)"
      ]
    },
    {
      "cell_type": "code",
      "execution_count": null,
      "metadata": {
        "id": "dgE0KRTj6JSd"
      },
      "outputs": [],
      "source": [
        "## Freeze the pre-trained layers ##\n",
        "for param in pt_resnet18.parameters():\n",
        "    param.requires_grad = False\n",
        "\n",
        "## Modify the last layer ##\n",
        "pt_resnet18.fc = torch.nn.Linear(pt_resnet18.fc.in_features, len(classes.keys()))\n",
        "\n",
        "## First train\n",
        "cfg[\"run_name\"] = \"ResNet-18_pretrained_scratch-training\"\n",
        "## cfg[\"num_epochs\"] = 5\n",
        "trainer = Trainer(\n",
        "    pt_resnet18,\n",
        "    loader_train,\n",
        "    loader_val,\n",
        "    loader_test,\n",
        "    device,\n",
        "    num_classes=len(classes.keys())\n",
        ")\n",
        "trainer.train()"
      ]
    },
    {
      "cell_type": "code",
      "execution_count": null,
      "metadata": {
        "id": "-w4tkV0A5A3O"
      },
      "outputs": [],
      "source": [
        "print(f\"Best val acc (intermediate) = {trainer.best_acc:.3f}\")"
      ]
    },
    {
      "cell_type": "code",
      "execution_count": null,
      "metadata": {
        "id": "FRWEMxgM1KuQ"
      },
      "outputs": [],
      "source": [
        "## Load the state of the best accuracy\n",
        "sd = torch.load(f\"ckpts/{cfg['run_name']}.pt\")\n",
        "pt_resnet18.load_state_dict(sd)\n",
        "\n",
        "## Activate learning\n",
        "for param in pt_resnet18.parameters():\n",
        "    param.requires_grad = True\n",
        "\n",
        "## Fine tuning\n",
        "cfg[\"run_name\"] = \"ResNet-18_pretrained_fine-tuning\"\n",
        "cfg[\"lr\"] *= 0.1\n",
        "cfg[\"num_epochs\"] = 10\n",
        "trainer = Trainer(\n",
        "    pt_resnet18,\n",
        "    loader_train,\n",
        "    loader_val,\n",
        "    loader_test,\n",
        "    device,\n",
        "    num_classes=len(classes.keys())\n",
        ")\n",
        "trainer.train()"
      ]
    },
    {
      "cell_type": "code",
      "execution_count": null,
      "metadata": {
        "id": "0PFUF8KP5IOz"
      },
      "outputs": [],
      "source": [
        "print(f\"Best val acc (final) = {trainer.best_acc:.3f}\")"
      ]
    },
    {
      "cell_type": "markdown",
      "metadata": {
        "id": "AJ7yKSjLpfyf"
      },
      "source": [
        "### 2) Tweak the training hyperparameters in order to increase the accuracy on the validation split of `GroceryStoreDataset`."
      ]
    },
    {
      "cell_type": "code",
      "execution_count": null,
      "metadata": {
        "id": "d0TmxpVmpkkx"
      },
      "outputs": [],
      "source": [
        "# You need to do the same but with different cfg\n",
        "cfg_fine_tuning = {\n",
        "    \"resize_size\": 256,\n",
        "    \"crop_size\": 224,\n",
        "    \"batch_size\": 16,\n",
        "    \"num_epochs\": 30,\n",
        "    \"lr\": 1e-3,\n",
        "    \"wd\": 5e-4,\n",
        "    \"step_size\": 5,\n",
        "    'scheduled':True\n",
        "}\n",
        "cfg = cfg_fine_tuning"
      ]
    },
    {
      "cell_type": "code",
      "execution_count": null,
      "metadata": {
        "id": "7VQpcnWU14Vf"
      },
      "outputs": [],
      "source": [
        "## Freeze the pre-trained layers ##\n",
        "for param in pt_resnet18.parameters():\n",
        "    param.requires_grad = False\n",
        "\n",
        "## Modify the last layer ##\n",
        "pt_resnet18.fc = torch.nn.Linear(pt_resnet18.fc.in_features, len(classes.keys()))\n",
        "\n",
        "# First train\n",
        "cfg[\"run_name\"] = \"ResNet-18_pretrained_scratch-training_2\"\n",
        "# cfg[\"num_epochs\"] = 5\n",
        "trainer = Trainer(\n",
        "    pt_resnet18,\n",
        "    loader_train,\n",
        "    loader_val,\n",
        "    loader_test,\n",
        "    device,\n",
        "    num_classes=len(classes.keys())\n",
        ")\n",
        "trainer.train()\n",
        "print(f\"Best val acc (intermediate) = {trainer.best_acc:.3f}\")"
      ]
    },
    {
      "cell_type": "code",
      "execution_count": null,
      "metadata": {
        "id": "U4wM4IVL19IU"
      },
      "outputs": [],
      "source": [
        "# Load the state of the best accuracy\n",
        "sd = torch.load(f\"ckpts/{cfg['run_name']}.pt\")\n",
        "pt_resnet18.load_state_dict(sd)\n",
        "\n",
        "## Activate learning\n",
        "for param in pt_resnet18.parameters():\n",
        "    param.requires_grad = True\n",
        "\n",
        "# Fine tuning\n",
        "cfg[\"run_name\"] = \"ResNet-18_pretrained_fine-tuning_2\"\n",
        "cfg[\"lr\"] *= 0.1\n",
        "cfg[\"num_epochs\"] = 10\n",
        "trainer = Trainer(\n",
        "    pt_resnet18,\n",
        "    loader_train,\n",
        "    loader_val,\n",
        "    loader_test,\n",
        "    device,\n",
        "    num_classes=len(classes.keys())\n",
        ")\n",
        "trainer.train()\n",
        "print(f\"Best val acc (final) = {trainer.best_acc:.3f}\")"
      ]
    }
  ],
  "metadata": {
    "accelerator": "GPU",
    "colab": {
      "collapsed_sections": [
        "IEaLcecbH8qK",
        "32kWjbqzH8qM",
        "2F1cwsSnH8qO",
        "a1e0PtlZH8qQ",
        "1de1sRClH8qS"
      ],
      "gpuType": "T4",
      "provenance": []
    },
    "kernelspec": {
      "display_name": "Python 3",
      "name": "python3"
    },
    "language_info": {
      "codemirror_mode": {
        "name": "ipython",
        "version": 3
      },
      "file_extension": ".py",
      "mimetype": "text/x-python",
      "name": "python",
      "nbconvert_exporter": "python",
      "pygments_lexer": "ipython3",
      "version": "3.10.11"
    },
    "widgets": {
      "application/vnd.jupyter.widget-state+json": {
        "040fe1e1dd904d2aaf028534b512ccc1": {
          "model_module": "@jupyter-widgets/base",
          "model_module_version": "1.2.0",
          "model_name": "LayoutModel",
          "state": {
            "_model_module": "@jupyter-widgets/base",
            "_model_module_version": "1.2.0",
            "_model_name": "LayoutModel",
            "_view_count": null,
            "_view_module": "@jupyter-widgets/base",
            "_view_module_version": "1.2.0",
            "_view_name": "LayoutView",
            "align_content": null,
            "align_items": null,
            "align_self": null,
            "border": null,
            "bottom": null,
            "display": null,
            "flex": null,
            "flex_flow": null,
            "grid_area": null,
            "grid_auto_columns": null,
            "grid_auto_flow": null,
            "grid_auto_rows": null,
            "grid_column": null,
            "grid_gap": null,
            "grid_row": null,
            "grid_template_areas": null,
            "grid_template_columns": null,
            "grid_template_rows": null,
            "height": null,
            "justify_content": null,
            "justify_items": null,
            "left": null,
            "margin": null,
            "max_height": null,
            "max_width": null,
            "min_height": null,
            "min_width": null,
            "object_fit": null,
            "object_position": null,
            "order": null,
            "overflow": null,
            "overflow_x": null,
            "overflow_y": null,
            "padding": null,
            "right": null,
            "top": null,
            "visibility": null,
            "width": null
          }
        },
        "075fc403833a4156abeeffa2ac2df6c2": {
          "model_module": "@jupyter-widgets/base",
          "model_module_version": "1.2.0",
          "model_name": "LayoutModel",
          "state": {
            "_model_module": "@jupyter-widgets/base",
            "_model_module_version": "1.2.0",
            "_model_name": "LayoutModel",
            "_view_count": null,
            "_view_module": "@jupyter-widgets/base",
            "_view_module_version": "1.2.0",
            "_view_name": "LayoutView",
            "align_content": null,
            "align_items": null,
            "align_self": null,
            "border": null,
            "bottom": null,
            "display": null,
            "flex": null,
            "flex_flow": null,
            "grid_area": null,
            "grid_auto_columns": null,
            "grid_auto_flow": null,
            "grid_auto_rows": null,
            "grid_column": null,
            "grid_gap": null,
            "grid_row": null,
            "grid_template_areas": null,
            "grid_template_columns": null,
            "grid_template_rows": null,
            "height": null,
            "justify_content": null,
            "justify_items": null,
            "left": null,
            "margin": null,
            "max_height": null,
            "max_width": null,
            "min_height": null,
            "min_width": null,
            "object_fit": null,
            "object_position": null,
            "order": null,
            "overflow": null,
            "overflow_x": null,
            "overflow_y": null,
            "padding": null,
            "right": null,
            "top": null,
            "visibility": null,
            "width": null
          }
        },
        "22daac61aec74a72ba168bbaa6016142": {
          "model_module": "@jupyter-widgets/base",
          "model_module_version": "1.2.0",
          "model_name": "LayoutModel",
          "state": {
            "_model_module": "@jupyter-widgets/base",
            "_model_module_version": "1.2.0",
            "_model_name": "LayoutModel",
            "_view_count": null,
            "_view_module": "@jupyter-widgets/base",
            "_view_module_version": "1.2.0",
            "_view_name": "LayoutView",
            "align_content": null,
            "align_items": null,
            "align_self": null,
            "border": null,
            "bottom": null,
            "display": null,
            "flex": null,
            "flex_flow": null,
            "grid_area": null,
            "grid_auto_columns": null,
            "grid_auto_flow": null,
            "grid_auto_rows": null,
            "grid_column": null,
            "grid_gap": null,
            "grid_row": null,
            "grid_template_areas": null,
            "grid_template_columns": null,
            "grid_template_rows": null,
            "height": null,
            "justify_content": null,
            "justify_items": null,
            "left": null,
            "margin": null,
            "max_height": null,
            "max_width": null,
            "min_height": null,
            "min_width": null,
            "object_fit": null,
            "object_position": null,
            "order": null,
            "overflow": null,
            "overflow_x": null,
            "overflow_y": null,
            "padding": null,
            "right": null,
            "top": null,
            "visibility": null,
            "width": null
          }
        },
        "2347c18b708f4d3a9220066e4d079c79": {
          "model_module": "@jupyter-widgets/controls",
          "model_module_version": "1.5.0",
          "model_name": "ProgressStyleModel",
          "state": {
            "_model_module": "@jupyter-widgets/controls",
            "_model_module_version": "1.5.0",
            "_model_name": "ProgressStyleModel",
            "_view_count": null,
            "_view_module": "@jupyter-widgets/base",
            "_view_module_version": "1.2.0",
            "_view_name": "StyleView",
            "bar_color": null,
            "description_width": ""
          }
        },
        "47bda30d90c74e479bf61283872b1619": {
          "model_module": "@jupyter-widgets/controls",
          "model_module_version": "1.5.0",
          "model_name": "HTMLModel",
          "state": {
            "_dom_classes": [],
            "_model_module": "@jupyter-widgets/controls",
            "_model_module_version": "1.5.0",
            "_model_name": "HTMLModel",
            "_view_count": null,
            "_view_module": "@jupyter-widgets/controls",
            "_view_module_version": "1.5.0",
            "_view_name": "HTMLView",
            "description": "",
            "description_tooltip": null,
            "layout": "IPY_MODEL_22daac61aec74a72ba168bbaa6016142",
            "placeholder": "​",
            "style": "IPY_MODEL_6c69eba85b2e44f38f50f03d33151ed5",
            "value": "Epoch:   0%"
          }
        },
        "529c6eb1c4554d419bfa1b1fe0097af9": {
          "model_module": "@jupyter-widgets/controls",
          "model_module_version": "1.5.0",
          "model_name": "HBoxModel",
          "state": {
            "_dom_classes": [],
            "_model_module": "@jupyter-widgets/controls",
            "_model_module_version": "1.5.0",
            "_model_name": "HBoxModel",
            "_view_count": null,
            "_view_module": "@jupyter-widgets/controls",
            "_view_module_version": "1.5.0",
            "_view_name": "HBoxView",
            "box_style": "",
            "children": [
              "IPY_MODEL_47bda30d90c74e479bf61283872b1619",
              "IPY_MODEL_9cd1bf52e59f476b8ce040cd598c74ad",
              "IPY_MODEL_a2187fdbc26c44999b18ef1f0c970235"
            ],
            "layout": "IPY_MODEL_6bdaadac256b4e888b09407893931644"
          }
        },
        "6bdaadac256b4e888b09407893931644": {
          "model_module": "@jupyter-widgets/base",
          "model_module_version": "1.2.0",
          "model_name": "LayoutModel",
          "state": {
            "_model_module": "@jupyter-widgets/base",
            "_model_module_version": "1.2.0",
            "_model_name": "LayoutModel",
            "_view_count": null,
            "_view_module": "@jupyter-widgets/base",
            "_view_module_version": "1.2.0",
            "_view_name": "LayoutView",
            "align_content": null,
            "align_items": null,
            "align_self": null,
            "border": null,
            "bottom": null,
            "display": null,
            "flex": null,
            "flex_flow": null,
            "grid_area": null,
            "grid_auto_columns": null,
            "grid_auto_flow": null,
            "grid_auto_rows": null,
            "grid_column": null,
            "grid_gap": null,
            "grid_row": null,
            "grid_template_areas": null,
            "grid_template_columns": null,
            "grid_template_rows": null,
            "height": null,
            "justify_content": null,
            "justify_items": null,
            "left": null,
            "margin": null,
            "max_height": null,
            "max_width": null,
            "min_height": null,
            "min_width": null,
            "object_fit": null,
            "object_position": null,
            "order": null,
            "overflow": null,
            "overflow_x": null,
            "overflow_y": null,
            "padding": null,
            "right": null,
            "top": null,
            "visibility": null,
            "width": null
          }
        },
        "6c69eba85b2e44f38f50f03d33151ed5": {
          "model_module": "@jupyter-widgets/controls",
          "model_module_version": "1.5.0",
          "model_name": "DescriptionStyleModel",
          "state": {
            "_model_module": "@jupyter-widgets/controls",
            "_model_module_version": "1.5.0",
            "_model_name": "DescriptionStyleModel",
            "_view_count": null,
            "_view_module": "@jupyter-widgets/base",
            "_view_module_version": "1.2.0",
            "_view_name": "StyleView",
            "description_width": ""
          }
        },
        "8bee60b8c90b480e9424e121ae601b87": {
          "model_module": "@jupyter-widgets/controls",
          "model_module_version": "1.5.0",
          "model_name": "DescriptionStyleModel",
          "state": {
            "_model_module": "@jupyter-widgets/controls",
            "_model_module_version": "1.5.0",
            "_model_name": "DescriptionStyleModel",
            "_view_count": null,
            "_view_module": "@jupyter-widgets/base",
            "_view_module_version": "1.2.0",
            "_view_name": "StyleView",
            "description_width": ""
          }
        },
        "9cd1bf52e59f476b8ce040cd598c74ad": {
          "model_module": "@jupyter-widgets/controls",
          "model_module_version": "1.5.0",
          "model_name": "FloatProgressModel",
          "state": {
            "_dom_classes": [],
            "_model_module": "@jupyter-widgets/controls",
            "_model_module_version": "1.5.0",
            "_model_name": "FloatProgressModel",
            "_view_count": null,
            "_view_module": "@jupyter-widgets/controls",
            "_view_module_version": "1.5.0",
            "_view_name": "ProgressView",
            "bar_style": "",
            "description": "",
            "description_tooltip": null,
            "layout": "IPY_MODEL_075fc403833a4156abeeffa2ac2df6c2",
            "max": 50,
            "min": 0,
            "orientation": "horizontal",
            "style": "IPY_MODEL_2347c18b708f4d3a9220066e4d079c79",
            "value": 0
          }
        },
        "a2187fdbc26c44999b18ef1f0c970235": {
          "model_module": "@jupyter-widgets/controls",
          "model_module_version": "1.5.0",
          "model_name": "HTMLModel",
          "state": {
            "_dom_classes": [],
            "_model_module": "@jupyter-widgets/controls",
            "_model_module_version": "1.5.0",
            "_model_name": "HTMLModel",
            "_view_count": null,
            "_view_module": "@jupyter-widgets/controls",
            "_view_module_version": "1.5.0",
            "_view_name": "HTMLView",
            "description": "",
            "description_tooltip": null,
            "layout": "IPY_MODEL_040fe1e1dd904d2aaf028534b512ccc1",
            "placeholder": "​",
            "style": "IPY_MODEL_8bee60b8c90b480e9424e121ae601b87",
            "value": " 0/50 [00:00&lt;?, ?it/s]"
          }
        }
      }
    }
  },
  "nbformat": 4,
  "nbformat_minor": 0
}
